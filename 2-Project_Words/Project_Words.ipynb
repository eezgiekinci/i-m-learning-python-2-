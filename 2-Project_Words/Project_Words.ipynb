{
 "cells": [
  {
   "cell_type": "markdown",
   "metadata": {},
   "source": [
    "## Proje - Words"
   ]
  },
  {
   "cell_type": "markdown",
   "metadata": {},
   "source": [
    "In this project, we are going to do searching on words with some rules. <br>\n",
    "\n",
    "For example, we are going to try to find words which have no vowels etc. <br>\n",
    "\n",
    "We use Lorem Ipsum for the words\n"
   ]
  },
  {
   "cell_type": "markdown",
   "metadata": {},
   "source": [
    "**Preparation:**\n",
    "\n",
    "To read the words:\n",
    "\n",
    "* open()\n",
    "    * open(file, mode)\n",
    "    * mode:\n",
    "        * r: read (default)\n",
    "        * a: append\n",
    "        * w: write\n",
    "        * x: create"
   ]
  },
  {
   "cell_type": "code",
   "execution_count": 1,
   "metadata": {},
   "outputs": [
    {
     "name": "stdout",
     "output_type": "stream",
     "text": [
      "Lorem\n",
      "\n",
      "ipsum\n",
      "\n",
      "dolor\n",
      "\n",
      "sit\n",
      "\n",
      "amet\n",
      "\n",
      "consectetur\n",
      "\n",
      "adipiscing\n",
      "\n",
      "elit\n",
      "\n",
      "Nulla\n",
      "\n",
      "sodales\n",
      "\n",
      "orci\n",
      "\n",
      "sed\n",
      "\n",
      "nisl\n",
      "\n",
      "tempor\n",
      "\n",
      "tristique\n",
      "\n",
      "Donec\n",
      "\n",
      "commodo\n",
      "\n",
      "non\n",
      "\n",
      "leo\n",
      "\n",
      "quis\n",
      "\n",
      "fermentum\n",
      "\n"
     ]
    }
   ],
   "source": [
    "# find the first 20rd words: \n",
    "\n",
    "file = open('words.txt')\n",
    "\n",
    "for index, line in enumerate(file):\n",
    "    if index <= 20:\n",
    "        print(line)\n"
   ]
  },
  {
   "cell_type": "code",
   "execution_count": 2,
   "metadata": {},
   "outputs": [
    {
     "name": "stdout",
     "output_type": "stream",
     "text": [
      "['Lorem']\n",
      "['ipsum']\n",
      "['dolor']\n",
      "['sit']\n",
      "['amet']\n",
      "['consectetur']\n",
      "['adipiscing']\n",
      "['elit']\n",
      "['Nulla']\n",
      "['sodales']\n",
      "['orci']\n",
      "['sed']\n",
      "['nisl']\n",
      "['tempor']\n",
      "['tristique']\n",
      "['Donec']\n",
      "['commodo']\n",
      "['non']\n",
      "['leo']\n",
      "['quis']\n",
      "['fermentum']\n"
     ]
    }
   ],
   "source": [
    "file = open('words.txt')\n",
    "\n",
    "for index, line in enumerate(file):\n",
    "    if index <= 20:\n",
    "        words_list = line.split()\n",
    "        print(words_list)\n",
    "    else:\n",
    "        break\n",
    "        "
   ]
  },
  {
   "cell_type": "markdown",
   "metadata": {},
   "source": [
    "**Exercise 1:**\n",
    "\n",
    "Find the words which have number of letters more than 10:"
   ]
  },
  {
   "cell_type": "code",
   "execution_count": 3,
   "metadata": {},
   "outputs": [
    {
     "name": "stdout",
     "output_type": "stream",
     "text": [
      "consectetur\n",
      "pellentesque\n",
      "sollicitudin\n",
      "scelerisque\n",
      "ullamcorper\n",
      "condimentum\n",
      "Suspendisse\n"
     ]
    }
   ],
   "source": [
    "file = open('words.txt')\n",
    "\n",
    "for line in file:\n",
    "    \n",
    "    # turn into line to a list\n",
    "    word_list = line.split()\n",
    "    \n",
    "    # let's start with the first word in the word_list\n",
    "    word =  word_list[0]\n",
    "    \n",
    "    # have it number of letters more than 10?\n",
    "    if len(word) > 10:\n",
    "        print(word)\n",
    "    \n"
   ]
  },
  {
   "cell_type": "markdown",
   "metadata": {},
   "source": [
    "**Exercise 2:**\n",
    "\n",
    "Define a function which give us words which have no vowels.\n"
   ]
  },
  {
   "cell_type": "code",
   "execution_count": 4,
   "metadata": {},
   "outputs": [
    {
     "name": "stdout",
     "output_type": "stream",
     "text": [
      "In\n",
      "trylyk\n",
      "Antryl\n"
     ]
    }
   ],
   "source": [
    "file = open('words.txt')\n",
    "\n",
    "for line in file:\n",
    "    \n",
    "    # vowels: a, e, i, o, u\n",
    "    \n",
    "    # turn into line to a list\n",
    "    word_list = line.split()\n",
    "    \n",
    "    # let's start with the first word in the word_list\n",
    "    word =  word_list[0]\n",
    "    \n",
    "    # check all vowels one by one\n",
    "    if not 'a' in word and \\\n",
    "       not 'e' in word and \\\n",
    "       not 'i' in word and \\\n",
    "       not 'o' in word and \\\n",
    "       not 'u' in word:\n",
    "        print(word)\n"
   ]
  },
  {
   "cell_type": "markdown",
   "metadata": {},
   "source": [
    "Let's find words which have 'ae':"
   ]
  },
  {
   "cell_type": "code",
   "execution_count": 5,
   "metadata": {},
   "outputs": [
    {
     "name": "stdout",
     "output_type": "stream",
     "text": [
      "vitae\n",
      "Praesent\n",
      "Maecenas\n"
     ]
    }
   ],
   "source": [
    "file = open('words.txt')\n",
    "\n",
    "for line in file:\n",
    "    \n",
    "    # vowels: a, e, i, o, u\n",
    "    \n",
    "    # turn into line to a list\n",
    "    word_list = line.split()\n",
    "    \n",
    "    # let's start with the first word in the word_list\n",
    "    word =  word_list[0]\n",
    "    \n",
    "    if 'ae' in word:\n",
    "        print(word)\n",
    "    "
   ]
  },
  {
   "cell_type": "markdown",
   "metadata": {},
   "source": [
    "**Exercise 3:**\n",
    "\n"
   ]
  },
  {
   "cell_type": "markdown",
   "metadata": {},
   "source": [
    "Define a function which is called **any_forbidden_letters**\n",
    "\n",
    "A text and forbidden_letters are given as a parameters.\n",
    "\n",
    "If there are one of forbitten letters, it returns True. If not, it returns False.\n"
   ]
  },
  {
   "cell_type": "code",
   "execution_count": 6,
   "metadata": {},
   "outputs": [],
   "source": [
    "def any_forbidden_letters(text,forbidden_letters):\n",
    "    \n",
    "    for letter in text:\n",
    "        if letter in forbidden_letters:\n",
    "            return True\n",
    "    else:\n",
    "        return False\n"
   ]
  },
  {
   "cell_type": "code",
   "execution_count": 7,
   "metadata": {},
   "outputs": [
    {
     "data": {
      "text/plain": [
       "True"
      ]
     },
     "execution_count": 7,
     "metadata": {},
     "output_type": "execute_result"
    }
   ],
   "source": [
    "text = 'This is just a text.'\n",
    "forbiddens = 'ae'\n",
    "\n",
    "any_forbidden_letters(text, forbiddens)"
   ]
  },
  {
   "cell_type": "code",
   "execution_count": 8,
   "metadata": {},
   "outputs": [
    {
     "data": {
      "text/plain": [
       "False"
      ]
     },
     "execution_count": 8,
     "metadata": {},
     "output_type": "execute_result"
    }
   ],
   "source": [
    "text = 'she eats a banana everyday.'\n",
    "forbiddens = 'uo'\n",
    "\n",
    "any_forbidden_letters(text, forbiddens)"
   ]
  },
  {
   "cell_type": "markdown",
   "metadata": {},
   "source": [
    "**Exercise 4:**\n",
    "\n",
    "Define a function is called **it_uses_only_them**\n",
    "\n",
    "A text and letters are given as a parameters.\n",
    "\n",
    "If the word includes only these letters, it returns True.\n",
    "\n",
    "But it includes another letters, it returns False.\n"
   ]
  },
  {
   "cell_type": "code",
   "execution_count": 9,
   "metadata": {},
   "outputs": [],
   "source": [
    "def it_uses_only_them(text, letters):\n",
    "    \n",
    "    for letter in text:\n",
    "        \n",
    "        # is it a letter or a punctuation?  -> isalpha()\n",
    "        \n",
    "        if letter.isalpha() and not letter in letters:\n",
    "            return False\n",
    "    else:\n",
    "        return True\n"
   ]
  },
  {
   "cell_type": "code",
   "execution_count": 13,
   "metadata": {},
   "outputs": [
    {
     "data": {
      "text/plain": [
       "True"
      ]
     },
     "execution_count": 13,
     "metadata": {},
     "output_type": "execute_result"
    }
   ],
   "source": [
    "text = 'aliens are real'\n",
    "letters = 'aliensr'\n",
    "it_uses_only_them(text, letters)"
   ]
  },
  {
   "cell_type": "code",
   "execution_count": 14,
   "metadata": {},
   "outputs": [
    {
     "data": {
      "text/plain": [
       "{' ', 'a', 'e', 'i', 'l', 'n', 'r', 's'}"
      ]
     },
     "execution_count": 14,
     "metadata": {},
     "output_type": "execute_result"
    }
   ],
   "source": [
    "set('aliens are real')"
   ]
  },
  {
   "cell_type": "code",
   "execution_count": 15,
   "metadata": {},
   "outputs": [
    {
     "data": {
      "text/plain": [
       "False"
      ]
     },
     "execution_count": 15,
     "metadata": {},
     "output_type": "execute_result"
    }
   ],
   "source": [
    "# we added differents letters for testing the code.\n",
    "\n",
    "text = 'aliens are real qq'\n",
    "letters = 'aliensr'\n",
    "it_uses_only_them(text, letters)"
   ]
  },
  {
   "cell_type": "markdown",
   "metadata": {},
   "source": [
    "**Exercise 5:**\n",
    "\n",
    "Using the function from exercise 4:\n",
    "\n",
    "Find the words which have only \"ens\" letters from Lorem Ipsum:\n"
   ]
  },
  {
   "cell_type": "code",
   "execution_count": 16,
   "metadata": {},
   "outputs": [],
   "source": [
    "def lorem_uses_only_them(letters):\n",
    "    \n",
    "    file = open('words.txt')\n",
    "    \n",
    "    for line in file:\n",
    "        \n",
    "        word_list = line.split()\n",
    "        word =  word_list[0]\n",
    "        \n",
    "        if it_uses_only_them(word, letters):\n",
    "            print(word)\n",
    "    "
   ]
  },
  {
   "cell_type": "code",
   "execution_count": 17,
   "metadata": {},
   "outputs": [
    {
     "name": "stdout",
     "output_type": "stream",
     "text": [
      "sesse\n",
      "nesnes\n",
      "senesses\n"
     ]
    }
   ],
   "source": [
    "letters = 'ens'\n",
    "lorem_uses_only_them(letters)"
   ]
  },
  {
   "cell_type": "markdown",
   "metadata": {},
   "source": [
    "**Exercise 6:**\n",
    "\n",
    "Define a function is called **it_uses_all_of_them**\n",
    "\n",
    "A text and letters are given as a parameters.\n",
    "\n",
    "If the text includes one of given letters, it returns True.\n",
    "\n",
    "But it does not include, it returns False."
   ]
  },
  {
   "cell_type": "code",
   "execution_count": 25,
   "metadata": {},
   "outputs": [],
   "source": [
    "def it_uses_all_of_them(text, letters):\n",
    "    \n",
    "    uses_all = True\n",
    "    \n",
    "    for letter in letters:\n",
    "        # If there are no any letters -> False\n",
    "        if not letter in text:\n",
    "            uses_all = False\n",
    "            \n",
    "\n",
    "    return uses_all\n",
    "    "
   ]
  },
  {
   "cell_type": "code",
   "execution_count": 26,
   "metadata": {},
   "outputs": [
    {
     "data": {
      "text/plain": [
       "False"
      ]
     },
     "execution_count": 26,
     "metadata": {},
     "output_type": "execute_result"
    }
   ],
   "source": [
    "letters = 'aectk'\n",
    "text = 'The car passed the railway'\n",
    "\n",
    "it_uses_all_of_them(text, letters)"
   ]
  },
  {
   "cell_type": "code",
   "execution_count": null,
   "metadata": {},
   "outputs": [],
   "source": []
  },
  {
   "cell_type": "markdown",
   "metadata": {},
   "source": [
    "**Exercise 7:**"
   ]
  },
  {
   "cell_type": "markdown",
   "metadata": {},
   "source": [
    "Using the function ( **it_uses_all_of_them** )from exercise 6:\n",
    "\n",
    "Find the words which have  \"aei\" letters from Lorem Ipsum:\n"
   ]
  },
  {
   "cell_type": "code",
   "execution_count": 28,
   "metadata": {},
   "outputs": [],
   "source": [
    "def lorem_uses_all_of_them(letters):\n",
    "    \n",
    "    file = open('words.txt')\n",
    "    \n",
    "    for line in file:\n",
    "        \n",
    "        word_list = line.split()\n",
    "        word =  word_list[0]\n",
    "        \n",
    "        # does the word have all letters of parameter's letter?\n",
    "        if it_uses_all_of_them(word, letters):\n",
    "            print(word)\n"
   ]
  },
  {
   "cell_type": "code",
   "execution_count": 29,
   "metadata": {},
   "outputs": [
    {
     "name": "stdout",
     "output_type": "stream",
     "text": [
      "feugiat\n",
      "penatibus\n",
      "parturient\n",
      "venenatis\n",
      "vitae\n",
      "aliquet\n",
      "sapien\n",
      "viverra\n",
      "vehicula\n",
      "habitasse\n"
     ]
    }
   ],
   "source": [
    "letters = 'aei'\n",
    "\n",
    "lorem_uses_all_of_them(letters)"
   ]
  },
  {
   "cell_type": "markdown",
   "metadata": {},
   "source": [
    "**Exercise 8:**\n",
    "\n",
    "* Using the function from exercise 4 **it_uses_only_them**\n",
    "\n",
    "* Using the function from exercise 6 **it_uses_all_of_them**\n",
    "\n",
    "Find the words which include only \"fir\". The words should not include another letters.\n",
    "\n",
    "Function name is **only_uses()**"
   ]
  },
  {
   "cell_type": "code",
   "execution_count": 32,
   "metadata": {},
   "outputs": [],
   "source": [
    "def only_uses(letters):\n",
    "    \n",
    "    file = open('words.txt')\n",
    "    \n",
    "    for line in file:\n",
    "        \n",
    "        word_list = line.split()\n",
    "        word =  word_list[0]\n",
    "        \n",
    "        # şimdi bu kelime sadece harfler ama tüm harfleri mi kullanıyor\n",
    "        if it_uses_only_them(word, letters) and it_uses_all_of_them(word, letters):\n",
    "            print(word)\n",
    "        "
   ]
  },
  {
   "cell_type": "code",
   "execution_count": 33,
   "metadata": {},
   "outputs": [
    {
     "name": "stdout",
     "output_type": "stream",
     "text": [
      "frifirri\n"
     ]
    }
   ],
   "source": [
    "letters = 'fir'\n",
    "\n",
    "only_uses(letters)"
   ]
  },
  {
   "cell_type": "markdown",
   "metadata": {},
   "source": [
    "**Exercise 9:**\n",
    "\n",
    "If the letters of a word are in alphabetical order, call this word as a **correct_word**\n",
    "\n",
    "Define a function that is called **is_it_correct_word**\n",
    "\n",
    "If it is, returns True. If not, returns False\n",
    "\n",
    "Example of correct words: ace , agor\n"
   ]
  },
  {
   "cell_type": "code",
   "execution_count": 34,
   "metadata": {},
   "outputs": [],
   "source": [
    "def is_it_correct_word(word):\n",
    "    \n",
    "    # alphabetical order -> ASCII\n",
    "    \n",
    "    previous = word[0]\n",
    "    \n",
    "    for letter in word:\n",
    "        \n",
    "        if letter < previous:\n",
    "            return False\n",
    "        \n",
    "        previous = letter\n",
    "        \n",
    "    return True\n",
    "    "
   ]
  },
  {
   "cell_type": "code",
   "execution_count": 35,
   "metadata": {},
   "outputs": [
    {
     "data": {
      "text/plain": [
       "True"
      ]
     },
     "execution_count": 35,
     "metadata": {},
     "output_type": "execute_result"
    }
   ],
   "source": [
    "is_it_correct_word(\"ace\")"
   ]
  },
  {
   "cell_type": "code",
   "execution_count": 36,
   "metadata": {},
   "outputs": [
    {
     "data": {
      "text/plain": [
       "True"
      ]
     },
     "execution_count": 36,
     "metadata": {},
     "output_type": "execute_result"
    }
   ],
   "source": [
    "is_it_correct_word(\"agor\")"
   ]
  },
  {
   "cell_type": "code",
   "execution_count": 38,
   "metadata": {},
   "outputs": [
    {
     "data": {
      "text/plain": [
       "False"
      ]
     },
     "execution_count": 38,
     "metadata": {},
     "output_type": "execute_result"
    }
   ],
   "source": [
    "is_it_correct_word(\"text\")"
   ]
  },
  {
   "cell_type": "code",
   "execution_count": 39,
   "metadata": {},
   "outputs": [
    {
     "data": {
      "text/plain": [
       "True"
      ]
     },
     "execution_count": 39,
     "metadata": {},
     "output_type": "execute_result"
    }
   ],
   "source": [
    "is_it_correct_word(\"abcdef\")"
   ]
  },
  {
   "cell_type": "markdown",
   "metadata": {},
   "source": [
    "**Exercise 10:**\n",
    "\n",
    "Using the function from exercise 9 **is_it_correct_word**\n",
    "\n",
    "Check Lorem Ipsum' words which are correct.\n",
    "\n",
    "Lorem kelimelerinden hangilerinin düzgün kelime olduğunu bulalım."
   ]
  },
  {
   "cell_type": "code",
   "execution_count": 40,
   "metadata": {},
   "outputs": [],
   "source": [
    "def is_lorem_correct_word():\n",
    "    \n",
    "    file = open('words.txt')\n",
    "    \n",
    "    for line in file:\n",
    "        \n",
    "        word_list = line.split()\n",
    "        word =  word_list[0]\n",
    "\n",
    "        if is_it_correct_word(word):\n",
    "            print(word)\n",
    "        "
   ]
  },
  {
   "cell_type": "code",
   "execution_count": 41,
   "metadata": {},
   "outputs": [
    {
     "name": "stdout",
     "output_type": "stream",
     "text": [
      "in\n",
      "at\n",
      "In\n",
      "eu\n",
      "et\n",
      "dis\n",
      "ac\n",
      "ex\n",
      "a\n",
      "Nam\n",
      "est\n"
     ]
    }
   ],
   "source": [
    "is_lorem_correct_word()"
   ]
  },
  {
   "cell_type": "code",
   "execution_count": null,
   "metadata": {},
   "outputs": [],
   "source": []
  },
  {
   "cell_type": "code",
   "execution_count": null,
   "metadata": {},
   "outputs": [],
   "source": []
  }
 ],
 "metadata": {
  "kernelspec": {
   "display_name": "Python 3 (ipykernel)",
   "language": "python",
   "name": "python3"
  },
  "language_info": {
   "codemirror_mode": {
    "name": "ipython",
    "version": 3
   },
   "file_extension": ".py",
   "mimetype": "text/x-python",
   "name": "python",
   "nbconvert_exporter": "python",
   "pygments_lexer": "ipython3",
   "version": "3.9.12"
  }
 },
 "nbformat": 4,
 "nbformat_minor": 4
}
