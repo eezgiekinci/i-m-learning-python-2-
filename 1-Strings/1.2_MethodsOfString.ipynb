{
 "cells": [
  {
   "cell_type": "markdown",
   "id": "7823db97-a6bc-4fbb-a7d4-ad6d3601ca17",
   "metadata": {},
   "source": [
    "## Methods of String"
   ]
  },
  {
   "cell_type": "markdown",
   "id": "8f6edd06-4c16-4f85-b080-472a2a32d665",
   "metadata": {},
   "source": [
    "* the **upper()** capitalizes all letters:\n",
    "\n"
   ]
  },
  {
   "cell_type": "code",
   "execution_count": 1,
   "id": "b6bc7a49-e5aa-4d1f-9e0d-85839bb55fa0",
   "metadata": {},
   "outputs": [
    {
     "data": {
      "text/plain": [
       "'DEEP LEARNING'"
      ]
     },
     "execution_count": 1,
     "metadata": {},
     "output_type": "execute_result"
    }
   ],
   "source": [
    "text1 = \"deep learning\"\n",
    "\n",
    "text1.upper()"
   ]
  },
  {
   "cell_type": "markdown",
   "id": "bdd4941d-277f-4b73-96c7-c387bd1dd71a",
   "metadata": {},
   "source": [
    "* the **lower()** makes all letters lowercase:\n"
   ]
  },
  {
   "cell_type": "code",
   "execution_count": 2,
   "id": "edde9938-f2ba-4d88-a501-b0e588d9d6de",
   "metadata": {},
   "outputs": [
    {
     "data": {
      "text/plain": [
       "'rock and roll'"
      ]
     },
     "execution_count": 2,
     "metadata": {},
     "output_type": "execute_result"
    }
   ],
   "source": [
    "text2 = \"rOcK aNd RoLL\"\n",
    "\n",
    "text2.lower()"
   ]
  },
  {
   "cell_type": "markdown",
   "id": "3125171c-056f-4dd5-8e6a-788e02ac136c",
   "metadata": {},
   "source": [
    "* the **strip()** removes space characters at the beginning and end of text:\n"
   ]
  },
  {
   "cell_type": "code",
   "execution_count": 3,
   "id": "0434c368-fbed-435b-a9cc-5edd389ad853",
   "metadata": {},
   "outputs": [
    {
     "data": {
      "text/plain": [
       "'This is a sentence.'"
      ]
     },
     "execution_count": 3,
     "metadata": {},
     "output_type": "execute_result"
    }
   ],
   "source": [
    "text3 = \" This is a sentence. \"\n",
    "text3.strip()"
   ]
  },
  {
   "cell_type": "markdown",
   "id": "ce5375a1-5d2f-4321-95e1-ad368a815579",
   "metadata": {},
   "source": [
    "* the **lstrip()** removes space character at the beginning of text:"
   ]
  },
  {
   "cell_type": "code",
   "execution_count": 4,
   "id": "d859213f-e692-41cd-863b-d4efd00df199",
   "metadata": {},
   "outputs": [
    {
     "data": {
      "text/plain": [
       "'There are some spaces at the beginning of the text'"
      ]
     },
     "execution_count": 4,
     "metadata": {},
     "output_type": "execute_result"
    }
   ],
   "source": [
    "text4 = \"    There are some spaces at the beginning of the text\"\n",
    "text4.lstrip()"
   ]
  },
  {
   "cell_type": "markdown",
   "id": "98e7e56f-497f-43cc-9867-809facd318f4",
   "metadata": {},
   "source": [
    "* the **rstrip()** removes space character at the end of text:"
   ]
  },
  {
   "cell_type": "code",
   "execution_count": 5,
   "id": "1b7c49c0-a8be-4152-b581-8af64e9627a7",
   "metadata": {},
   "outputs": [
    {
     "data": {
      "text/plain": [
       "'There are some spaces at the end of the text'"
      ]
     },
     "execution_count": 5,
     "metadata": {},
     "output_type": "execute_result"
    }
   ],
   "source": [
    "text5 = \"There are some spaces at the end of the text         \"\n",
    "text5.rstrip()"
   ]
  },
  {
   "cell_type": "markdown",
   "id": "c50117b5-252a-4e38-9845-9595dc3459de",
   "metadata": {},
   "source": [
    "* **format()**"
   ]
  },
  {
   "cell_type": "code",
   "execution_count": 6,
   "id": "4fda582a-3b5e-476c-98c2-914f6f963914",
   "metadata": {},
   "outputs": [
    {
     "name": "stdout",
     "output_type": "stream",
     "text": [
      "Artificial Intelligence with Python\n"
     ]
    }
   ],
   "source": [
    "a = \"Python\"\n",
    "b = \"Artificial\"\n",
    "c = \"Intelligence\"\n",
    "\n",
    "print(\"{0} {1} with {2}\".format(b,c,a))"
   ]
  },
  {
   "cell_type": "markdown",
   "id": "77505666-338e-4ac9-9282-1e238d0bda88",
   "metadata": {},
   "source": [
    "* **find() finds a character or piece of text in the text:**\n",
    "\n",
    "* It gives us  a character or piece of text which is found firstly.\n",
    "\n",
    "* If it cannot find anything, it gives -1 "
   ]
  },
  {
   "cell_type": "code",
   "execution_count": 7,
   "id": "e5d77fd2-3d63-4900-b1bd-005a307df0c4",
   "metadata": {},
   "outputs": [
    {
     "data": {
      "text/plain": [
       "2"
      ]
     },
     "execution_count": 7,
     "metadata": {},
     "output_type": "execute_result"
    }
   ],
   "source": [
    "text6 = \"black cat\"\n",
    "\n",
    "text6.find(\"a\")"
   ]
  },
  {
   "cell_type": "code",
   "execution_count": 8,
   "id": "10cf020e-b074-4f0f-9c1e-a7da7bf5f028",
   "metadata": {},
   "outputs": [
    {
     "data": {
      "text/plain": [
       "3"
      ]
     },
     "execution_count": 8,
     "metadata": {},
     "output_type": "execute_result"
    }
   ],
   "source": [
    "text6.find(\"ck\")"
   ]
  },
  {
   "cell_type": "code",
   "execution_count": 9,
   "id": "83ab1da9-dde6-4fdf-a034-1a763fd364b2",
   "metadata": {},
   "outputs": [
    {
     "data": {
      "text/plain": [
       "-1"
      ]
     },
     "execution_count": 9,
     "metadata": {},
     "output_type": "execute_result"
    }
   ],
   "source": [
    "text6.find(\"e\")"
   ]
  },
  {
   "cell_type": "markdown",
   "id": "2e035c4f-6596-43e3-ab50-15b6a59afc15",
   "metadata": {},
   "source": [
    "* the **find()** start to find from zeroth index. However, we can change it."
   ]
  },
  {
   "cell_type": "code",
   "execution_count": 10,
   "id": "ae97a6fb-5586-402c-93f4-6cb43e6713e9",
   "metadata": {},
   "outputs": [
    {
     "data": {
      "text/plain": [
       "7"
      ]
     },
     "execution_count": 10,
     "metadata": {},
     "output_type": "execute_result"
    }
   ],
   "source": [
    "text6.find(\"a\",3)\n",
    "\n",
    "# In this way, it starts from third index"
   ]
  },
  {
   "cell_type": "code",
   "execution_count": 11,
   "id": "109110af-fad2-42d5-b3cb-1d5e44768206",
   "metadata": {},
   "outputs": [
    {
     "data": {
      "text/plain": [
       "6"
      ]
     },
     "execution_count": 11,
     "metadata": {},
     "output_type": "execute_result"
    }
   ],
   "source": [
    "text6.find(\"c\", 4,7)"
   ]
  },
  {
   "cell_type": "markdown",
   "id": "11409bfb-a320-4340-9c3e-58d63b17d053",
   "metadata": {},
   "source": [
    "* **capitalize()** capitalizes only the first letter:"
   ]
  },
  {
   "cell_type": "code",
   "execution_count": 12,
   "id": "f6cd8551-adb5-42b2-8a08-30af0db4a37d",
   "metadata": {},
   "outputs": [
    {
     "data": {
      "text/plain": [
       "'Harry potter and the chamber of secrets'"
      ]
     },
     "execution_count": 12,
     "metadata": {},
     "output_type": "execute_result"
    }
   ],
   "source": [
    "text7 = \"harry potter and the chamber of secrets\"\n",
    "text7.capitalize()"
   ]
  },
  {
   "cell_type": "markdown",
   "id": "84cec985-db32-44b1-b7bb-58028de9f9c6",
   "metadata": {},
   "source": [
    "* **title()** capitalizes capitalizes the initials of words in the text:\n"
   ]
  },
  {
   "cell_type": "code",
   "execution_count": 13,
   "id": "b6db1e7e-c9d8-44e7-9839-28d415f96cea",
   "metadata": {},
   "outputs": [
    {
     "data": {
      "text/plain": [
       "'Harry Potter And The Chamber Of Secrets'"
      ]
     },
     "execution_count": 13,
     "metadata": {},
     "output_type": "execute_result"
    }
   ],
   "source": [
    "text7.title()"
   ]
  },
  {
   "cell_type": "markdown",
   "id": "0f496055-cb46-4ae0-9904-7ab07f1cd94c",
   "metadata": {},
   "source": [
    "* **isdigit()** controls whether the text is an integer or not:"
   ]
  },
  {
   "cell_type": "code",
   "execution_count": 14,
   "id": "c3453fe2-5875-4692-9449-23f70ad19f10",
   "metadata": {},
   "outputs": [
    {
     "data": {
      "text/plain": [
       "True"
      ]
     },
     "execution_count": 14,
     "metadata": {},
     "output_type": "execute_result"
    }
   ],
   "source": [
    "text8 = \"48\"\n",
    "text8.isdigit()"
   ]
  },
  {
   "cell_type": "code",
   "execution_count": 15,
   "id": "ff7be956-5d3d-410a-b1a8-d04ae1e3ca25",
   "metadata": {},
   "outputs": [
    {
     "data": {
      "text/plain": [
       "False"
      ]
     },
     "execution_count": 15,
     "metadata": {},
     "output_type": "execute_result"
    }
   ],
   "source": [
    "text9 = \"-20\"\n",
    "text9.isdigit()\n",
    "\n",
    "# It cannot control negative integers."
   ]
  },
  {
   "cell_type": "code",
   "execution_count": 16,
   "id": "cde0bd70-e3f7-48c5-b906-4e671f69c3a4",
   "metadata": {},
   "outputs": [
    {
     "data": {
      "text/plain": [
       "False"
      ]
     },
     "execution_count": 16,
     "metadata": {},
     "output_type": "execute_result"
    }
   ],
   "source": [
    "text10 = \"5.7\"\n",
    "text10.isdigit()\n",
    "\n",
    "# It cannot control floats."
   ]
  },
  {
   "cell_type": "markdown",
   "id": "42d5bc62-01c6-4df5-a13a-6fedfee6e96c",
   "metadata": {},
   "source": [
    "* **startswith()** controls if a given text starts with the given value or slicing of text:\n"
   ]
  },
  {
   "cell_type": "code",
   "execution_count": 17,
   "id": "d85cf240-b1ef-47a4-817a-95f9ed0d47bd",
   "metadata": {},
   "outputs": [
    {
     "data": {
      "text/plain": [
       "True"
      ]
     },
     "execution_count": 17,
     "metadata": {},
     "output_type": "execute_result"
    }
   ],
   "source": [
    "text11 = \"Pluto\"\n",
    "\n",
    "text11.startswith(\"P\")"
   ]
  },
  {
   "cell_type": "markdown",
   "id": "c08b4894-8694-4cd2-b92b-c510fa43ab50",
   "metadata": {},
   "source": [
    "* **endswith()** controls if a given text ends with the given value or slicing of text:"
   ]
  },
  {
   "cell_type": "code",
   "execution_count": 18,
   "id": "b9599e7f-1d6c-4eab-8788-e21169091f51",
   "metadata": {},
   "outputs": [
    {
     "data": {
      "text/plain": [
       "False"
      ]
     },
     "execution_count": 18,
     "metadata": {},
     "output_type": "execute_result"
    }
   ],
   "source": [
    "text11.endswith(\"P\")"
   ]
  },
  {
   "cell_type": "markdown",
   "id": "853324da-c1a6-4c49-9abd-42107469ec8c",
   "metadata": {},
   "source": [
    "* **replace()** replaces one character or piece of text in text with another:"
   ]
  },
  {
   "cell_type": "code",
   "execution_count": 19,
   "id": "512d9a2c-ba76-4993-9056-6f8bd4111f51",
   "metadata": {},
   "outputs": [
    {
     "data": {
      "text/plain": [
       "'Horses likes eating a sugar.'"
      ]
     },
     "execution_count": 19,
     "metadata": {},
     "output_type": "execute_result"
    }
   ],
   "source": [
    "text12 = \"Horses likes eating a cow.\"\n",
    "\n",
    "text12.replace(\"cow\", \"sugar\")\n"
   ]
  }
 ],
 "metadata": {
  "kernelspec": {
   "display_name": "Python 3 (ipykernel)",
   "language": "python",
   "name": "python3"
  },
  "language_info": {
   "codemirror_mode": {
    "name": "ipython",
    "version": 3
   },
   "file_extension": ".py",
   "mimetype": "text/x-python",
   "name": "python",
   "nbconvert_exporter": "python",
   "pygments_lexer": "ipython3",
   "version": "3.9.12"
  }
 },
 "nbformat": 4,
 "nbformat_minor": 5
}
