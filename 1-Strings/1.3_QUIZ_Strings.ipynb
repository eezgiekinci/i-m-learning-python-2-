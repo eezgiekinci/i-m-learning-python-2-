{
 "cells": [
  {
   "cell_type": "markdown",
   "id": "demographic-physics",
   "metadata": {},
   "source": [
    "## QUIZ - Strings"
   ]
  },
  {
   "cell_type": "markdown",
   "id": "internal-baseline",
   "metadata": {},
   "source": [
    "**Q 1:**\n",
    "\n",
    "Define a function that makes the initials of all words in a given text uppercase and all other letters lowercase:"
   ]
  },
  {
   "cell_type": "code",
   "execution_count": 61,
   "id": "central-vampire",
   "metadata": {},
   "outputs": [
    {
     "name": "stdout",
     "output_type": "stream",
     "text": [
      "deep learning\n",
      "Deep Learning\n"
     ]
    },
    {
     "data": {
      "text/plain": [
       "'\\ndef only_first_letter(text):\\n    \\n    return text.lower().title()\\n\\n'"
      ]
     },
     "execution_count": 61,
     "metadata": {},
     "output_type": "execute_result"
    }
   ],
   "source": [
    "# Çözüm 1:\n",
    "\n",
    "\n",
    "def only_first_letter(text):\n",
    "    \n",
    "    # Some letters is upper or lower:\n",
    "\n",
    "    text1 = text.lower()\n",
    "    \n",
    "    print(text1)\n",
    "    \n",
    "    # Now, return first letter to upper\n",
    "    \n",
    "    text2 = text1.title()\n",
    "    \n",
    "    return text2\n",
    "\n",
    "correct_text = only_first_letter(\"dEeP LeaRnInG\")\n",
    "\n",
    "print(correct_text)\n",
    "\n",
    "\"\"\"\n",
    "def only_first_letter(text):\n",
    "    \n",
    "    return text.lower().title()\n",
    "\n",
    "\"\"\"\n"
   ]
  },
  {
   "cell_type": "markdown",
   "id": "above-attention",
   "metadata": {},
   "source": [
    "---"
   ]
  },
  {
   "cell_type": "markdown",
   "id": "interesting-glenn",
   "metadata": {},
   "source": [
    "**Q 2:**\n",
    "\n",
    "Define a function that takes a text and a letter as  parameters. <br>\n",
    "The function return how many letters are in the given text. <br>"
   ]
  },
  {
   "cell_type": "code",
   "execution_count": 1,
   "id": "banned-property",
   "metadata": {},
   "outputs": [
    {
     "name": "stdin",
     "output_type": "stream",
     "text": [
      "text:  powerpuff girls\n",
      "letter:  p\n"
     ]
    },
    {
     "data": {
      "text/plain": [
       "2"
      ]
     },
     "execution_count": 1,
     "metadata": {},
     "output_type": "execute_result"
    }
   ],
   "source": [
    "# Çözüm 2:\n",
    "def count_letter(text,letter):\n",
    "    \n",
    "    return text.count(letter)\n",
    "\n",
    "    \n",
    "text = input(\"text: \")\n",
    "    \n",
    "letter = input(\"letter: \")\n",
    "\n",
    "count_letter(text,letter)"
   ]
  },
  {
   "cell_type": "code",
   "execution_count": null,
   "id": "special-track",
   "metadata": {},
   "outputs": [],
   "source": []
  },
  {
   "cell_type": "markdown",
   "id": "overall-apache",
   "metadata": {},
   "source": [
    "---"
   ]
  },
  {
   "cell_type": "markdown",
   "id": "genuine-stage",
   "metadata": {},
   "source": [
    "**Q 3:**\n",
    "\n",
    "Ask the user for a sentence. <br>\n",
    "Print out how many times each letter in this sentence occurs.<br>\n",
    "Do not type the space character. <br>\n"
   ]
  },
  {
   "cell_type": "code",
   "execution_count": 4,
   "id": "protected-mixture",
   "metadata": {},
   "outputs": [],
   "source": [
    "# Çözüm 3:\n",
    "\n",
    "def count_letters():\n",
    "    \n",
    "    sentence = input(\"sentence: \")\n",
    "    \n",
    "    written_letter = \" \"\n",
    "    \n",
    "    for letter in sentence:\n",
    "        \n",
    "        # is there any space?\n",
    "        \n",
    "        if letter == \" \":\n",
    "            continue\n",
    "            \n",
    "        number = count_letter(sentence,letter)\n",
    "        \n",
    "        # if there are same letters in the sentence: \n",
    "        \n",
    "        # red fish in the lake : There are three e's in the sentence.\n",
    "        \n",
    "        if not letter in written_letter:\n",
    "        \n",
    "            print(\" There are/is {0} {1}'s in the sentence\".format(number,letter))\n",
    "            \n",
    "            written_letter += letter\n",
    "            \n",
    "        "
   ]
  },
  {
   "cell_type": "code",
   "execution_count": 5,
   "id": "smart-arctic",
   "metadata": {},
   "outputs": [
    {
     "name": "stdin",
     "output_type": "stream",
     "text": [
      "sentence:  red fish in the lake\n"
     ]
    },
    {
     "name": "stdout",
     "output_type": "stream",
     "text": [
      " There are/is 1 r's in the sentence\n",
      " There are/is 3 e's in the sentence\n",
      " There are/is 1 d's in the sentence\n",
      " There are/is 1 f's in the sentence\n",
      " There are/is 2 i's in the sentence\n",
      " There are/is 1 s's in the sentence\n",
      " There are/is 2 h's in the sentence\n",
      " There are/is 1 n's in the sentence\n",
      " There are/is 1 t's in the sentence\n",
      " There are/is 1 l's in the sentence\n",
      " There are/is 1 a's in the sentence\n",
      " There are/is 1 k's in the sentence\n"
     ]
    }
   ],
   "source": [
    "count_letters()"
   ]
  },
  {
   "cell_type": "markdown",
   "id": "separated-accountability",
   "metadata": {},
   "source": [
    "---"
   ]
  },
  {
   "cell_type": "markdown",
   "id": "exact-northern",
   "metadata": {},
   "source": [
    "**Q 4:**\n",
    "\n",
    "\n",
    "Let our text be 'Monday Tuesday Wednesday Thursday Friday'. </br>\n",
    "Using slicing on this text, answer the following questions:\n",
    "\n",
    "<pre>\n",
    "* Find the first 3 characters\n",
    "* Find between the 7th character and the 10th character (inclusive)\n",
    "* Find the 2nd to 12th character\n",
    "* Find characters with index 3, 4 and 5\n",
    "</pre>"
   ]
  },
  {
   "cell_type": "code",
   "execution_count": 3,
   "id": "marked-garbage",
   "metadata": {},
   "outputs": [],
   "source": [
    "# s4:\n",
    "\n",
    "text = 'Sunday Tuesday Wednesday Thursday Friday'\n",
    "\n"
   ]
  },
  {
   "cell_type": "code",
   "execution_count": 4,
   "id": "south-peninsula",
   "metadata": {},
   "outputs": [
    {
     "data": {
      "text/plain": [
       "'Sun'"
      ]
     },
     "execution_count": 4,
     "metadata": {},
     "output_type": "execute_result"
    }
   ],
   "source": [
    "# first three characters:\n",
    "\n",
    "text[:3]"
   ]
  },
  {
   "cell_type": "code",
   "execution_count": 5,
   "id": "built-jimmy",
   "metadata": {},
   "outputs": [
    {
     "data": {
      "text/plain": [
       "'Tues'"
      ]
     },
     "execution_count": 5,
     "metadata": {},
     "output_type": "execute_result"
    }
   ],
   "source": [
    "# between 7th character and 10th character (including)\n",
    "\n",
    "text[7:11]"
   ]
  },
  {
   "cell_type": "code",
   "execution_count": 6,
   "id": "constant-fight",
   "metadata": {},
   "outputs": [
    {
     "data": {
      "text/plain": [
       "'nday Tuesd'"
      ]
     },
     "execution_count": 6,
     "metadata": {},
     "output_type": "execute_result"
    }
   ],
   "source": [
    "# from 2th ch to 12th ch\n",
    "text[2:12]\n"
   ]
  },
  {
   "cell_type": "code",
   "execution_count": 7,
   "id": "received-desktop",
   "metadata": {},
   "outputs": [
    {
     "data": {
      "text/plain": [
       "'day'"
      ]
     },
     "execution_count": 7,
     "metadata": {},
     "output_type": "execute_result"
    }
   ],
   "source": [
    "# find some characters which have index of 3th,4th and 5th.\n",
    "\n",
    "text[3:6]"
   ]
  },
  {
   "cell_type": "markdown",
   "id": "neural-campbell",
   "metadata": {},
   "source": [
    "---"
   ]
  },
  {
   "cell_type": "markdown",
   "id": "ignored-boundary",
   "metadata": {},
   "source": [
    "**Q 5:**\n",
    "\n",
    "Let our text be 'Monday Tuesday Wednesday Thursday Friday'. <br>\n",
    "Answer the following questions using slicing on this text:\n",
    "\n",
    "<pre>\n",
    "* Find the letters from the 1st to the 7th character by skipping them by two\n",
    "* Find the letters from the 3rd character to the 20th character by skipping three at a time\n",
    "* Find characters with double index (0, 2, 4, 6...)\n",
    "* Find characters with single index (1, 3, 5, 7...)\n",
    "</pre>"
   ]
  },
  {
   "cell_type": "code",
   "execution_count": 8,
   "id": "sharing-petroleum",
   "metadata": {},
   "outputs": [],
   "source": [
    "# s5:\n",
    "\n",
    "text = 'Sunday Tuesday Wednesday Thursday Friday'"
   ]
  },
  {
   "cell_type": "code",
   "execution_count": 9,
   "id": "criminal-architect",
   "metadata": {},
   "outputs": [
    {
     "data": {
      "text/plain": [
       "'udy'"
      ]
     },
     "execution_count": 9,
     "metadata": {},
     "output_type": "execute_result"
    }
   ],
   "source": [
    "# Find the letters from the 1st character to the 7th character by skipping them twice.\n",
    "\n",
    "text[1:7:2]"
   ]
  },
  {
   "cell_type": "code",
   "execution_count": 10,
   "id": "technological-accessory",
   "metadata": {},
   "outputs": [
    {
     "data": {
      "text/plain": [
       "'d eaWn'"
      ]
     },
     "execution_count": 10,
     "metadata": {},
     "output_type": "execute_result"
    }
   ],
   "source": [
    "# Find the letters from the 3rd character to the 20th character by skipping three at a time.\n",
    "\n",
    "text[3:20:3]"
   ]
  },
  {
   "cell_type": "code",
   "execution_count": 26,
   "id": "federal-respect",
   "metadata": {},
   "outputs": [
    {
     "data": {
      "text/plain": [
       "'Sna usa ensa'"
      ]
     },
     "execution_count": 26,
     "metadata": {},
     "output_type": "execute_result"
    }
   ],
   "source": [
    "# Find the characters which have even indexes. (0, 2, 4, 6...)\n",
    "\n",
    "text[0::2]"
   ]
  },
  {
   "cell_type": "code",
   "execution_count": 12,
   "id": "complimentary-extent",
   "metadata": {},
   "outputs": [
    {
     "data": {
      "text/plain": [
       "'udyTedyWdedyTusa rdy'"
      ]
     },
     "execution_count": 12,
     "metadata": {},
     "output_type": "execute_result"
    }
   ],
   "source": [
    "# Find the characters which have odd indexes. (1, 3, 5, 7...)\n",
    "\n",
    "text[1::2]"
   ]
  },
  {
   "cell_type": "markdown",
   "id": "cosmetic-arbitration",
   "metadata": {},
   "source": [
    "---"
   ]
  },
  {
   "cell_type": "markdown",
   "id": "cleared-configuration",
   "metadata": {},
   "source": [
    "**Q 6:**\n",
    "\n",
    "Let our text be 'Monday Tuesday Wednesday'. <br>\n",
    "Answer the following questions using slicing on this text:\n",
    "\n",
    "<pre>\n",
    "* Find the last character\n",
    "* Find the 5th character from the last\n",
    "* Find the last 3 characters\n",
    "* Print the text in reverse\n",
    "</pre>"
   ]
  },
  {
   "cell_type": "code",
   "execution_count": 13,
   "id": "early-explosion",
   "metadata": {},
   "outputs": [],
   "source": [
    "# s6:\n",
    "\n",
    "text = 'Sunday Tuesday Wednesday'"
   ]
  },
  {
   "cell_type": "code",
   "execution_count": 14,
   "id": "sharp-cardiff",
   "metadata": {},
   "outputs": [
    {
     "data": {
      "text/plain": [
       "'y'"
      ]
     },
     "execution_count": 14,
     "metadata": {},
     "output_type": "execute_result"
    }
   ],
   "source": [
    "# find the last character\n",
    "text[-1]"
   ]
  },
  {
   "cell_type": "code",
   "execution_count": 15,
   "id": "nervous-knowing",
   "metadata": {},
   "outputs": [
    {
     "data": {
      "text/plain": [
       "'d'"
      ]
     },
     "execution_count": 15,
     "metadata": {},
     "output_type": "execute_result"
    }
   ],
   "source": [
    "# Find the 3rd last character\n",
    "\n",
    "text[-3]"
   ]
  },
  {
   "cell_type": "code",
   "execution_count": 16,
   "id": "southern-degree",
   "metadata": {},
   "outputs": [
    {
     "data": {
      "text/plain": [
       "'day'"
      ]
     },
     "execution_count": 16,
     "metadata": {},
     "output_type": "execute_result"
    }
   ],
   "source": [
    "# Find the last 3 characters\n",
    "\n",
    "text[-3:]"
   ]
  },
  {
   "cell_type": "code",
   "execution_count": 17,
   "id": "obvious-taxation",
   "metadata": {},
   "outputs": [
    {
     "data": {
      "text/plain": [
       "'yadsendeW yadseuT yadnuS'"
      ]
     },
     "execution_count": 17,
     "metadata": {},
     "output_type": "execute_result"
    }
   ],
   "source": [
    "# reverse text\n",
    "\n",
    "text[::-1]"
   ]
  },
  {
   "cell_type": "markdown",
   "id": "accurate-reputation",
   "metadata": {},
   "source": [
    "---"
   ]
  },
  {
   "cell_type": "markdown",
   "id": "occupational-basic",
   "metadata": {},
   "source": [
    "**Q 7:**\n",
    "\n",
    "Let our text be 'Monday Tuesday Wednesday'. <br>\n",
    "Answer the following questions using slicing on this text:\n",
    "\n",
    "<pre>\n",
    "* Find between the 2nd to the last 6th character\n",
    "* Find between the 2nd last character (inclusive) and the 6th last character\n",
    "* Find the negative index representing the character with the 10th index (the sum of the positive and negative indexes gives the length of the array)\n",
    "* Find all characters except the last character\n",
    "* Find all characters except First and Last character\n",
    "</pre>"
   ]
  },
  {
   "cell_type": "code",
   "execution_count": 27,
   "id": "disciplinary-metro",
   "metadata": {},
   "outputs": [],
   "source": [
    "# Çözüm 7:\n",
    "\n",
    "text = 'Sunday Tuesday Wednesday'"
   ]
  },
  {
   "cell_type": "code",
   "execution_count": 28,
   "id": "cathedral-wrist",
   "metadata": {},
   "outputs": [
    {
     "data": {
      "text/plain": [
       "'nesd'"
      ]
     },
     "execution_count": 28,
     "metadata": {},
     "output_type": "execute_result"
    }
   ],
   "source": [
    "# Find between the 2nd last character and the 6th last character\n",
    "\n",
    "\n",
    "text[-6:-2]\n"
   ]
  },
  {
   "cell_type": "code",
   "execution_count": 29,
   "id": "challenging-surge",
   "metadata": {},
   "outputs": [
    {
     "data": {
      "text/plain": [
       "'nesda'"
      ]
     },
     "execution_count": 29,
     "metadata": {},
     "output_type": "execute_result"
    }
   ],
   "source": [
    "# Find between the 2nd last character (inclusive) and the 6th last character\n",
    "text[-6:-1]\n"
   ]
  },
  {
   "cell_type": "code",
   "execution_count": 30,
   "id": "congressional-bidding",
   "metadata": {},
   "outputs": [
    {
     "name": "stdout",
     "output_type": "stream",
     "text": [
      "24\n",
      "s\n",
      "14\n",
      "s\n"
     ]
    }
   ],
   "source": [
    "# Find the negative index representing the tenth index character\n",
    "# the sum of the positive and negative indices gives the length of the array\n",
    "\n",
    "length = len(text)\n",
    "\n",
    "print(length )\n",
    "\n",
    "print(text[10])\n",
    "\n",
    "negative = length - 10\n",
    "\n",
    "print(negative)\n",
    "\n",
    "print(text[-14])"
   ]
  },
  {
   "cell_type": "code",
   "execution_count": 31,
   "id": "downtown-delight",
   "metadata": {},
   "outputs": [
    {
     "data": {
      "text/plain": [
       "'Sunday Tuesday Wednesda'"
      ]
     },
     "execution_count": 31,
     "metadata": {},
     "output_type": "execute_result"
    }
   ],
   "source": [
    "# Find all characters except the last character\n",
    "\n",
    "text[:-1]"
   ]
  },
  {
   "cell_type": "code",
   "execution_count": 32,
   "id": "falling-shelter",
   "metadata": {},
   "outputs": [
    {
     "data": {
      "text/plain": [
       "'unday Tuesday Wednesda'"
      ]
     },
     "execution_count": 32,
     "metadata": {},
     "output_type": "execute_result"
    }
   ],
   "source": [
    "# Find all characters except First and Last character\n",
    "\n",
    "text[1:-1:]"
   ]
  },
  {
   "cell_type": "markdown",
   "id": "fossil-reserve",
   "metadata": {},
   "source": [
    "---"
   ]
  },
  {
   "cell_type": "markdown",
   "id": "departmental-evidence",
   "metadata": {},
   "source": [
    "**Q 8:**\n",
    "\n",
    "Write a function like this: <br>\n",
    "Ask the user for an email address. <br>\n",
    "Separate this e-mail address into user name and domain name using **@**.\n",
    "\n",
    "Note: Username and domain name are separated by '@' character. If the email address does not contain the '@' character, return the message 'Inappropriate email format' to the user."
   ]
  },
  {
   "cell_type": "code",
   "execution_count": 1,
   "id": "million-browse",
   "metadata": {},
   "outputs": [],
   "source": [
    "# s8:\n",
    "\n",
    "def divide_email():\n",
    "    \n",
    "    email = input(\"email address: \")\n",
    "    \n",
    "    divided_point = email.find(\"@\")\n",
    "    \n",
    "    # if find() cannot find our value, it returns -1\n",
    "    \n",
    "    if divided_point == -1:\n",
    "        \n",
    "        print(\"an unsuitable e-mail address.\")\n",
    "        \n",
    "    else:\n",
    "        \n",
    "        print(\"Username:\", email[ :divided_point])\n",
    "        \n",
    "        print(\"Domain:\", email[divided_point + 1:] )\n",
    "\n",
    "    "
   ]
  },
  {
   "cell_type": "code",
   "execution_count": 2,
   "id": "closed-equivalent",
   "metadata": {},
   "outputs": [
    {
     "name": "stdin",
     "output_type": "stream",
     "text": [
      "email address:  testdomain.com\n"
     ]
    },
    {
     "name": "stdout",
     "output_type": "stream",
     "text": [
      "an unsuitable e-mail address.\n"
     ]
    }
   ],
   "source": [
    "divide_email()"
   ]
  },
  {
   "cell_type": "code",
   "execution_count": 2,
   "id": "circular-description",
   "metadata": {},
   "outputs": [
    {
     "name": "stdin",
     "output_type": "stream",
     "text": [
      "email address:  test@domain.com\n"
     ]
    },
    {
     "name": "stdout",
     "output_type": "stream",
     "text": [
      "Username: test\n",
      "Domain: domain.com\n"
     ]
    }
   ],
   "source": [
    "divide_email()"
   ]
  },
  {
   "cell_type": "markdown",
   "id": "quiet-tennessee",
   "metadata": {},
   "source": [
    "---"
   ]
  },
  {
   "cell_type": "markdown",
   "id": "tropical-mother",
   "metadata": {},
   "source": [
    "**Q 9:**\n",
    "\n",
    "Write a function like this: <br>\n",
    "Ask the user for a sentence and return the sentence as reversed:"
   ]
  },
  {
   "cell_type": "code",
   "execution_count": 3,
   "id": "communist-sperm",
   "metadata": {},
   "outputs": [],
   "source": [
    "# s9:\n",
    "\n",
    "def reverse_text():\n",
    "    \n",
    "    text = input(\"enter a text: \")\n",
    "    \n",
    "    return text[::-1]\n"
   ]
  },
  {
   "cell_type": "code",
   "execution_count": 4,
   "id": "honest-strengthening",
   "metadata": {},
   "outputs": [
    {
     "name": "stdin",
     "output_type": "stream",
     "text": [
      "enter a text:  today is saturday\n"
     ]
    },
    {
     "data": {
      "text/plain": [
       "'yadrutas si yadot'"
      ]
     },
     "execution_count": 4,
     "metadata": {},
     "output_type": "execute_result"
    }
   ],
   "source": [
    "reverse_text()"
   ]
  },
  {
   "cell_type": "markdown",
   "id": "labeled-regard",
   "metadata": {},
   "source": [
    "---"
   ]
  },
  {
   "cell_type": "markdown",
   "id": "amateur-margin",
   "metadata": {},
   "source": [
    "**Q 10:**\n",
    "\n",
    "Write a function like this: <br>\n",
    "Have the user replace each character in a sentence with the next character from the alphabet.\n",
    "\n",
    "Things to do:\n",
    "* Use nested functions.\n",
    "* Let there be functions such as letter_small_mu() and letter_big_mu() inside that give lowercase or uppercase letters.\n",
    "* Let the next_letter() function take the corresponding alphabet and a letter and find the letter that comes after that letter in that alphabet.\n",
    "* Alphabets:\n",
    "    * alphabet_small = 'abcdefghıjklmnopqrstuvwxyz'\n",
    "    * alphabet_capital = 'ABCDEFGHIJKLMNOPQRSTUVWXYZ'\n",
    "* Use index to get the corresponding letter from the text.\n",
    "**Expected Result:**\n",
    "<pre>\n",
    "dRiVeR ->  eSiWfS\n",
    "</pre>"
   ]
  },
  {
   "cell_type": "code",
   "execution_count": 5,
   "id": "thirty-patrol",
   "metadata": {},
   "outputs": [],
   "source": [
    "# s10:\n",
    "\n",
    "def change_with_next_letter():\n",
    "    \n",
    "    text = input(\"enter a text: \")\n",
    "    \n",
    "    small_alphabet = 'abcdefghıjklmnopqrstuvwxyz'\n",
    "    capital_alphabet = 'ABCDEFGHIJKLMNOPQRSTUVWXYZ'\n",
    "    \n",
    "    new_text = \"\" \n",
    "    \n",
    "    # internal functions\n",
    "    \n",
    "    def is_letter_small(letter):\n",
    "        \n",
    "        return letter in small_alphabet\n",
    "    \n",
    "    def is_letter_capital(letter):\n",
    "        \n",
    "        return letter in capital_alphabet\n",
    "    \n",
    "    def next_letter(alphabet, letter):\n",
    "        \n",
    "        index = alphabet.find(letter)\n",
    "        \n",
    "        return alphabet[index + 1]\n",
    "    \n",
    "    #*****\n",
    "    \n",
    "    for letter in text:\n",
    "        \n",
    "        # is the letter small or capital ?\n",
    "        \n",
    "        if is_letter_small(letter):\n",
    "            \n",
    "            new_letter = next_letter( small_alphabet, letter)\n",
    "            \n",
    "        elif is_letter_capital(letter):\n",
    "            \n",
    "            new_letter = next_letter( capital_alphabet, letter)\n",
    "            \n",
    "        # there may be space or punctuation\n",
    "        \n",
    "        else:\n",
    "            \n",
    "            new_letter = letter\n",
    "            \n",
    "        new_text += new_letter\n",
    "        \n",
    "    return new_text\n",
    "        \n",
    "        \n",
    "\n",
    "    "
   ]
  },
  {
   "cell_type": "code",
   "execution_count": 6,
   "id": "sensitive-potter",
   "metadata": {},
   "outputs": [
    {
     "name": "stdin",
     "output_type": "stream",
     "text": [
      "enter a text:  dRiVeR\n"
     ]
    },
    {
     "name": "stdout",
     "output_type": "stream",
     "text": [
      "eSiWfS\n"
     ]
    }
   ],
   "source": [
    "new_text = change_with_next_letter()\n",
    "print(new_text)"
   ]
  },
  {
   "cell_type": "code",
   "execution_count": 7,
   "id": "sporting-partner",
   "metadata": {},
   "outputs": [
    {
     "name": "stdin",
     "output_type": "stream",
     "text": [
      "enter a text:  abC DEf gH\n"
     ]
    },
    {
     "name": "stdout",
     "output_type": "stream",
     "text": [
      "bcD EFg hI\n"
     ]
    }
   ],
   "source": [
    "new_text = change_with_next_letter()\n",
    "print(new_text)"
   ]
  },
  {
   "cell_type": "code",
   "execution_count": 8,
   "id": "engaged-paper",
   "metadata": {},
   "outputs": [
    {
     "name": "stdin",
     "output_type": "stream",
     "text": [
      "enter a text:  It's five past three.\n"
     ]
    },
    {
     "name": "stdout",
     "output_type": "stream",
     "text": [
      "Ju't giwf qbtu uısff.\n"
     ]
    }
   ],
   "source": [
    "new_text = change_with_next_letter()\n",
    "print(new_text)\n"
   ]
  },
  {
   "cell_type": "code",
   "execution_count": null,
   "id": "0c84f5c8-afd4-449c-9b07-280b05bd8ef4",
   "metadata": {},
   "outputs": [],
   "source": []
  }
 ],
 "metadata": {
  "kernelspec": {
   "display_name": "Python 3 (ipykernel)",
   "language": "python",
   "name": "python3"
  },
  "language_info": {
   "codemirror_mode": {
    "name": "ipython",
    "version": 3
   },
   "file_extension": ".py",
   "mimetype": "text/x-python",
   "name": "python",
   "nbconvert_exporter": "python",
   "pygments_lexer": "ipython3",
   "version": "3.9.12"
  }
 },
 "nbformat": 4,
 "nbformat_minor": 5
}
