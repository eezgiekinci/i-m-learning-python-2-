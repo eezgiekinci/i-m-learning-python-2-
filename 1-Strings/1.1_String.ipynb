{
 "cells": [
  {
   "cell_type": "markdown",
   "id": "fa976570-b6c9-493f-81c3-145388969fe2",
   "metadata": {},
   "source": [
    " ## 1. String\n",
    " \n",
    " A string is different from an integer or a float.  \n",
    " \n",
    " String is a sequence. \n",
    " \n",
    " We can liken a word to a string. The word has a type and it has characters.\n",
    " \n",
    " A **sequence** is a positionally ordered collection of items. And you can refer to any item in the sequence by using its index number e.g., s[0] and s[1]"
   ]
  },
  {
   "cell_type": "markdown",
   "id": "529aeba3-2293-47e4-af16-df523a01fe36",
   "metadata": {
    "tags": []
   },
   "source": [
    "### 1.1 Length of String\n",
    "\n",
    "We use the `len()` function to get the length of a string."
   ]
  },
  {
   "cell_type": "code",
   "execution_count": 1,
   "id": "5c393c38-efb2-4747-846a-d71fd2be1786",
   "metadata": {},
   "outputs": [
    {
     "data": {
      "text/plain": [
       "'orange'"
      ]
     },
     "execution_count": 1,
     "metadata": {},
     "output_type": "execute_result"
    }
   ],
   "source": [
    "fruit = \"orange\"\n",
    "fruit"
   ]
  },
  {
   "cell_type": "code",
   "execution_count": 2,
   "id": "17d216a2-89a9-479b-b410-03f1bdd13350",
   "metadata": {},
   "outputs": [
    {
     "data": {
      "text/plain": [
       "6"
      ]
     },
     "execution_count": 2,
     "metadata": {},
     "output_type": "execute_result"
    }
   ],
   "source": [
    "len(fruit)"
   ]
  },
  {
   "cell_type": "markdown",
   "id": "fd51d94e-7293-4e20-9b05-48458ddd23a9",
   "metadata": {},
   "source": [
    "### 1.2 String Slicing"
   ]
  },
  {
   "cell_type": "markdown",
   "id": "beaebab6-602f-4c0b-adf8-beacfb4a7903",
   "metadata": {},
   "source": [
    "A piece of string is called slice."
   ]
  },
  {
   "cell_type": "markdown",
   "id": "b50324d1-4f26-4c36-8c90-390d805c4c46",
   "metadata": {},
   "source": [
    "* `s[initial : end : increase]`\n",
    "\n",
    "* If there is no an initial value, Python accepts its as 0\n",
    "\n",
    "* If there is no an ending value, Python accepts its as 0\n",
    "\n",
    "* If there is no an amount of increase value, Python accepts its as 1\n",
    "\n",
    "* The initial value is included but the end value is not. - > **[initial, end)**"
   ]
  },
  {
   "cell_type": "code",
   "execution_count": 3,
   "id": "3ac27567-1edf-4795-9ee9-15b1f7419ad6",
   "metadata": {},
   "outputs": [
    {
     "data": {
      "text/plain": [
       "'deep learning'"
      ]
     },
     "execution_count": 3,
     "metadata": {},
     "output_type": "execute_result"
    }
   ],
   "source": [
    "text = \"deep learning\"\n",
    "text"
   ]
  },
  {
   "cell_type": "code",
   "execution_count": 4,
   "id": "c94d0e97-00b4-4fb3-8867-2d75b6902429",
   "metadata": {},
   "outputs": [
    {
     "data": {
      "text/plain": [
       "'deep'"
      ]
     },
     "execution_count": 4,
     "metadata": {},
     "output_type": "execute_result"
    }
   ],
   "source": [
    "# How can we take the word is \"deep\" in this text?\n",
    "\n",
    "text[0:4]"
   ]
  },
  {
   "cell_type": "code",
   "execution_count": 5,
   "id": "2fab8d18-c1ad-490c-8776-cae38dfe372c",
   "metadata": {},
   "outputs": [
    {
     "data": {
      "text/plain": [
       "'deep'"
      ]
     },
     "execution_count": 5,
     "metadata": {},
     "output_type": "execute_result"
    }
   ],
   "source": [
    "# 0 is defualt value.\n",
    "\n",
    "text[:4]"
   ]
  },
  {
   "cell_type": "code",
   "execution_count": 6,
   "id": "2462992e-ad74-44a6-9113-e83af8586dd5",
   "metadata": {},
   "outputs": [
    {
     "data": {
      "text/plain": [
       "'learning'"
      ]
     },
     "execution_count": 6,
     "metadata": {},
     "output_type": "execute_result"
    }
   ],
   "source": [
    "# How can we take the word is \"learning\" in this text?\n",
    "\n",
    "# Index of 5 equals \"l\".\n",
    "\n",
    "text[5:13]"
   ]
  },
  {
   "cell_type": "code",
   "execution_count": 7,
   "id": "513706bd-72a4-4bb7-aac8-9a2feb829df6",
   "metadata": {},
   "outputs": [
    {
     "data": {
      "text/plain": [
       "'learning'"
      ]
     },
     "execution_count": 7,
     "metadata": {},
     "output_type": "execute_result"
    }
   ],
   "source": [
    "text[5:]"
   ]
  },
  {
   "cell_type": "code",
   "execution_count": 8,
   "id": "4c8bb9ab-cb9c-4c80-836d-57874210fe68",
   "metadata": {},
   "outputs": [
    {
     "data": {
      "text/plain": [
       "'123456789'"
      ]
     },
     "execution_count": 8,
     "metadata": {},
     "output_type": "execute_result"
    }
   ],
   "source": [
    "numbers = \"123456789\"\n",
    "\n",
    "#Take all numbers:\n",
    "\n",
    "numbers[::]"
   ]
  },
  {
   "cell_type": "code",
   "execution_count": 9,
   "id": "64d368c8-0a9a-4872-9b14-637b45757c1a",
   "metadata": {},
   "outputs": [
    {
     "data": {
      "text/plain": [
       "'13579'"
      ]
     },
     "execution_count": 9,
     "metadata": {},
     "output_type": "execute_result"
    }
   ],
   "source": [
    "#Take odd numbers:\n",
    "\n",
    "numbers[::2]\n",
    "\n",
    "# The first number is an odd and we want to take all odd numbers.\n"
   ]
  },
  {
   "cell_type": "code",
   "execution_count": 10,
   "id": "4560161a-a9f3-4136-8f25-d6678315cf5c",
   "metadata": {},
   "outputs": [
    {
     "data": {
      "text/plain": [
       "'2468'"
      ]
     },
     "execution_count": 10,
     "metadata": {},
     "output_type": "execute_result"
    }
   ],
   "source": [
    "#take even numbers:\n",
    "\n",
    "numbers[1::2]\n",
    "\n",
    "# The second number is an even number and its index value is 1.\n"
   ]
  },
  {
   "cell_type": "markdown",
   "id": "9187ec33-4ce6-4439-80e0-a9148c9912d8",
   "metadata": {},
   "source": [
    "### 1.3 Negative Index "
   ]
  },
  {
   "cell_type": "markdown",
   "id": "4d13a377-7dd5-4d71-b5f8-f55a892ccf01",
   "metadata": {},
   "source": [
    "* The left to right index is called `index` and it starts to 0.\n",
    "\n",
    "* The right to left index is called `negative index` and it starts to -1."
   ]
  },
  {
   "cell_type": "code",
   "execution_count": 11,
   "id": "9a27df24-fb62-407f-bf04-32acdb38df3c",
   "metadata": {},
   "outputs": [
    {
     "data": {
      "text/plain": [
       "'9'"
      ]
     },
     "execution_count": 11,
     "metadata": {},
     "output_type": "execute_result"
    }
   ],
   "source": [
    "# Let's say we only want to get the last element:\n",
    "\n",
    "numbers[-1]\n"
   ]
  },
  {
   "cell_type": "markdown",
   "id": "5a1a9889-8d0e-4e1c-ab06-3b14de0e7bb6",
   "metadata": {},
   "source": [
    "### 1.4 Reverse Slicing"
   ]
  },
  {
   "cell_type": "markdown",
   "id": "1a49fb55-7fe3-486a-a593-664d529e2c0e",
   "metadata": {},
   "source": [
    "* `s[end : initial : -increase]`\n",
    "\n",
    "* The increase value starts -1"
   ]
  },
  {
   "cell_type": "code",
   "execution_count": 12,
   "id": "a5e3f0c1-0269-47aa-aef4-e843bcf63d8d",
   "metadata": {},
   "outputs": [
    {
     "data": {
      "text/plain": [
       "'987654321'"
      ]
     },
     "execution_count": 12,
     "metadata": {},
     "output_type": "execute_result"
    }
   ],
   "source": [
    "numbers[::-1]"
   ]
  },
  {
   "cell_type": "code",
   "execution_count": 13,
   "id": "0f62a30f-a394-42f9-97ac-d38bf7315103",
   "metadata": {},
   "outputs": [
    {
     "data": {
      "text/plain": [
       "'97531'"
      ]
     },
     "execution_count": 13,
     "metadata": {},
     "output_type": "execute_result"
    }
   ],
   "source": [
    "numbers[::-2]"
   ]
  },
  {
   "cell_type": "code",
   "execution_count": 14,
   "id": "7eee797c-659e-42bd-811a-3fac3c40d40b",
   "metadata": {},
   "outputs": [
    {
     "ename": "SyntaxError",
     "evalue": "invalid syntax (2537586252.py, line 7)",
     "output_type": "error",
     "traceback": [
      "\u001b[1;36m  Input \u001b[1;32mIn [14]\u001b[1;36m\u001b[0m\n\u001b[1;33m    negative index : -9 | -8 | -7 | -6 | -5 | -4 | -3 | -2 | -1\u001b[0m\n\u001b[1;37m             ^\u001b[0m\n\u001b[1;31mSyntaxError\u001b[0m\u001b[1;31m:\u001b[0m invalid syntax\n"
     ]
    }
   ],
   "source": [
    "# how we can take \"456\" using slicing and reverse slicing?\n",
    "\n",
    "numbers        : 1  | 2  | 3  | 4  | 5  | 6  | 7  | 8  | 9\n",
    "\n",
    "index          : 0  | 1  | 2  | 3  | 4  | 5  | 6  | 7  | 8\n",
    "\n",
    "negative index : -9 | -8 | -7 | -6 | -5 | -4 | -3 | -2 | -1"
   ]
  },
  {
   "cell_type": "code",
   "execution_count": 15,
   "id": "fb1d3a60-85c5-4db8-b94b-e9a2c0f6aba1",
   "metadata": {},
   "outputs": [
    {
     "data": {
      "text/plain": [
       "'456'"
      ]
     },
     "execution_count": 15,
     "metadata": {},
     "output_type": "execute_result"
    }
   ],
   "source": [
    "# using normal slicing:\n",
    "\n",
    "numbers[3 : 6 : 1 ]"
   ]
  },
  {
   "cell_type": "code",
   "execution_count": 16,
   "id": "97cab0b1-5d45-4f96-9fb2-eb9f747dc3db",
   "metadata": {},
   "outputs": [
    {
     "data": {
      "text/plain": [
       "'456'"
      ]
     },
     "execution_count": 16,
     "metadata": {},
     "output_type": "execute_result"
    }
   ],
   "source": [
    "#using reverse slicing:\n",
    "\n",
    "numbers[-6 : -3 : 1]\n",
    "\n",
    "# We use 1 as the increase value because there is an increment from small to large."
   ]
  },
  {
   "cell_type": "code",
   "execution_count": 17,
   "id": "51e4fffa-ab7f-46cb-a0a0-efddbf00ad8c",
   "metadata": {},
   "outputs": [
    {
     "data": {
      "text/plain": [
       "'654'"
      ]
     },
     "execution_count": 17,
     "metadata": {},
     "output_type": "execute_result"
    }
   ],
   "source": [
    "# how we can take \"654\" using slicing and reverse slicing?\n",
    "\n",
    "#using normal slicing:\n",
    "\n",
    "numbers[5 : 2 : -1]\n"
   ]
  },
  {
   "cell_type": "code",
   "execution_count": 18,
   "id": "312b2f73-a1c4-422a-a431-ef7e7e2338d9",
   "metadata": {},
   "outputs": [
    {
     "data": {
      "text/plain": [
       "'654'"
      ]
     },
     "execution_count": 18,
     "metadata": {},
     "output_type": "execute_result"
    }
   ],
   "source": [
    "#using reverse slicing: \n",
    "\n",
    "numbers[-4: -7 : -1]"
   ]
  },
  {
   "cell_type": "markdown",
   "id": "0bb8a8ac-41ce-49f7-9c5c-737ea34b80cb",
   "metadata": {
    "tags": []
   },
   "source": [
    "### 1.5 `in`\n",
    "\n",
    "**It is used to check whether a character or text is inside another text.**"
   ]
  },
  {
   "cell_type": "code",
   "execution_count": 19,
   "id": "7c212f66-865d-4b10-8c27-e51b90cdf9f6",
   "metadata": {},
   "outputs": [
    {
     "data": {
      "text/plain": [
       "True"
      ]
     },
     "execution_count": 19,
     "metadata": {},
     "output_type": "execute_result"
    }
   ],
   "source": [
    "text = \"hazelnut\"\n",
    "\n",
    "text1 = \"nut\"\n",
    "\n",
    "text1 in text\n",
    "\n"
   ]
  },
  {
   "cell_type": "code",
   "execution_count": 20,
   "id": "d2e5c872-59eb-48ed-9904-5acdc280b9cc",
   "metadata": {},
   "outputs": [
    {
     "data": {
      "text/plain": [
       "True"
      ]
     },
     "execution_count": 20,
     "metadata": {},
     "output_type": "execute_result"
    }
   ],
   "source": [
    "\"n\" in text"
   ]
  },
  {
   "cell_type": "code",
   "execution_count": 21,
   "id": "aa85fb0c-7988-4ef7-97cd-8a1481f6789f",
   "metadata": {},
   "outputs": [
    {
     "data": {
      "text/plain": [
       "False"
      ]
     },
     "execution_count": 21,
     "metadata": {},
     "output_type": "execute_result"
    }
   ],
   "source": [
    "\"x\" in text"
   ]
  },
  {
   "cell_type": "markdown",
   "id": "eba83170-49b5-49e8-a23e-d8cc39c91b34",
   "metadata": {},
   "source": [
    "### 1.6 Text Comparison"
   ]
  },
  {
   "cell_type": "code",
   "execution_count": 22,
   "id": "50b61171-79a6-4c68-8aa8-8b8d25a3b05e",
   "metadata": {},
   "outputs": [
    {
     "name": "stdout",
     "output_type": "stream",
     "text": [
      "banana is smaller than coffee\n"
     ]
    }
   ],
   "source": [
    "text2 = \"banana\"\n",
    "\n",
    "text3 = \"coffee\"\n",
    "\n",
    "if text2 < text3:\n",
    "    print(\"{0} is smaller than {1}\".format(text2, text3))\n",
    "    \n",
    "else: \n",
    "    print(\"{0} is not smaller than {1}\".format(text2, text3))\n",
    "    \n",
    "\n",
    "#alphabetically, b comes before c."
   ]
  },
  {
   "cell_type": "code",
   "execution_count": 35,
   "id": "72389257-ae5f-463a-a74a-3039c29deb38",
   "metadata": {},
   "outputs": [],
   "source": [
    "# The ASCII character of b is less than the ASCII character of c."
   ]
  },
  {
   "cell_type": "code",
   "execution_count": 36,
   "id": "0ba7ec84-57b1-4be6-bf3c-64c7c3d19606",
   "metadata": {},
   "outputs": [],
   "source": [
    "# How we can check the ASCII character of any letter ? \n",
    "\n",
    "# using `ord()`"
   ]
  },
  {
   "cell_type": "code",
   "execution_count": 23,
   "id": "72d9ad02-0ab6-4b37-91ca-81d1ef97d32a",
   "metadata": {},
   "outputs": [
    {
     "data": {
      "text/plain": [
       "(98, 99)"
      ]
     },
     "execution_count": 23,
     "metadata": {},
     "output_type": "execute_result"
    }
   ],
   "source": [
    "ord(\"b\"), ord(\"c\")"
   ]
  }
 ],
 "metadata": {
  "kernelspec": {
   "display_name": "Python 3 (ipykernel)",
   "language": "python",
   "name": "python3"
  },
  "language_info": {
   "codemirror_mode": {
    "name": "ipython",
    "version": 3
   },
   "file_extension": ".py",
   "mimetype": "text/x-python",
   "name": "python",
   "nbconvert_exporter": "python",
   "pygments_lexer": "ipython3",
   "version": "3.9.12"
  }
 },
 "nbformat": 4,
 "nbformat_minor": 5
}
