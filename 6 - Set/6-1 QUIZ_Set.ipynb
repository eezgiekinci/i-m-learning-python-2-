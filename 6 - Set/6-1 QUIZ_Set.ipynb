{
 "cells": [
  {
   "cell_type": "markdown",
   "id": "fourth-elite",
   "metadata": {},
   "source": [
    "## 6-1 QUIZ - Set"
   ]
  },
  {
   "cell_type": "markdown",
   "id": "aware-zealand",
   "metadata": {},
   "source": [
    "**Q 1:**\n",
    "\n",
    "Define a function that has a list as a parameter.\n",
    "\n",
    "The function creates a set like this:\n",
    "\n",
    "\n",
    "\"Apple\", \"Pear\", \"Watermelon\", \"Strawberry\"\n",
    "\n",
    "Then add the elements of the list that comes as a parameter **one by one** to this set and return the set.\n",
    "\n",
    "\n",
    "<pre style=\"background: gold\">\n",
    "Parameter:\n",
    "added_list = ['Sour Cherry', 'Cherry', 'Apricot', 'Black Mulberry']\n",
    "\n",
    "Result:\n",
    "{'Sour Cherry', 'Apple', 'Watermelon', 'Black Mulberry', 'Strawberry', 'Apricot', 'Pear', 'Cherry'}\n",
    "</pre>"
   ]
  },
  {
   "cell_type": "code",
   "execution_count": 1,
   "id": "polar-picnic",
   "metadata": {},
   "outputs": [],
   "source": [
    "# S 1:\n",
    "\n",
    "def create_and_add(list1):\n",
    "    \n",
    "    set1 = {\"Apple\", \"Pear\", \"Watermelon\", \"Strawberry\"}\n",
    "    \n",
    "    for i in list1:\n",
    "        \n",
    "        set1.add(i)\n",
    "        \n",
    "    return set1\n",
    "    "
   ]
  },
  {
   "cell_type": "code",
   "execution_count": 4,
   "id": "persistent-possibility",
   "metadata": {},
   "outputs": [
    {
     "name": "stdout",
     "output_type": "stream",
     "text": [
      "{'Apricot', 'Black Mulberry', 'Cherry', 'Apple', 'Pear', 'Strawberry', 'Watermelon', 'Sour Cherry'}\n"
     ]
    }
   ],
   "source": [
    "added_list = ['Sour Cherry', 'Cherry', 'Apricot', 'Black Mulberry']\n",
    "\n",
    "a = create_and_add(added_list)\n",
    "\n",
    "print(a)"
   ]
  },
  {
   "cell_type": "markdown",
   "id": "micro-debate",
   "metadata": {},
   "source": [
    "---"
   ]
  },
  {
   "cell_type": "markdown",
   "id": "intelligent-lotus",
   "metadata": {},
   "source": [
    "**Q 2:**\n",
    "\n",
    "Define a function that has a list as a parameter.\n",
    "\n",
    "The function creates a set like this:\n",
    "\n",
    "\"Apple\", \"Pear\", \"Watermelon\", \"Strawberry\"\n",
    "\n",
    "Then add the elements of the list that comes as a parameter **at once** to this set and return the set.\n",
    "\n",
    "\n",
    "<pre style=\"background: gold\">\n",
    "Parameter:\n",
    "added_list = ['Sour Cherry', 'Cherry', 'Apricot', 'Black Mulberry']\n",
    "\n",
    "Result:\n",
    "{'Sour Cherry', 'Apple', 'Watermelon', 'Black Mulberry', 'Strawberry', 'Apricot', 'Pear', 'Cherry'}\n",
    "</pre>"
   ]
  },
  {
   "cell_type": "code",
   "execution_count": 5,
   "id": "wrong-damage",
   "metadata": {},
   "outputs": [],
   "source": [
    "# S 2:\n",
    "\n",
    "def create_add_at_once(list1):\n",
    "    \n",
    "    set1 = {\"Apple\", \"Pear\", \"Watermelon\", \"Strawberry\"}\n",
    "    \n",
    "    set1.update(list1)\n",
    "    \n",
    "    return set1\n"
   ]
  },
  {
   "cell_type": "code",
   "execution_count": 6,
   "id": "every-estimate",
   "metadata": {},
   "outputs": [
    {
     "name": "stdout",
     "output_type": "stream",
     "text": [
      "{'Apricot', 'Black Mulberry', 'Cherry', 'Apple', 'Pear', 'Strawberry', 'Watermelon', 'Sour Cherry'}\n"
     ]
    }
   ],
   "source": [
    "added_list = ['Sour Cherry', 'Cherry', 'Apricot', 'Black Mulberry']\n",
    "\n",
    "a = create_and_add(added_list)\n",
    "\n",
    "print(a)"
   ]
  },
  {
   "cell_type": "markdown",
   "id": "combined-florence",
   "metadata": {},
   "source": [
    "---"
   ]
  },
  {
   "cell_type": "markdown",
   "id": "compressed-comparison",
   "metadata": {},
   "source": [
    "**Q 3:**\n",
    "\n",
    "Define a function that takes two Sets as parameters.\n",
    "\n",
    "Let the function return the common elements (intersection set) in these two sets as a list.\n",
    "\n",
    "Return the elements of this list in ascending order.\n",
    "\n",
    "**to-do:**\n",
    "* do not use a loop\n",
    "* intersection()\n",
    "* sorted()\n",
    "\n",
    "<pre style=\"background: gold\">\n",
    "Parameters:\n",
    "set_1 = {10, 20, 30, 40, 50, 60}\n",
    "set_2 = {20, 40, 60, 80, 90, 100}\n",
    "\n",
    "Result:\n",
    "[20, 40, 60]\n",
    "</pre>"
   ]
  },
  {
   "cell_type": "code",
   "execution_count": 7,
   "id": "reserved-bronze",
   "metadata": {},
   "outputs": [],
   "source": [
    "# S 3:\n",
    "\n",
    "def the_same_elements(s1,s2):\n",
    "    \n",
    "    return sorted(s1.intersection(s2))\n",
    "    "
   ]
  },
  {
   "cell_type": "code",
   "execution_count": 8,
   "id": "union-thumbnail",
   "metadata": {},
   "outputs": [
    {
     "name": "stdout",
     "output_type": "stream",
     "text": [
      "[20, 40, 60]\n"
     ]
    }
   ],
   "source": [
    "set_1 = {10, 20, 30, 40, 50, 60}\n",
    "set_2 = {20, 40, 60, 80, 90, 100}\n",
    "\n",
    "inters = the_same_elements(set_1, set_2)\n",
    "\n",
    "print(inters)"
   ]
  },
  {
   "cell_type": "markdown",
   "id": "active-elephant",
   "metadata": {},
   "source": [
    "---"
   ]
  },
  {
   "cell_type": "markdown",
   "id": "vocal-twelve",
   "metadata": {},
   "source": [
    "**Q 4:**\n",
    "\n",
    "Define a function that takes two Sets as parameters.\n",
    "\n",
    "Let the function return all the elements in these two sets (the union set) as a list.\n",
    "\n",
    "Elements that are the same in this list only have to pass once.\n",
    "\n",
    "This list must be in descending order.\n",
    "\n",
    "**to-do:**\n",
    "* do not use a loop\n",
    "* unioun()\n",
    "* sort()\n",
    "\n",
    "<pre style=\"background: gold\">\n",
    "Parameters:\n",
    "set_1 = {10, 20, 30, 40, 50, 60}\n",
    "set_2 = {20, 40, 60, 80, 90, 100}\n",
    "\n",
    "Result:\n",
    "[100, 90, 80, 60, 50, 40, 30, 20, 10]\n",
    "</pre>"
   ]
  },
  {
   "cell_type": "code",
   "execution_count": 9,
   "id": "sticky-bosnia",
   "metadata": {},
   "outputs": [],
   "source": [
    "# S 4:\n",
    "\n",
    "def all_elements(s1,s2):\n",
    "    \n",
    "    return sorted(s1.union(s2), reverse = True)\n",
    "    "
   ]
  },
  {
   "cell_type": "code",
   "execution_count": 10,
   "id": "working-component",
   "metadata": {},
   "outputs": [
    {
     "name": "stdout",
     "output_type": "stream",
     "text": [
      "[100, 90, 80, 60, 50, 40, 30, 20, 10]\n"
     ]
    }
   ],
   "source": [
    "set_1 = {10, 20, 30, 40, 50, 60}\n",
    "set_2 = {20, 40, 60, 80, 90, 100}\n",
    "\n",
    "unions = all_elements(set_1, set_2)\n",
    "\n",
    "print(unions)"
   ]
  },
  {
   "cell_type": "markdown",
   "id": "afraid-alcohol",
   "metadata": {},
   "source": [
    "---"
   ]
  },
  {
   "cell_type": "markdown",
   "id": "modified-stress",
   "metadata": {},
   "source": [
    "**Q 5:**\n",
    "\n",
    "Write a function with two lists as parameters.\n",
    "\n",
    "Let the function return the different elements between these two lists as a Set.\n",
    "\n",
    "In other words, the elements in the first list but not in the second list.\n",
    "\n",
    "**to-do:**\n",
    "* do not use a loop\n",
    "* set()\n",
    "* difference()\n",
    "\n",
    "<pre style=\"background: gold\">\n",
    "Parameters:\n",
    "l_1 = [1, 2, 3, 4, 5, 6, 7, 8, 9]\n",
    "l_2 = [2, 4, 6, 8]\n",
    "\n",
    "Result:\n",
    "{1, 3, 5, 7, 9}\n",
    "</pre>"
   ]
  },
  {
   "cell_type": "code",
   "execution_count": 13,
   "id": "adult-vegetable",
   "metadata": {},
   "outputs": [],
   "source": [
    "# S 5:\n",
    "\n",
    "def find_diff(list_1, list_2):\n",
    "    \n",
    "    set1 = set(list_1)\n",
    "    \n",
    "    set2 = set(list_2)\n",
    "    \n",
    "    set3 = set(set1.difference(set2))\n",
    "    \n",
    "    return set3"
   ]
  },
  {
   "cell_type": "code",
   "execution_count": 14,
   "id": "played-groove",
   "metadata": {},
   "outputs": [
    {
     "name": "stdout",
     "output_type": "stream",
     "text": [
      "{1, 3, 5, 7, 9}\n"
     ]
    }
   ],
   "source": [
    "l_1 = [1, 2, 3, 4, 5, 6, 7, 8, 9]\n",
    "l_2 = [2, 4, 6, 8]\n",
    "\n",
    "diffs = find_diff(l_1, l_2)\n",
    "\n",
    "print(diffs)"
   ]
  },
  {
   "cell_type": "markdown",
   "id": "changed-target",
   "metadata": {},
   "source": [
    "---"
   ]
  },
  {
   "cell_type": "markdown",
   "id": "handled-greenhouse",
   "metadata": {},
   "source": [
    "**Q 6:**\n",
    "\n",
    "Define a function that takes two sets as parameters.\n",
    "\n",
    "Let the function check if there is any common element between these two sets:\n",
    "* If there is no common element, return -> \"These two Sets are completely different\"\n",
    "* If at least one element is common, return -> \"These two Sets are not completely different\"\n",
    "\n",
    "The function also checks whether the two sets that come as parameters are indeed of Set type. If any of them are not of type Set, it throws \"Parameters not of type Set\" error.\n",
    "\n",
    "**to-do:**\n",
    "* do not use loop\n",
    "* `isdisjoint()`\n",
    "* isinstance()\n",
    "* raise Exception()\n",
    "\n",
    "<pre style=\"background: gold\">\n",
    "Parameters:\n",
    "set_1 = {20, 10, 40, 30, 50}\n",
    "set_2 = {60, 80, 70, 100, 90}\n",
    "Sonuç:\n",
    "'These two Sets are completely different'\n",
    "\n",
    "----------------------------------------\n",
    "Parameters:\n",
    "set_1 = {20, 10, 40, 30, 50, 60}\n",
    "set_2 = {60, 80, 70, 90, 40, 10}\n",
    "Sonuç:\n",
    "'These two Sets are not completely different'\n",
    "</pre>"
   ]
  },
  {
   "cell_type": "code",
   "execution_count": 15,
   "id": "intended-skirt",
   "metadata": {},
   "outputs": [],
   "source": [
    "# Çözüm 6:\n",
    "\n",
    "def completely_different(set1, set2):\n",
    "    \n",
    "    if not isinstance(set1,set) or not isinstance(set2, set):\n",
    "        raise Exception(\"Parameters not of type Set\")\n",
    "        \n",
    "    if set1.isdisjoint(set2):\n",
    "        \n",
    "        print(\"These two Sets are completely different\")\n",
    "        \n",
    "    else:\n",
    "        print(\"These two Sets are not completely different\")"
   ]
  },
  {
   "cell_type": "code",
   "execution_count": 16,
   "id": "medieval-mauritius",
   "metadata": {},
   "outputs": [
    {
     "name": "stdout",
     "output_type": "stream",
     "text": [
      "These two Sets are completely different\n"
     ]
    }
   ],
   "source": [
    "set_1 = {20, 10, 40, 30, 50}\n",
    "set_2 = {60, 80, 70, 100, 90}\n",
    "\n",
    "completely_different(set_1, set_2)"
   ]
  },
  {
   "cell_type": "code",
   "execution_count": 17,
   "id": "serious-engineering",
   "metadata": {},
   "outputs": [
    {
     "name": "stdout",
     "output_type": "stream",
     "text": [
      "These two Sets are not completely different\n"
     ]
    }
   ],
   "source": [
    "set_1 = {20, 10, 40, 30, 50, 60}\n",
    "set_2 = {60, 80, 70, 90, 40, 10}\n",
    "\n",
    "completely_different(set_1, set_2)"
   ]
  },
  {
   "cell_type": "markdown",
   "id": "warming-shell",
   "metadata": {},
   "source": [
    "---"
   ]
  },
  {
   "cell_type": "markdown",
   "id": "intellectual-survey",
   "metadata": {},
   "source": [
    "**Q 7:**\n",
    "\n",
    "Define a function that takes two sets as parameters. \n",
    "\n",
    "Let the function check if there is any common element between these two sets:\n",
    "* If there is no common element, return as -> \"These two Sets are completely different\"\n",
    "* If at least one element is common, return -> \"These two Sets have elements in common:\"\n",
    "    * and return the common element set together\n",
    "\n",
    "The function also checks whether the two sets that come as parameters are indeed of Set type. If any of them are not of type Set, it throws \"Parameters not of type Set\" error.\n",
    "\n",
    "**to-do:**\n",
    "* do not use any loop\n",
    "* `isdisjoint()`\n",
    "* isinstance()\n",
    "* raise Exception()\n",
    "\n",
    "<pre style=\"background: gold\">\n",
    "Parameters:\n",
    "set_1 = {20, 10, 40, 30, 50}\n",
    "set_2 = {60, 80, 70, 100, 90}\n",
    "Result:\n",
    "\"These two Sets are completely different\"\n",
    "\n",
    "----------------------------------------\n",
    "Parametre:\n",
    "set_1 = {20, 10, 40, 30, 50, 60}\n",
    "set_2 = {60, 80, 70, 90, 40, 10}\n",
    "Result:\n",
    "\"These two Sets have elements in common:\" {40, 10, 60}'\n",
    "</pre>"
   ]
  },
  {
   "cell_type": "code",
   "execution_count": 18,
   "id": "crucial-package",
   "metadata": {},
   "outputs": [],
   "source": [
    "# S 7:\n",
    "\n",
    "def completely_different_2(set1, set2):\n",
    "\n",
    "    if not isinstance(set1,set) or not isinstance(set2, set):\n",
    "        raise Exception(\"Parameters not of type Set\")\n",
    "        \n",
    "    if set1.isdisjoint(set2):\n",
    "        \n",
    "        print(\"These two Sets are completely different\")\n",
    "        \n",
    "    else:\n",
    "        \n",
    "        o = set1.intersection(set2)\n",
    "        \n",
    "        print(\"These two Sets have elements in common: \")\n",
    "        \n",
    "        return o"
   ]
  },
  {
   "cell_type": "code",
   "execution_count": 19,
   "id": "coordinate-ministry",
   "metadata": {},
   "outputs": [
    {
     "name": "stdout",
     "output_type": "stream",
     "text": [
      "These two Sets are completely different\n"
     ]
    }
   ],
   "source": [
    "set_1 = {20, 10, 40, 30, 50}\n",
    "set_2 = {60, 80, 70, 100, 90}\n",
    "\n",
    "completely_different_2(set_1, set_2)"
   ]
  },
  {
   "cell_type": "code",
   "execution_count": 20,
   "id": "unlike-twenty",
   "metadata": {},
   "outputs": [
    {
     "name": "stdout",
     "output_type": "stream",
     "text": [
      "These two Sets have elements in common: \n"
     ]
    },
    {
     "data": {
      "text/plain": [
       "{10, 40, 60}"
      ]
     },
     "execution_count": 20,
     "metadata": {},
     "output_type": "execute_result"
    }
   ],
   "source": [
    "set_1 = {20, 10, 40, 30, 50, 60}\n",
    "set_2 = {60, 80, 70, 90, 40, 10}\n",
    "\n",
    "completely_different_2(set_1, set_2)"
   ]
  },
  {
   "cell_type": "markdown",
   "id": "collaborative-charlotte",
   "metadata": {},
   "source": [
    "---"
   ]
  },
  {
   "cell_type": "markdown",
   "id": "interesting-charlotte",
   "metadata": {},
   "source": [
    "**Q 8:**\n",
    "\n",
    "Define a function that takes a set as a parameter.\n",
    "Let the function empty the set that comes as a parameter, but return its values as a new set.\n",
    "\n",
    "In other words, the parameter will change in place and become an empty set, but its values will return as another set.\n",
    "\n",
    "**to-do:**\n",
    "* do not use any loop\n",
    "* copy()\n",
    "* clear()\n",
    "\n",
    "<pre style=\"background: gold\">\n",
    "Parameter:\n",
    "set1 = {'A', 'B', 'C', 'D', 'E'}\n",
    "\n",
    "Sonuç:\n",
    "before function: {'E', 'C', 'D', 'B', 'A'}\n",
    "after function: set()\n",
    "copy of set: {'D', 'B', 'E', 'A', 'C'}\n",
    "</pre>"
   ]
  },
  {
   "cell_type": "code",
   "execution_count": 21,
   "id": "listed-patrick",
   "metadata": {},
   "outputs": [],
   "source": [
    "# S 8:\n",
    "\n",
    "def copy_and_clear(set1):\n",
    "    \n",
    "    print(\"before function: \", set1)\n",
    "    \n",
    "    set2 = set1.copy()\n",
    "    \n",
    "    set1.clear()\n",
    "    \n",
    "    print(\"after function: \", set1)\n",
    "    \n",
    "    print(\"copy of set: \", set2)"
   ]
  },
  {
   "cell_type": "code",
   "execution_count": 22,
   "id": "respected-williams",
   "metadata": {},
   "outputs": [
    {
     "name": "stdout",
     "output_type": "stream",
     "text": [
      "before function:  {'B', 'D', 'E', 'C', 'A'}\n",
      "after function:  set()\n",
      "copy of set:  {'B', 'D', 'E', 'C', 'A'}\n"
     ]
    }
   ],
   "source": [
    "set1 = {'A', 'B', 'C', 'D', 'E'}\n",
    "copy_and_clear(set1)"
   ]
  },
  {
   "cell_type": "markdown",
   "id": "played-million",
   "metadata": {},
   "source": [
    "---"
   ]
  },
  {
   "cell_type": "markdown",
   "id": "breathing-formation",
   "metadata": {},
   "source": [
    "**Q 9:**\n",
    "\n",
    "Write a function that takes two sets as parameters.\n",
    "\n",
    "Let the function delete elements from the first set that are common to the second set.\n",
    "\n",
    "Let him do the deletion in place. In other words, the set that comes as a parameter changes itself.\n",
    "\n",
    "**to-do:**\n",
    "* don't use loop\n",
    "* difference_update()\n",
    "\n",
    "<pre style=\"background: gold\">\n",
    "Parameters:\n",
    "set1 = {'a', 'b', 'c', 'd', 'e', 'f'}\n",
    "set2 = {'d', 'b', 'e', 'f', 'h', 'g'}\n",
    "\n",
    "Sonuç:\n",
    "before function: {'c', 'a', 'b', 'f', 'd', 'e'}\n",
    "after function: {'c', 'a'}\n",
    "</pre>"
   ]
  },
  {
   "cell_type": "code",
   "execution_count": 24,
   "id": "considered-distinction",
   "metadata": {},
   "outputs": [],
   "source": [
    "# S 9:\n",
    "\n",
    "def delete_same(set1, set2):\n",
    "    \n",
    "    print(\"before function: \", set1)\n",
    "    \n",
    "    set1.difference_update(set2)\n",
    "    \n",
    "    print(\"after function: \", set1)  "
   ]
  },
  {
   "cell_type": "code",
   "execution_count": 25,
   "id": "subjective-commodity",
   "metadata": {},
   "outputs": [
    {
     "name": "stdout",
     "output_type": "stream",
     "text": [
      "before function:  {'a', 'f', 'd', 'c', 'b', 'e'}\n",
      "after function:  {'c', 'a'}\n"
     ]
    }
   ],
   "source": [
    "set1 = {'a', 'b', 'c', 'd', 'e', 'f'}\n",
    "set2 = {'d', 'b', 'e', 'f', 'h', 'g'}\n",
    "\n",
    "delete_same(set1, set2)"
   ]
  },
  {
   "cell_type": "markdown",
   "id": "small-fetish",
   "metadata": {},
   "source": [
    "---"
   ]
  },
  {
   "cell_type": "markdown",
   "id": "arranged-helena",
   "metadata": {},
   "source": [
    "**Q 10:**\n",
    "\n",
    "Define a function that takes two sets as parameters.\n",
    "\n",
    "If the first set is a superset of the second, let the function return this with set information:\n",
    "* Return 'the first set {.....} is a superset of the second {.....}'\n",
    "OR:\n",
    "* Return 'the second set {.....} is a superset of the first {.....}'\n",
    "\n",
    "**to-do:**\n",
    "* don't use loop\n",
    "* issuperset()\n",
    "\n",
    "<pre style=\"background: gold\">\n",
    "Parameters:\n",
    "set1 = {'a', 'b', 'c', 'd'}\n",
    "set2 = {'d', 'b', 'e', 'f', 'a', 'c'}\n",
    "Result:\n",
    "\"Return 'the second set {'c', 'a', 'b', 'f', 'd', 'e'} is a superset of the first {'b', 'c', 'd', 'a'}\"\n",
    "\n",
    "----------------------------\n",
    "Parameters:\n",
    "set1 = {'d', 'b', 'e', 'f', 'a', 'c'}\n",
    "set2 = {'a', 'b', 'c', 'd'}\n",
    "Result:\n",
    "\"Return 'the first set{'c', 'a', 'b', 'f', 'd', 'e'} is a superset of the secondi {'b', 'c', 'd', 'a'}\"\n",
    "</pre>"
   ]
  },
  {
   "cell_type": "code",
   "execution_count": 26,
   "id": "banned-sunrise",
   "metadata": {},
   "outputs": [],
   "source": [
    "# S 10:\n",
    "\n",
    "def find_superset(set1,set2):\n",
    "    \n",
    "    if set1.issuperset(set2):\n",
    "        \n",
    "        print(\"the first set {0} s a superset of the second {1}.\".format(set1,set2))\n",
    "        \n",
    "    else:\n",
    "        \n",
    "        print(\"the second set {0} s a superset of the first {1}.\".format(set2,set1))"
   ]
  },
  {
   "cell_type": "code",
   "execution_count": 27,
   "id": "processed-terrorism",
   "metadata": {},
   "outputs": [
    {
     "name": "stdout",
     "output_type": "stream",
     "text": [
      "the second set {'a', 'f', 'd', 'c', 'b', 'e'} s a superset of the first {'d', 'c', 'b', 'a'}.\n"
     ]
    }
   ],
   "source": [
    "set1 = {'a', 'b', 'c', 'd'}\n",
    "set2 = {'d', 'b', 'e', 'f', 'a', 'c'}\n",
    "\n",
    "find_superset(set1,set2)"
   ]
  },
  {
   "cell_type": "code",
   "execution_count": 28,
   "id": "serious-surface",
   "metadata": {},
   "outputs": [
    {
     "name": "stdout",
     "output_type": "stream",
     "text": [
      "the first set {'a', 'f', 'd', 'c', 'b', 'e'} s a superset of the second {'d', 'c', 'b', 'a'}.\n"
     ]
    }
   ],
   "source": [
    "set1 = {'d', 'b', 'e', 'f', 'a', 'c'}\n",
    "set2 = {'a', 'b', 'c', 'd'}\n",
    "\n",
    "find_superset(set1,set2)"
   ]
  },
  {
   "cell_type": "code",
   "execution_count": null,
   "id": "optimum-boulder",
   "metadata": {},
   "outputs": [],
   "source": []
  }
 ],
 "metadata": {
  "kernelspec": {
   "display_name": "Python 3 (ipykernel)",
   "language": "python",
   "name": "python3"
  },
  "language_info": {
   "codemirror_mode": {
    "name": "ipython",
    "version": 3
   },
   "file_extension": ".py",
   "mimetype": "text/x-python",
   "name": "python",
   "nbconvert_exporter": "python",
   "pygments_lexer": "ipython3",
   "version": "3.9.12"
  }
 },
 "nbformat": 4,
 "nbformat_minor": 5
}
