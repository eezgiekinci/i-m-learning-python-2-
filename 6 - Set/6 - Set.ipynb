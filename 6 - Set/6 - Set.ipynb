{
 "cells": [
  {
   "cell_type": "markdown",
   "id": "c725f363-9ceb-4dc4-a701-dbe156e91888",
   "metadata": {},
   "source": [
    "## 6 - Set"
   ]
  },
  {
   "cell_type": "markdown",
   "id": "d8256475-a2f5-4646-9acc-202df49b4992",
   "metadata": {},
   "source": [
    "Sets are used to store multiple items in a single variable.\n",
    "\n",
    "Set is one of 4 built-in data types in Python used to store collections of data, the other 3 are List, Tuple, and Dictionary, all with different qualities and usage.\n",
    "\n",
    "A set is a collection which is unordered, unchangeable*, and unindexed."
   ]
  },
  {
   "cell_type": "code",
   "execution_count": 36,
   "id": "49c9d906-9fd6-46c8-a6ac-b38ee5baacd9",
   "metadata": {},
   "outputs": [
    {
     "name": "stdout",
     "output_type": "stream",
     "text": [
      "{'banana', 'cherry', 'apple'}\n"
     ]
    }
   ],
   "source": [
    "fruit_set = {\"apple\", \"banana\", \"cherry\"}\n",
    "print(fruit_set)"
   ]
  },
  {
   "cell_type": "code",
   "execution_count": 2,
   "id": "cdc6f825-802e-486d-a1ed-0fafc06d17bc",
   "metadata": {},
   "outputs": [
    {
     "data": {
      "text/plain": [
       "set"
      ]
     },
     "execution_count": 2,
     "metadata": {},
     "output_type": "execute_result"
    }
   ],
   "source": [
    "type(fruit_set)"
   ]
  },
  {
   "cell_type": "markdown",
   "id": "a8f607c6-33aa-4d90-ab4b-7f9243a6820c",
   "metadata": {},
   "source": [
    "We create a set using curly braces but there is an important point:"
   ]
  },
  {
   "cell_type": "code",
   "execution_count": 3,
   "id": "19fbb0b0-0299-48f3-a4eb-1c522db9df0f",
   "metadata": {},
   "outputs": [
    {
     "data": {
      "text/plain": [
       "{}"
      ]
     },
     "execution_count": 3,
     "metadata": {},
     "output_type": "execute_result"
    }
   ],
   "source": [
    "set1 = {}\n",
    "set1"
   ]
  },
  {
   "cell_type": "code",
   "execution_count": 5,
   "id": "f4f17c0d-b9d8-43cd-8b1d-b99732f987cf",
   "metadata": {},
   "outputs": [
    {
     "data": {
      "text/plain": [
       "dict"
      ]
     },
     "execution_count": 5,
     "metadata": {},
     "output_type": "execute_result"
    }
   ],
   "source": [
    "type(set1)"
   ]
  },
  {
   "cell_type": "markdown",
   "id": "716f8b6d-9ae7-48de-9978-88cd0cf5af4d",
   "metadata": {},
   "source": [
    "If we want to create a set, it must have at least one element like `fruit_set`\n",
    "\n",
    "or\n",
    "\n",
    "we should use `set()`"
   ]
  },
  {
   "cell_type": "code",
   "execution_count": 7,
   "id": "df98df90-a423-442f-9154-ede4cc4ab8c9",
   "metadata": {},
   "outputs": [
    {
     "data": {
      "text/plain": [
       "set()"
      ]
     },
     "execution_count": 7,
     "metadata": {},
     "output_type": "execute_result"
    }
   ],
   "source": [
    "set2 = set()\n",
    "set2"
   ]
  },
  {
   "cell_type": "code",
   "execution_count": 8,
   "id": "9567db2c-ccc4-4b14-96eb-17d062571ef3",
   "metadata": {},
   "outputs": [
    {
     "data": {
      "text/plain": [
       "set"
      ]
     },
     "execution_count": 8,
     "metadata": {},
     "output_type": "execute_result"
    }
   ],
   "source": [
    "type(set2)"
   ]
  },
  {
   "cell_type": "markdown",
   "id": "3b074533-0e07-4c55-bc05-ac185ab9463a",
   "metadata": {},
   "source": [
    "### 6.1 - The Same Element Can Not Be Included in the Set More Than Once:\n"
   ]
  },
  {
   "cell_type": "code",
   "execution_count": 9,
   "id": "08e18b56-b83d-4a6c-bc13-936ecbf7d287",
   "metadata": {},
   "outputs": [
    {
     "data": {
      "text/plain": [
       "{'A', 'B', 'a', 'b'}"
      ]
     },
     "execution_count": 9,
     "metadata": {},
     "output_type": "execute_result"
    }
   ],
   "source": [
    "notes = {\"A\",\"B\",\"b\",\"b\",\"a\",\"A\"}\n",
    "notes"
   ]
  },
  {
   "cell_type": "markdown",
   "id": "9a5c022e-9cdd-42af-a69e-05ea40e568e3",
   "metadata": {},
   "source": [
    "### 6.2 - Methods of Set:"
   ]
  },
  {
   "cell_type": "markdown",
   "id": "59c8756e-641f-4f0a-93f0-f22f4d7f2cd8",
   "metadata": {},
   "source": [
    "**`intersection` : $$ A \\cap B $$**"
   ]
  },
  {
   "cell_type": "code",
   "execution_count": 11,
   "id": "f779d483-7303-4f5e-b2a3-6b35b858617e",
   "metadata": {},
   "outputs": [
    {
     "data": {
      "text/plain": [
       "{'A', 'B', 'C'}"
      ]
     },
     "execution_count": 11,
     "metadata": {},
     "output_type": "execute_result"
    }
   ],
   "source": [
    "letters = {'A', 'A', 'B', 'C', 'B', 'C'}\n",
    "letters"
   ]
  },
  {
   "cell_type": "code",
   "execution_count": 12,
   "id": "1d726934-96ef-41b6-94f2-9ae98968b601",
   "metadata": {},
   "outputs": [
    {
     "data": {
      "text/plain": [
       "{'A', 'B', 'F', 'L', 'T'}"
      ]
     },
     "execution_count": 12,
     "metadata": {},
     "output_type": "execute_result"
    }
   ],
   "source": [
    "degrees = {'A', 'L', 'T', 'B', 'F'}\n",
    "degrees"
   ]
  },
  {
   "cell_type": "code",
   "execution_count": 13,
   "id": "3569298c-b569-478d-89e4-53f369a35564",
   "metadata": {},
   "outputs": [
    {
     "data": {
      "text/plain": [
       "{'A', 'B'}"
      ]
     },
     "execution_count": 13,
     "metadata": {},
     "output_type": "execute_result"
    }
   ],
   "source": [
    "letters.intersection(degrees)"
   ]
  },
  {
   "cell_type": "markdown",
   "id": "20925fd1-98f6-4a07-b346-9f36493e04b2",
   "metadata": {},
   "source": [
    "**`union` : $$ A \\cup B $$**"
   ]
  },
  {
   "cell_type": "code",
   "execution_count": 14,
   "id": "4efe2956-1f5a-48a6-bd8f-67ca2a9de23e",
   "metadata": {},
   "outputs": [
    {
     "data": {
      "text/plain": [
       "{'A', 'B', 'C', 'F', 'L', 'T'}"
      ]
     },
     "execution_count": 14,
     "metadata": {},
     "output_type": "execute_result"
    }
   ],
   "source": [
    "degrees.union(letters)"
   ]
  },
  {
   "cell_type": "markdown",
   "id": "bd71ecf1-ecce-45d9-aab1-e532fc479962",
   "metadata": {},
   "source": [
    "**`difference`: $$ A \\setminus B $$**"
   ]
  },
  {
   "cell_type": "code",
   "execution_count": 15,
   "id": "7cffaa68-0c7d-498f-9ad9-44b3820856d0",
   "metadata": {},
   "outputs": [
    {
     "data": {
      "text/plain": [
       "{'F', 'L', 'T'}"
      ]
     },
     "execution_count": 15,
     "metadata": {},
     "output_type": "execute_result"
    }
   ],
   "source": [
    "degrees.difference(letters)"
   ]
  },
  {
   "cell_type": "markdown",
   "id": "78e4ca6a-f180-4121-a8c5-11bc15d63aeb",
   "metadata": {},
   "source": [
    "**`issubset()`**"
   ]
  },
  {
   "cell_type": "code",
   "execution_count": 17,
   "id": "bdc091c7-920b-4001-8ce0-8d8012ca88c7",
   "metadata": {},
   "outputs": [
    {
     "data": {
      "text/plain": [
       "False"
      ]
     },
     "execution_count": 17,
     "metadata": {},
     "output_type": "execute_result"
    }
   ],
   "source": [
    "letters.issubset(degrees)"
   ]
  },
  {
   "cell_type": "code",
   "execution_count": 18,
   "id": "1dfdc70d-9cf6-4e1b-b9a8-7d084891c8ea",
   "metadata": {},
   "outputs": [
    {
     "data": {
      "text/plain": [
       "True"
      ]
     },
     "execution_count": 18,
     "metadata": {},
     "output_type": "execute_result"
    }
   ],
   "source": [
    "set({\"A\",\"B\",\"C\"}).issubset(letters)"
   ]
  },
  {
   "cell_type": "markdown",
   "id": "bbca374f-762e-4b5b-85dc-f468757127f6",
   "metadata": {},
   "source": [
    "**`issuperset()`**"
   ]
  },
  {
   "cell_type": "code",
   "execution_count": 19,
   "id": "0975a441-d838-4db6-b19d-425ff4aff81e",
   "metadata": {},
   "outputs": [
    {
     "data": {
      "text/plain": [
       "True"
      ]
     },
     "execution_count": 19,
     "metadata": {},
     "output_type": "execute_result"
    }
   ],
   "source": [
    "degrees.issuperset(set({\"F\"}))"
   ]
  },
  {
   "cell_type": "markdown",
   "id": "f1c1ae37-73f3-40bd-8eb9-3b0574e1d964",
   "metadata": {},
   "source": [
    "**`symmetric_difference()`**\n"
   ]
  },
  {
   "cell_type": "code",
   "execution_count": 21,
   "id": "126cc855-9c7e-498e-bae3-8cd8799160f8",
   "metadata": {},
   "outputs": [
    {
     "data": {
      "text/plain": [
       "{'C', 'F', 'L', 'T'}"
      ]
     },
     "execution_count": 21,
     "metadata": {},
     "output_type": "execute_result"
    }
   ],
   "source": [
    "letters.symmetric_difference(degrees)"
   ]
  },
  {
   "cell_type": "markdown",
   "id": "5db9da69-fcb1-4829-8e4e-09e9c54a8d0a",
   "metadata": {},
   "source": [
    "**`add()`**"
   ]
  },
  {
   "cell_type": "code",
   "execution_count": 22,
   "id": "d74ef948-563f-4d3d-a6ae-21c4423ebab7",
   "metadata": {},
   "outputs": [
    {
     "data": {
      "text/plain": [
       "{'A', 'B', 'C', 'P'}"
      ]
     },
     "execution_count": 22,
     "metadata": {},
     "output_type": "execute_result"
    }
   ],
   "source": [
    "letters.add(\"P\")\n",
    "letters"
   ]
  },
  {
   "cell_type": "markdown",
   "id": "bc5ab228-4860-4751-ba34-a67154c4ac02",
   "metadata": {},
   "source": [
    "**`remove()`**"
   ]
  },
  {
   "cell_type": "code",
   "execution_count": 23,
   "id": "d7ca671b-b406-41d2-8e26-7629fccfc8f1",
   "metadata": {},
   "outputs": [
    {
     "data": {
      "text/plain": [
       "{'A', 'B', 'C'}"
      ]
     },
     "execution_count": 23,
     "metadata": {},
     "output_type": "execute_result"
    }
   ],
   "source": [
    "letters.remove(\"P\")\n",
    "letters"
   ]
  },
  {
   "cell_type": "markdown",
   "id": "d90a070f-4ee8-401c-8d4c-4ac1c61603eb",
   "metadata": {},
   "source": [
    "**`update()`**"
   ]
  },
  {
   "cell_type": "code",
   "execution_count": 30,
   "id": "1e43e738-99eb-4463-9127-d79581faac52",
   "metadata": {},
   "outputs": [
    {
     "data": {
      "text/plain": [
       "{'apple', 'banana', 'cherry'}"
      ]
     },
     "execution_count": 30,
     "metadata": {},
     "output_type": "execute_result"
    }
   ],
   "source": [
    "fruit_set = {\"apple\", \"banana\", \"cherry\"}\n",
    "fruit_set"
   ]
  },
  {
   "cell_type": "code",
   "execution_count": 31,
   "id": "04040e00-2999-4bf7-a4fa-2140507be3ee",
   "metadata": {},
   "outputs": [
    {
     "data": {
      "text/plain": [
       "{'raspberry', 'strawberry', 'watermelon'}"
      ]
     },
     "execution_count": 31,
     "metadata": {},
     "output_type": "execute_result"
    }
   ],
   "source": [
    "more_fruits = {\"watermelon\", \"strawberry\", \"raspberry\"}\n",
    "more_fruits"
   ]
  },
  {
   "cell_type": "code",
   "execution_count": 32,
   "id": "d7d5a9d6-8a82-4376-af03-3f7acade8c9f",
   "metadata": {},
   "outputs": [
    {
     "data": {
      "text/plain": [
       "{'apple', 'banana', 'cherry', 'raspberry', 'strawberry', 'watermelon'}"
      ]
     },
     "execution_count": 32,
     "metadata": {},
     "output_type": "execute_result"
    }
   ],
   "source": [
    "fruit_set.update(more_fruits)\n",
    "fruit_set"
   ]
  },
  {
   "cell_type": "code",
   "execution_count": 33,
   "id": "3845cb9a-34f4-451e-a1c8-b7f5f784f77b",
   "metadata": {},
   "outputs": [],
   "source": [
    "# unindexed"
   ]
  },
  {
   "cell_type": "markdown",
   "id": "b4bf25bd-f099-4145-ab79-f2b93badc158",
   "metadata": {},
   "source": [
    "**`alising`**"
   ]
  },
  {
   "cell_type": "code",
   "execution_count": 34,
   "id": "d846e3c1-b3c0-43e9-ad5d-d539a85a66f8",
   "metadata": {},
   "outputs": [
    {
     "name": "stdout",
     "output_type": "stream",
     "text": [
      "a: {2, 5, 'NEW', 7}\n",
      "b: {2, 5, 'NEW', 7}\n"
     ]
    }
   ],
   "source": [
    "# creating a set\n",
    "\n",
    "a = {2, 5, 7}\n",
    "\n",
    "# alising\n",
    "b = a\n",
    "\n",
    "# add a new element to b\n",
    "b.add('NEW')\n",
    "\n",
    "# print them\n",
    "print('a:', a)\n",
    "print('b:', b)"
   ]
  },
  {
   "cell_type": "code",
   "execution_count": 35,
   "id": "f7eedb08-b58d-409e-8581-1b0e5122ad6b",
   "metadata": {},
   "outputs": [
    {
     "name": "stdout",
     "output_type": "stream",
     "text": [
      "a: {2, 'NNN', 5, 'NEW', 7}\n",
      "b: {2, 'NNN', 5, 'NEW', 7}\n"
     ]
    }
   ],
   "source": [
    "# adding a new element to a\n",
    "\n",
    "a.add(\"NNN\")\n",
    "\n",
    "# print them\n",
    "\n",
    "print('a:', a)\n",
    "print('b:', b)\n"
   ]
  },
  {
   "cell_type": "code",
   "execution_count": null,
   "id": "1c750d10-7c79-442d-bd6c-7f4a33e375ba",
   "metadata": {},
   "outputs": [],
   "source": []
  }
 ],
 "metadata": {
  "kernelspec": {
   "display_name": "Python 3 (ipykernel)",
   "language": "python",
   "name": "python3"
  },
  "language_info": {
   "codemirror_mode": {
    "name": "ipython",
    "version": 3
   },
   "file_extension": ".py",
   "mimetype": "text/x-python",
   "name": "python",
   "nbconvert_exporter": "python",
   "pygments_lexer": "ipython3",
   "version": "3.9.12"
  }
 },
 "nbformat": 4,
 "nbformat_minor": 5
}
