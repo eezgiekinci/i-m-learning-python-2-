{
 "cells": [
  {
   "cell_type": "markdown",
   "id": "1b8b2074-6cf7-4a5b-a38c-0f219ea3f027",
   "metadata": {},
   "source": [
    "## 4. Dictionary"
   ]
  },
  {
   "cell_type": "markdown",
   "id": "f974147d-88c4-4d1c-9d38-f1ef109feca4",
   "metadata": {},
   "source": [
    "Dict is a built-in a variable type in Python. \n",
    "\n",
    "An example for a dict:\n",
    "\n",
    "**worker = {** \n",
    "           **\"name-surname\": \"Clark Kent\",**       \n",
    "            **\"age\" : 37,**         \n",
    "            **\"department\" : \"press\"}**"
   ]
  },
  {
   "cell_type": "markdown",
   "id": "b53e5541-4e85-454f-bfd7-bb2a3dd0648b",
   "metadata": {},
   "source": [
    "* \"name-surname\", \"age\" and \"department\" are the keys.\n",
    "\n",
    "* \"Clark Kent\", 37 and \"press\" are the values.\n",
    "\n",
    "* `key` have to be unique."
   ]
  },
  {
   "cell_type": "markdown",
   "id": "21cb8a94-915e-40b5-8ca1-c2aba9f9c754",
   "metadata": {},
   "source": [
    "There are two ways to create a dictionary:\n",
    "\n",
    "* using { } \n",
    "\n",
    "or\n",
    "\n",
    "* dict()  --> it is similar with creating a list ( list() )"
   ]
  },
  {
   "cell_type": "markdown",
   "id": "0f97df94-d84f-4dad-8c32-3ae7d7578b94",
   "metadata": {},
   "source": [
    "**How can we access a value in the dictionary?**"
   ]
  },
  {
   "cell_type": "markdown",
   "id": "2072c71f-82fe-4273-8189-876873d92fe4",
   "metadata": {},
   "source": [
    "We use an index to access a value in `List`  --> a[0]\n",
    "\n",
    "However, we cannot use the index to access a value in `Dict` --> a[key]"
   ]
  },
  {
   "cell_type": "code",
   "execution_count": 2,
   "id": "4dd487d5-602f-4969-a8c2-a2ef15978cc2",
   "metadata": {},
   "outputs": [],
   "source": [
    "cars = dict(\n",
    "      {\n",
    "          \"Audi\" : \"Germany\",\n",
    "          \"Mazda\" : \"Japan\",\n",
    "          \"Fiat\" : \"Italy\"\n",
    "       })"
   ]
  },
  {
   "cell_type": "code",
   "execution_count": 3,
   "id": "67b36bc0-a9f2-4a09-9cb9-3d82313bf2f4",
   "metadata": {},
   "outputs": [
    {
     "data": {
      "text/plain": [
       "{'Audi': 'Germany', 'Mazda': 'Japan', 'Fiat': 'Italy'}"
      ]
     },
     "execution_count": 3,
     "metadata": {},
     "output_type": "execute_result"
    }
   ],
   "source": [
    "cars"
   ]
  },
  {
   "cell_type": "code",
   "execution_count": 4,
   "id": "d20bac6f-f8ca-4787-b19a-968b523fea60",
   "metadata": {},
   "outputs": [
    {
     "ename": "KeyError",
     "evalue": "0",
     "output_type": "error",
     "traceback": [
      "\u001b[1;31m---------------------------------------------------------------------------\u001b[0m",
      "\u001b[1;31mKeyError\u001b[0m                                  Traceback (most recent call last)",
      "Input \u001b[1;32mIn [4]\u001b[0m, in \u001b[0;36m<cell line: 1>\u001b[1;34m()\u001b[0m\n\u001b[1;32m----> 1\u001b[0m \u001b[43mcars\u001b[49m\u001b[43m[\u001b[49m\u001b[38;5;241;43m0\u001b[39;49m\u001b[43m]\u001b[49m\n",
      "\u001b[1;31mKeyError\u001b[0m: 0"
     ]
    }
   ],
   "source": [
    "cars[0]"
   ]
  },
  {
   "cell_type": "code",
   "execution_count": 5,
   "id": "60944a01-eb9a-4e79-8e98-f7dbe6df71e9",
   "metadata": {},
   "outputs": [
    {
     "data": {
      "text/plain": [
       "'Italy'"
      ]
     },
     "execution_count": 5,
     "metadata": {},
     "output_type": "execute_result"
    }
   ],
   "source": [
    "cars[\"Fiat\"]"
   ]
  },
  {
   "cell_type": "code",
   "execution_count": 6,
   "id": "e5f27cf8-2ffb-4f27-bbd4-2a7d72bf625b",
   "metadata": {},
   "outputs": [
    {
     "ename": "KeyError",
     "evalue": "'Toyota'",
     "output_type": "error",
     "traceback": [
      "\u001b[1;31m---------------------------------------------------------------------------\u001b[0m",
      "\u001b[1;31mKeyError\u001b[0m                                  Traceback (most recent call last)",
      "Input \u001b[1;32mIn [6]\u001b[0m, in \u001b[0;36m<cell line: 1>\u001b[1;34m()\u001b[0m\n\u001b[1;32m----> 1\u001b[0m \u001b[43mcars\u001b[49m\u001b[43m[\u001b[49m\u001b[38;5;124;43m\"\u001b[39;49m\u001b[38;5;124;43mToyota\u001b[39;49m\u001b[38;5;124;43m\"\u001b[39;49m\u001b[43m]\u001b[49m\n",
      "\u001b[1;31mKeyError\u001b[0m: 'Toyota'"
     ]
    }
   ],
   "source": [
    "cars[\"Toyota\"]"
   ]
  },
  {
   "cell_type": "markdown",
   "id": "6f29aef5-5962-487c-9d43-01b229b07667",
   "metadata": {},
   "source": [
    "## 4.1 Adding or Replacing an Element in the Dictionary"
   ]
  },
  {
   "cell_type": "markdown",
   "id": "bebdbc63-7e41-4aed-8569-c90d09961194",
   "metadata": {},
   "source": [
    "* The `dict` is a value which is {key : value} \n",
    "\n",
    "* To add or replace an element in a `list`, we use some of function such as append(), insert()\n",
    "\n",
    "* `dict` has no functions.\n",
    "\n",
    "* we use the way this : dict[key] = value"
   ]
  },
  {
   "cell_type": "code",
   "execution_count": 7,
   "id": "ba063c60-0065-4a55-b2d8-1c0a9f032194",
   "metadata": {},
   "outputs": [
    {
     "data": {
      "text/plain": [
       "{}"
      ]
     },
     "execution_count": 7,
     "metadata": {},
     "output_type": "execute_result"
    }
   ],
   "source": [
    "# creat an empty dictionary that is a English -Turkisth dictionary:\n",
    "\n",
    "engTr = {}\n",
    "\n",
    "engTr"
   ]
  },
  {
   "cell_type": "code",
   "execution_count": 8,
   "id": "64a6789a-9f39-4402-a978-3a2284519882",
   "metadata": {},
   "outputs": [
    {
     "data": {
      "text/plain": [
       "{'one': 'bir'}"
      ]
     },
     "execution_count": 8,
     "metadata": {},
     "output_type": "execute_result"
    }
   ],
   "source": [
    "# let's add some elements:\n",
    "\n",
    "engTr[\"one\"] = \"bir\"\n",
    "engTr"
   ]
  },
  {
   "cell_type": "code",
   "execution_count": 9,
   "id": "53dbab0a-fab7-48dc-9089-b3ab2cae94e9",
   "metadata": {},
   "outputs": [
    {
     "data": {
      "text/plain": [
       "{'one': 'bir', 'two': 'iki', 'three': 'üç'}"
      ]
     },
     "execution_count": 9,
     "metadata": {},
     "output_type": "execute_result"
    }
   ],
   "source": [
    "engTr[\"two\"] = \"iki\"\n",
    "engTr[\"three\"] = \"üç\"\n",
    "engTr"
   ]
  },
  {
   "cell_type": "code",
   "execution_count": 10,
   "id": "7a1d6fe1-4903-45aa-9c54-9dfb9b4ed7bc",
   "metadata": {},
   "outputs": [
    {
     "ename": "AttributeError",
     "evalue": "'dict' object has no attribute 'append'",
     "output_type": "error",
     "traceback": [
      "\u001b[1;31m---------------------------------------------------------------------------\u001b[0m",
      "\u001b[1;31mAttributeError\u001b[0m                            Traceback (most recent call last)",
      "Input \u001b[1;32mIn [10]\u001b[0m, in \u001b[0;36m<cell line: 3>\u001b[1;34m()\u001b[0m\n\u001b[0;32m      1\u001b[0m \u001b[38;5;66;03m# if we use append() in a dict:\u001b[39;00m\n\u001b[1;32m----> 3\u001b[0m \u001b[43mengTr\u001b[49m\u001b[38;5;241;43m.\u001b[39;49m\u001b[43mappend\u001b[49m({\u001b[38;5;124m\"\u001b[39m\u001b[38;5;124mfour\u001b[39m\u001b[38;5;124m\"\u001b[39m:\u001b[38;5;124m\"\u001b[39m\u001b[38;5;124mdört\u001b[39m\u001b[38;5;124m\"\u001b[39m})\n",
      "\u001b[1;31mAttributeError\u001b[0m: 'dict' object has no attribute 'append'"
     ]
    }
   ],
   "source": [
    "# if we use append() in a dict:\n",
    "\n",
    "engTr.append({\"four\":\"dört\"})"
   ]
  },
  {
   "cell_type": "code",
   "execution_count": 17,
   "id": "8780bc58-4ef6-4dda-b4aa-159186971036",
   "metadata": {},
   "outputs": [
    {
     "data": {
      "text/plain": [
       "{'one': 'bir',\n",
       " 'two': 'iki',\n",
       " 'three': 'üç',\n",
       " 'five': 'besh',\n",
       " 'six': 'altı',\n",
       " 'seven': 'yedi',\n",
       " 'eight': 'sekiz',\n",
       " 'nine': 'dokuz'}"
      ]
     },
     "execution_count": 17,
     "metadata": {},
     "output_type": "execute_result"
    }
   ],
   "source": [
    "# enter a wrong value:\n",
    "\n",
    "engTr[\"five\"] = \"besh\"\n",
    "engTr"
   ]
  },
  {
   "cell_type": "code",
   "execution_count": 12,
   "id": "8424e5e2-dee2-437e-907b-a6db60378a6e",
   "metadata": {},
   "outputs": [
    {
     "data": {
      "text/plain": [
       "{'one': 'bir', 'two': 'iki', 'three': 'üç', 'five': 'beş'}"
      ]
     },
     "execution_count": 12,
     "metadata": {},
     "output_type": "execute_result"
    }
   ],
   "source": [
    "# to change the wrong value is:\n",
    "\n",
    "engTr[\"five\"] = \"beş\"\n",
    "engTr"
   ]
  },
  {
   "cell_type": "code",
   "execution_count": 15,
   "id": "c71886f6-75ce-45b5-9399-5ed0b5181b1c",
   "metadata": {},
   "outputs": [
    {
     "data": {
      "text/plain": [
       "{'one': 'bir', 'two': 'iki', 'three': 'üç', 'five': 'beş', 'six': 'altı'}"
      ]
     },
     "execution_count": 15,
     "metadata": {},
     "output_type": "execute_result"
    }
   ],
   "source": [
    "# there is a simple way to add  new element to the dict: \n",
    "\n",
    "new_value = {\"six\" : \"altı\"}\n",
    "\n",
    "\n",
    "engTr.update(new_value)\n",
    "\n",
    "engTr"
   ]
  },
  {
   "cell_type": "code",
   "execution_count": 16,
   "id": "687bf2d9-1fd7-4b29-9d33-ef8c8c9cd7bf",
   "metadata": {},
   "outputs": [
    {
     "data": {
      "text/plain": [
       "{'one': 'bir',\n",
       " 'two': 'iki',\n",
       " 'three': 'üç',\n",
       " 'five': 'beş',\n",
       " 'six': 'altı',\n",
       " 'seven': 'yedi',\n",
       " 'eight': 'sekiz',\n",
       " 'nine': 'dokuz'}"
      ]
     },
     "execution_count": 16,
     "metadata": {},
     "output_type": "execute_result"
    }
   ],
   "source": [
    "new_values = {\"seven\" : \"yedi\", \"eight\" : \"sekiz\", \"nine\" : \"dokuz\" }\n",
    "\n",
    "\n",
    "engTr.update(new_values)\n",
    "\n",
    "engTr"
   ]
  },
  {
   "cell_type": "markdown",
   "id": "71fd8ce1-f474-445a-a5ab-40594cf2509a",
   "metadata": {},
   "source": [
    "## 4.1.1 Remove an Element from Dictionary"
   ]
  },
  {
   "cell_type": "markdown",
   "id": "7b638bd8-e3d6-4e9c-bd30-41b6d16f1d57",
   "metadata": {},
   "source": [
    "* To remove an element in a list, we use some of function such as pop(), del\n",
    "\n",
    "* Fortunately, we can use them in Dict as well."
   ]
  },
  {
   "cell_type": "code",
   "execution_count": 18,
   "id": "72fa3358-4f74-4626-ab16-2b1f985e2f87",
   "metadata": {},
   "outputs": [
    {
     "data": {
      "text/plain": [
       "{'one': 'bir',\n",
       " 'two': 'iki',\n",
       " 'three': 'üç',\n",
       " 'five': 'besh',\n",
       " 'six': 'altı',\n",
       " 'seven': 'yedi',\n",
       " 'eight': 'sekiz',\n",
       " 'nine': 'dokuz',\n",
       " 'teen': 'on'}"
      ]
     },
     "execution_count": 18,
     "metadata": {},
     "output_type": "execute_result"
    }
   ],
   "source": [
    "# enter a wrong **key**:\n",
    "\n",
    "engTr[\"teen\"] = \"on\"\n",
    "engTr"
   ]
  },
  {
   "cell_type": "code",
   "execution_count": 19,
   "id": "5e6c7a46-e80f-4a46-9ab5-4beab343a157",
   "metadata": {},
   "outputs": [
    {
     "data": {
      "text/plain": [
       "'on'"
      ]
     },
     "execution_count": 19,
     "metadata": {},
     "output_type": "execute_result"
    }
   ],
   "source": [
    "# We cannot replace the key but we can remove it:\n",
    "\n",
    "engTr.pop(\"teen\")"
   ]
  },
  {
   "cell_type": "code",
   "execution_count": 20,
   "id": "ffa47eb9-ca98-4b07-a91e-8f4538daded0",
   "metadata": {},
   "outputs": [
    {
     "data": {
      "text/plain": [
       "{'one': 'bir',\n",
       " 'two': 'iki',\n",
       " 'three': 'üç',\n",
       " 'five': 'besh',\n",
       " 'six': 'altı',\n",
       " 'seven': 'yedi',\n",
       " 'eight': 'sekiz',\n",
       " 'nine': 'dokuz'}"
      ]
     },
     "execution_count": 20,
     "metadata": {},
     "output_type": "execute_result"
    }
   ],
   "source": [
    "engTr"
   ]
  },
  {
   "cell_type": "code",
   "execution_count": 21,
   "id": "e498d018-eacd-4973-b601-2a3b5824aecd",
   "metadata": {},
   "outputs": [
    {
     "data": {
      "text/plain": [
       "{'one': 'bir',\n",
       " 'two': 'iki',\n",
       " 'three': 'üç',\n",
       " 'five': 'besh',\n",
       " 'six': 'altı',\n",
       " 'seven': 'yedi',\n",
       " 'eight': 'sekiz'}"
      ]
     },
     "execution_count": 21,
     "metadata": {},
     "output_type": "execute_result"
    }
   ],
   "source": [
    "del engTr[\"nine\"]\n",
    "\n",
    "engTr"
   ]
  },
  {
   "cell_type": "code",
   "execution_count": 22,
   "id": "31245085-05a1-457f-8aad-7e91c2b6d797",
   "metadata": {},
   "outputs": [
    {
     "ename": "KeyError",
     "evalue": "'four'",
     "output_type": "error",
     "traceback": [
      "\u001b[1;31m---------------------------------------------------------------------------\u001b[0m",
      "\u001b[1;31mKeyError\u001b[0m                                  Traceback (most recent call last)",
      "Input \u001b[1;32mIn [22]\u001b[0m, in \u001b[0;36m<cell line: 3>\u001b[1;34m()\u001b[0m\n\u001b[0;32m      1\u001b[0m \u001b[38;5;66;03m# To remove a key which is not exist in Dict:\u001b[39;00m\n\u001b[1;32m----> 3\u001b[0m \u001b[38;5;28;01mdel\u001b[39;00m engTr[\u001b[38;5;124m\"\u001b[39m\u001b[38;5;124mfour\u001b[39m\u001b[38;5;124m\"\u001b[39m]\n",
      "\u001b[1;31mKeyError\u001b[0m: 'four'"
     ]
    }
   ],
   "source": [
    "# To remove a key which is not exist in Dict:\n",
    "\n",
    "del engTr[\"four\"]"
   ]
  },
  {
   "cell_type": "markdown",
   "id": "4064390a-c161-4253-b383-70dcb7926c6a",
   "metadata": {},
   "source": [
    "## 4.2 Accessing the Elements of Dictionary"
   ]
  },
  {
   "cell_type": "code",
   "execution_count": 25,
   "id": "349c8f68-7c07-4276-a938-9c50c044d766",
   "metadata": {},
   "outputs": [
    {
     "data": {
      "text/plain": [
       "dict_items([('one', 'bir'), ('two', 'iki'), ('three', 'üç'), ('five', 'besh'), ('six', 'altı'), ('seven', 'yedi'), ('eight', 'sekiz')])"
      ]
     },
     "execution_count": 25,
     "metadata": {},
     "output_type": "execute_result"
    }
   ],
   "source": [
    "engTr.items()"
   ]
  },
  {
   "cell_type": "code",
   "execution_count": 26,
   "id": "2b9b53ec-9bd3-42e8-a904-0d282dda3256",
   "metadata": {},
   "outputs": [
    {
     "data": {
      "text/plain": [
       "dict_values(['bir', 'iki', 'üç', 'besh', 'altı', 'yedi', 'sekiz'])"
      ]
     },
     "execution_count": 26,
     "metadata": {},
     "output_type": "execute_result"
    }
   ],
   "source": [
    "engTr.values()"
   ]
  },
  {
   "cell_type": "code",
   "execution_count": 27,
   "id": "01c649f2-f10f-4cdc-b6a3-62cc1b93b2fc",
   "metadata": {},
   "outputs": [
    {
     "data": {
      "text/plain": [
       "dict_keys(['one', 'two', 'three', 'five', 'six', 'seven', 'eight'])"
      ]
     },
     "execution_count": 27,
     "metadata": {},
     "output_type": "execute_result"
    }
   ],
   "source": [
    "engTr.keys()"
   ]
  },
  {
   "cell_type": "code",
   "execution_count": null,
   "id": "d8dff857-996f-4d5e-951f-686ec9af06c8",
   "metadata": {},
   "outputs": [],
   "source": []
  },
  {
   "cell_type": "code",
   "execution_count": 28,
   "id": "6973a89b-8b7f-47d4-8253-6ff3b14d4abc",
   "metadata": {},
   "outputs": [
    {
     "name": "stdout",
     "output_type": "stream",
     "text": [
      "one : bir\n",
      "two : iki\n",
      "three : üç\n",
      "five : besh\n",
      "six : altı\n",
      "seven : yedi\n",
      "eight : sekiz\n"
     ]
    }
   ],
   "source": [
    "for k,v in engTr.items():\n",
    "    print(\"{} : {}\".format(k,v))"
   ]
  },
  {
   "cell_type": "markdown",
   "id": "da24037f-9dd8-422d-9f3c-b8d7a98015cb",
   "metadata": {},
   "source": [
    "**get()**"
   ]
  },
  {
   "cell_type": "code",
   "execution_count": 30,
   "id": "16dcab31-c02a-4249-a777-1ee5b092054f",
   "metadata": {},
   "outputs": [
    {
     "data": {
      "text/plain": [
       "{'brand': 'ford',\n",
       " 'model': 'mustang',\n",
       " 'year': 1964,\n",
       " 'colour': 'red',\n",
       " 'km': 300000}"
      ]
     },
     "execution_count": 30,
     "metadata": {},
     "output_type": "execute_result"
    }
   ],
   "source": [
    "car = {\n",
    "    \"brand\":\"ford\",\n",
    "    \"model\":\"mustang\",\n",
    "    \"year\":1964,\n",
    "    \"colour\":\"red\",\n",
    "    \"km\":300000\n",
    "}\n",
    "\n",
    "car\n"
   ]
  },
  {
   "cell_type": "code",
   "execution_count": 31,
   "id": "2121f167-8889-4c6d-a420-85e1a16635ca",
   "metadata": {},
   "outputs": [
    {
     "data": {
      "text/plain": [
       "'ford'"
      ]
     },
     "execution_count": 31,
     "metadata": {},
     "output_type": "execute_result"
    }
   ],
   "source": [
    "car.get(\"brand\")"
   ]
  },
  {
   "cell_type": "code",
   "execution_count": 32,
   "id": "ffac4b8b-ec58-4715-9c34-d927a7f6476f",
   "metadata": {},
   "outputs": [
    {
     "data": {
      "text/plain": [
       "'ford'"
      ]
     },
     "execution_count": 32,
     "metadata": {},
     "output_type": "execute_result"
    }
   ],
   "source": [
    "car[\"brand\"]"
   ]
  },
  {
   "cell_type": "markdown",
   "id": "81ad0950-2749-4afb-b58c-6421fa99f0fe",
   "metadata": {},
   "source": [
    "**len()**"
   ]
  },
  {
   "cell_type": "code",
   "execution_count": 33,
   "id": "fedf4900-ada2-4819-a40a-6c5c0b93a540",
   "metadata": {},
   "outputs": [
    {
     "data": {
      "text/plain": [
       "5"
      ]
     },
     "execution_count": 33,
     "metadata": {},
     "output_type": "execute_result"
    }
   ],
   "source": [
    "len(car)"
   ]
  },
  {
   "cell_type": "markdown",
   "id": "83ee2ea1-b353-4e40-9522-e403e14c21e8",
   "metadata": {},
   "source": [
    "**in**"
   ]
  },
  {
   "cell_type": "code",
   "execution_count": 35,
   "id": "476730bc-68ab-424e-be6e-c09542a46b15",
   "metadata": {},
   "outputs": [
    {
     "data": {
      "text/plain": [
       "True"
      ]
     },
     "execution_count": 35,
     "metadata": {},
     "output_type": "execute_result"
    }
   ],
   "source": [
    "\"year\" in car\n",
    "\n",
    "# searching in keys"
   ]
  },
  {
   "cell_type": "code",
   "execution_count": 36,
   "id": "e076fd55-d63c-45df-9148-9e315d234036",
   "metadata": {},
   "outputs": [
    {
     "data": {
      "text/plain": [
       "False"
      ]
     },
     "execution_count": 36,
     "metadata": {},
     "output_type": "execute_result"
    }
   ],
   "source": [
    "# searching in values\n",
    "\n",
    "\"blue\" in car.values()"
   ]
  },
  {
   "cell_type": "markdown",
   "id": "73c6f229-dd09-4928-b1e0-35f237fe53f9",
   "metadata": {},
   "source": [
    "---"
   ]
  },
  {
   "cell_type": "markdown",
   "id": "1869460e-6cb9-433f-94fc-b948c678e91e",
   "metadata": {},
   "source": [
    "**EXERCISE**\n",
    "\n",
    "Define a function that counts how many letters are in a given text:\n",
    "\n",
    "Exp: {\"a\" : 3, \"b\": 2 ...}"
   ]
  },
  {
   "cell_type": "code",
   "execution_count": 39,
   "id": "f0181bc7-5ee9-4805-9ae3-afd132f65149",
   "metadata": {},
   "outputs": [],
   "source": [
    "#SOLUTION1\n",
    "\n",
    "def counts_letters(text):\n",
    "    \n",
    "    # a dict which includes letters and numbers.\n",
    "    \n",
    "    letters = dict()\n",
    "    \n",
    "    for h in text:\n",
    "        \n",
    "        #check that it's not punctuation\n",
    "        \n",
    "        if h.isalpha():\n",
    "            \n",
    "            # is there the letter in the letters dictionary?\n",
    "            \n",
    "            \n",
    "            # If there is, we should increase its value by one\n",
    "            \n",
    "            if h in letters.keys():\n",
    "                \n",
    "                letters[h] += 1\n",
    "                \n",
    "            # If there is not, we should add it in letters\n",
    "            else:\n",
    "                letters[h] = 1\n",
    "    \n",
    "    return letters"
   ]
  },
  {
   "cell_type": "code",
   "execution_count": 40,
   "id": "90c42f42-8be6-43fc-8ce5-f4a3a9900998",
   "metadata": {},
   "outputs": [
    {
     "data": {
      "text/plain": [
       "{'H': 1,\n",
       " 'o': 2,\n",
       " 'w': 1,\n",
       " 'm': 2,\n",
       " 'a': 4,\n",
       " 'n': 2,\n",
       " 'y': 1,\n",
       " 't': 6,\n",
       " 'i': 3,\n",
       " 'e': 7,\n",
       " 's': 3,\n",
       " 'd': 1,\n",
       " 'c': 1,\n",
       " 'h': 2,\n",
       " 'l': 1,\n",
       " 'r': 2,\n",
       " 'p': 2,\n",
       " 'x': 1}"
      ]
     },
     "execution_count": 40,
     "metadata": {},
     "output_type": "execute_result"
    }
   ],
   "source": [
    "counts_letters(\"How many times does each letter appear in this text?\")"
   ]
  },
  {
   "cell_type": "code",
   "execution_count": 43,
   "id": "2e3911e5-6fc0-417f-8326-da2663fb336a",
   "metadata": {},
   "outputs": [],
   "source": [
    "#SOLUTION 2\n",
    "\n",
    "def c_letters(text):\n",
    "    \n",
    "    # a dict which includes letters and numbers.\n",
    "    \n",
    "    letters = dict()\n",
    "    \n",
    "    for h in text:\n",
    "        \n",
    "        #check that it's not punctuation\n",
    "        \n",
    "        if h.isalpha():\n",
    "            \n",
    "            letters[h] = letters.get(h,0) + 1\n",
    "            \n",
    "    return letters\n"
   ]
  },
  {
   "cell_type": "code",
   "execution_count": 44,
   "id": "869dc10b-eb34-48c7-833d-6d95e7053c78",
   "metadata": {},
   "outputs": [
    {
     "data": {
      "text/plain": [
       "{'H': 1,\n",
       " 'o': 2,\n",
       " 'w': 1,\n",
       " 'm': 2,\n",
       " 'a': 4,\n",
       " 'n': 2,\n",
       " 'y': 1,\n",
       " 't': 6,\n",
       " 'i': 3,\n",
       " 'e': 7,\n",
       " 's': 3,\n",
       " 'd': 1,\n",
       " 'c': 1,\n",
       " 'h': 2,\n",
       " 'l': 1,\n",
       " 'r': 2,\n",
       " 'p': 2,\n",
       " 'x': 1}"
      ]
     },
     "execution_count": 44,
     "metadata": {},
     "output_type": "execute_result"
    }
   ],
   "source": [
    "c_letters(\"How many times does each letter appear in this text?\")"
   ]
  },
  {
   "cell_type": "code",
   "execution_count": null,
   "id": "176e86d5-0e41-40c9-a420-4df8679b32a5",
   "metadata": {},
   "outputs": [],
   "source": []
  }
 ],
 "metadata": {
  "kernelspec": {
   "display_name": "Python 3 (ipykernel)",
   "language": "python",
   "name": "python3"
  },
  "language_info": {
   "codemirror_mode": {
    "name": "ipython",
    "version": 3
   },
   "file_extension": ".py",
   "mimetype": "text/x-python",
   "name": "python",
   "nbconvert_exporter": "python",
   "pygments_lexer": "ipython3",
   "version": "3.9.12"
  }
 },
 "nbformat": 4,
 "nbformat_minor": 5
}
