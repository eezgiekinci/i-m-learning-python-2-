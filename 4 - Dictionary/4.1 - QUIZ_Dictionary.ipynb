{
 "cells": [
  {
   "cell_type": "markdown",
   "metadata": {},
   "source": [
    "## QUIZ - Dictionary"
   ]
  },
  {
   "cell_type": "markdown",
   "metadata": {},
   "source": [
    "**Q 1:**\n",
    "\n",
    "Define a function that is able to reach to `words.txt` and to create a dictionary with these words. \n",
    "\n",
    "The function only take words with 19 characters or more.\n",
    "\n",
    "**Key** of dict should be the word and **value** of dict should be length of the word.\n",
    "\n",
    "return dict\n",
    "\n",
    "<pre>\n",
    "\n",
    "{'anticonservationist': 19, \n",
    " 'comprehensivenesses': 19, \n",
    " 'counterdemonstration': 20,\n",
    " 'counterdemonstrations': 21,\n",
    " ...}\n",
    "</pre>"
   ]
  },
  {
   "cell_type": "code",
   "execution_count": 5,
   "metadata": {},
   "outputs": [],
   "source": [
    "# S 1:\n",
    "\n",
    "# Since the minimum character length is a constant, let's keep it global:\n",
    "\n",
    "MIN_CHAC_LEN = 19\n",
    "\n",
    "def dict_of_words():\n",
    "    \n",
    "    # create a new dict that will contain the words which have number of character 19 or more.\n",
    "    \n",
    "    new_dict = {}\n",
    "    \n",
    "    # access the word.txt\n",
    "    \n",
    "    file = open(\"words.txt\")\n",
    "    \n",
    "    for i in file:\n",
    "        \n",
    "        line_array = i.split()\n",
    "        \n",
    "        word = line_array[0]\n",
    "        \n",
    "        if len(word) >= MIN_CHAC_LEN:\n",
    "            \n",
    "            if not word in new_dict:\n",
    "            \n",
    "                new_dict[word] = len(word)\n",
    "                \n",
    "    return new_dict"
   ]
  },
  {
   "cell_type": "code",
   "execution_count": 6,
   "metadata": {},
   "outputs": [
    {
     "data": {
      "text/plain": [
       "{'anticonservationist': 19,\n",
       " 'comprehensivenesses': 19,\n",
       " 'counterdemonstration': 20,\n",
       " 'counterdemonstrations': 21,\n",
       " 'counterdemonstrator': 19,\n",
       " 'counterdemonstrators': 20,\n",
       " 'counterinflationary': 19,\n",
       " 'counterpropagations': 19,\n",
       " 'counterretaliations': 19,\n",
       " 'disinterestednesses': 19,\n",
       " 'electrocardiographs': 19,\n",
       " 'extraconstitutional': 19,\n",
       " 'hyperaggressiveness': 19,\n",
       " 'hyperaggressivenesses': 21,\n",
       " 'hypersensitivenesses': 20,\n",
       " 'inappropriatenesses': 19,\n",
       " 'inconsideratenesses': 19,\n",
       " 'interdenominational': 19,\n",
       " 'irreconcilabilities': 19,\n",
       " 'microminiaturization': 20,\n",
       " 'microminiaturizations': 21,\n",
       " 'miscellaneousnesses': 19,\n",
       " 'multidenominational': 19,\n",
       " 'representativenesses': 20}"
      ]
     },
     "execution_count": 6,
     "metadata": {},
     "output_type": "execute_result"
    }
   ],
   "source": [
    "dict_of_words()"
   ]
  },
  {
   "cell_type": "markdown",
   "metadata": {},
   "source": [
    "---"
   ]
  },
  {
   "cell_type": "markdown",
   "metadata": {},
   "source": [
    "**Q 2:**\n",
    "\n",
    "Define a function that is able to reach to `words.txt` and to create a dictionary with these words.\n",
    "\n",
    "The function only take words with 19 characters or more.\n",
    "\n",
    "**Key of dict** should be length of the word and **value of dict** should be the words which have given length.\n",
    "\n",
    "<pre>\n",
    "{19: ['anticonservationist', 'comprehensivenesses', 'counterdemonstrator', ...], \n",
    " 20: ['counterdemonstration', 'counterdemonstrators', 'hypersensitivenesses', ...],\n",
    " 21: ['counterdemonstrations', 'hyperaggressivenesses', 'microminiaturizations']}\n",
    "</pre>"
   ]
  },
  {
   "cell_type": "code",
   "execution_count": 9,
   "metadata": {},
   "outputs": [],
   "source": [
    "# S 2:\n",
    "\n",
    "MIN_CHAC_LEN = 19\n",
    "\n",
    "def len_words():\n",
    "    \n",
    "    # create a new dict that will contain the words which have number of character 19 or more.\n",
    "    \n",
    "    new_dict = {}\n",
    "    \n",
    "    # access the word.txt\n",
    "    \n",
    "    file = open(\"words.txt\")\n",
    "    \n",
    "    for i in file:\n",
    "        \n",
    "        line_array = i.split()\n",
    "        \n",
    "        word = line_array[0]\n",
    "        \n",
    "        length = len(word)\n",
    "        \n",
    "        if length >= MIN_CHAC_LEN:\n",
    "            \n",
    "            if not length in new_dict:\n",
    "            \n",
    "                new_dict[length] = [word]\n",
    "                \n",
    "            else:\n",
    "                \n",
    "                new_dict[length].append(word)\n",
    "                \n",
    "    return new_dict"
   ]
  },
  {
   "cell_type": "code",
   "execution_count": 10,
   "metadata": {},
   "outputs": [
    {
     "data": {
      "text/plain": [
       "{19: ['anticonservationist',\n",
       "  'comprehensivenesses',\n",
       "  'counterdemonstrator',\n",
       "  'counterinflationary',\n",
       "  'counterpropagations',\n",
       "  'counterretaliations',\n",
       "  'disinterestednesses',\n",
       "  'electrocardiographs',\n",
       "  'extraconstitutional',\n",
       "  'hyperaggressiveness',\n",
       "  'inappropriatenesses',\n",
       "  'inconsideratenesses',\n",
       "  'interdenominational',\n",
       "  'irreconcilabilities',\n",
       "  'miscellaneousnesses',\n",
       "  'multidenominational'],\n",
       " 20: ['counterdemonstration',\n",
       "  'counterdemonstrators',\n",
       "  'hypersensitivenesses',\n",
       "  'microminiaturization',\n",
       "  'representativenesses'],\n",
       " 21: ['counterdemonstrations',\n",
       "  'hyperaggressivenesses',\n",
       "  'microminiaturizations']}"
      ]
     },
     "execution_count": 10,
     "metadata": {},
     "output_type": "execute_result"
    }
   ],
   "source": [
    "len_words()"
   ]
  },
  {
   "cell_type": "markdown",
   "metadata": {},
   "source": [
    "---"
   ]
  },
  {
   "cell_type": "markdown",
   "metadata": {},
   "source": [
    "**Q 3:**\n",
    "\n",
    "\n",
    "There is a dictionary in the global:\n",
    "\n",
    "<pre>\n",
    "{'brand': 'Ford',\n",
    " 'model': 'Mustang',\n",
    " 'year': 1964,\n",
    " 'colour': 'red',\n",
    " 'price': 30000,\n",
    " 'km': 89000,\n",
    " 'motor': 1.6}\n",
    "</pre>\n",
    "\n",
    "Define a function that creates a new dictionary like this:\n",
    "\n",
    "\n",
    "{'brand': 'Ford',\n",
    "\n",
    " 'model': 'Mustang',\n",
    " \n",
    " 'year': 1964,\n",
    " \n",
    " 'colour': 'red',\n",
    " \n",
    " 'price': 30000,\n",
    " \n",
    " 'km': 89000,\n",
    " \n",
    " 'motor': 1.6,\n",
    " \n",
    " **'brand_2': 'Ford',**\n",
    " \n",
    " **'model_2': 'Mustang',**\n",
    " \n",
    " **'year_2': 1964,**\n",
    " \n",
    " **'colour_2': 'red',**\n",
    " \n",
    " **'price_2': 30000,**\n",
    " \n",
    " **'km_2': 89000,**\n",
    " \n",
    " **'motor_2': 1.6}**\n",
    "\n",
    "\n",
    "It saves the first dictionary and adds new keys which have the values are the same and key's name_2\n",
    "\n",
    "* copy()\n",
    "* update()\n",
    "* items()"
   ]
  },
  {
   "cell_type": "code",
   "execution_count": 14,
   "metadata": {},
   "outputs": [],
   "source": [
    "# S 3:\n",
    "\n",
    "A_CAR_DICT = {'brand': 'Ford',\n",
    " 'model': 'Mustang',\n",
    " 'year': 1964,\n",
    " 'colour': 'red',\n",
    " 'price': 30000,\n",
    " 'km': 89000,\n",
    " 'motor': 1.6}\n",
    "\n",
    "def create_a_new_car():\n",
    "        \n",
    "    new_car = A_CAR_DICT.copy()\n",
    "    \n",
    "    for i in A_CAR_DICT.items():\n",
    "        \n",
    "        key = i[0]\n",
    "        value = i[1]\n",
    "        \n",
    "        key += \"_2\"\n",
    "        \n",
    "        \n",
    "        new_car[key] = value\n",
    "        \n",
    "    return new_car\n",
    "\n"
   ]
  },
  {
   "cell_type": "code",
   "execution_count": 15,
   "metadata": {},
   "outputs": [
    {
     "data": {
      "text/plain": [
       "{'brand': 'Ford',\n",
       " 'model': 'Mustang',\n",
       " 'year': 1964,\n",
       " 'colour': 'red',\n",
       " 'price': 30000,\n",
       " 'km': 89000,\n",
       " 'motor': 1.6,\n",
       " 'brand_2': 'Ford',\n",
       " 'model_2': 'Mustang',\n",
       " 'year_2': 1964,\n",
       " 'colour_2': 'red',\n",
       " 'price_2': 30000,\n",
       " 'km_2': 89000,\n",
       " 'motor_2': 1.6}"
      ]
     },
     "execution_count": 15,
     "metadata": {},
     "output_type": "execute_result"
    }
   ],
   "source": [
    "create_a_new_car()"
   ]
  },
  {
   "cell_type": "markdown",
   "metadata": {},
   "source": [
    "---"
   ]
  },
  {
   "cell_type": "markdown",
   "metadata": {},
   "source": [
    "**Q 4:**\n",
    "\n",
    "Define a function that creates a new dictionary as merging the given dictionaries:\n",
    "\n",
    "**tips:**\n",
    "* only one for loop\n",
    "* update()\n",
    "\n",
    "<pre>\n",
    "The dictionaries which will merge:\n",
    "d1={4:120, 7:60}\n",
    "d2={'A': 300, 'B':400}\n",
    "d3={True: 'right', False: 'wrong'}\n",
    "\n",
    "result:\n",
    "{4: 120, 7: 60, 'A': 300, 'B': 400, True: 'right', False: 'wrong'}\n",
    "</pre>"
   ]
  },
  {
   "cell_type": "code",
   "execution_count": 16,
   "metadata": {},
   "outputs": [],
   "source": [
    "# S 4:\n",
    "\n",
    "def merge_dicts(d1,d2,d3):\n",
    "    \n",
    "    new_dict = {}\n",
    "    \n",
    "    for i in (d1,d2,d3):\n",
    "        \n",
    "        new_dict.update(i)\n",
    "        \n",
    "    return new_dict"
   ]
  },
  {
   "cell_type": "code",
   "execution_count": 18,
   "metadata": {},
   "outputs": [
    {
     "data": {
      "text/plain": [
       "{4: 120, 7: 60, 'A': 'AAA', 'B': 'BBB', True: 'right', False: 'wrong'}"
      ]
     },
     "execution_count": 18,
     "metadata": {},
     "output_type": "execute_result"
    }
   ],
   "source": [
    "d1={4:120, 7:60}\n",
    "d2={'A': 'AAA', 'B':'BBB'}\n",
    "d3={True: 'right', False: 'wrong'}\n",
    "\n",
    "merge_dicts(d1,d2,d3)"
   ]
  },
  {
   "cell_type": "markdown",
   "metadata": {},
   "source": [
    "---"
   ]
  },
  {
   "cell_type": "markdown",
   "metadata": {},
   "source": [
    "**Q 5:**\n",
    "\n",
    "There are  two dictionaries and if their keys equal to each other , sum the values of keys.\n",
    "\n",
    "If keys do not equal to each other, not return.\n",
    "\n",
    "**to-do:**\n",
    "* control if the parameters are a dict or not:\n",
    "    * if not, raise Exception -> \"The parameters have to be dict\"\n",
    "    * for control -> isinstance\n",
    "    * isinstance(<variable>, <type>)\n",
    "* Check that the dictionaries are the same length\n",
    "    * if not, raise Exception -> \"Dictionaries must have the same length\"\n",
    "\n",
    "<pre>\n",
    "Dicts as  parameters:\n",
    "d1 = {'a': 10, 'b': 30, 'c':50}\n",
    "d2 = {'a': 40, 'b': 60, 'd':90}\n",
    "\n",
    "Result:\n",
    "{'a': 50, 'b': 90}\n",
    "</pre>"
   ]
  },
  {
   "cell_type": "code",
   "execution_count": 19,
   "metadata": {},
   "outputs": [],
   "source": [
    "# S 5:\n",
    "\n",
    "def sum_the_same_keys(d1,d2):\n",
    "    \n",
    "    if not isinstance(d1, dict) or not isinstance(d2, dict):\n",
    "        \n",
    "        raise Exception(\"The parameters have to be dict\")\n",
    "        \n",
    "    if not len(d1) == len(d2):\n",
    "        \n",
    "        raise Exception(\"Dictionaries must have the same length\")\n",
    "        \n",
    "    new_dict = {}\n",
    "    \n",
    "    for key in d1:\n",
    "        \n",
    "        if key in d2:\n",
    "            \n",
    "            new_dict[key] = d1[key] + d2[key]\n",
    "            \n",
    "    return new_dict"
   ]
  },
  {
   "cell_type": "code",
   "execution_count": 20,
   "metadata": {},
   "outputs": [
    {
     "data": {
      "text/plain": [
       "{'a': 50, 'b': 90}"
      ]
     },
     "execution_count": 20,
     "metadata": {},
     "output_type": "execute_result"
    }
   ],
   "source": [
    "d1 = {'a': 10, 'b': 30, 'c':50}\n",
    "d2 = {'a': 40, 'b': 60, 'd':90}\n",
    "sum_the_same_keys(d1,d2)"
   ]
  },
  {
   "cell_type": "markdown",
   "metadata": {},
   "source": [
    "---"
   ]
  },
  {
   "cell_type": "markdown",
   "metadata": {},
   "source": [
    "**Q 6:**\n",
    "\n",
    "Let's develop the function in question 5 a little more: \n",
    "\n",
    "There are two dictionaries and if their keys equal to each other , sum the values of keys.\n",
    "\n",
    "If there is a key that is not mutual in dictionaries, take the value of key.\n",
    "\n",
    "That is, let the common elements return as the total value, and the discrete elements return their own values.\n",
    "\n",
    "\n",
    "**to-do:**\n",
    "* control if the parameters are a dict or not:\n",
    "    * if not, raise Exception -> \"The parameters have to be dict\"\n",
    "    * for control -> isinstance\n",
    "    * isinstance(<variable>, <type>)\n",
    "* Check that the dictionaries are the same length\n",
    "    * if not, raise Exception -> \"Dictionaries must have the same length\"\n",
    "\n",
    "<pre>\n",
    "Dicts as  parameters:\n",
    "d1 = {'a': 10, 'b': 30, 'c':50}\n",
    "d2 = {'a': 40, 'b': 60, 'd':90}\n",
    "\n",
    "Result:\n",
    "{'a': 50, 'b': 90, 'c': 50, 'd': 90}\n",
    "</pre>"
   ]
  },
  {
   "cell_type": "code",
   "execution_count": 23,
   "metadata": {},
   "outputs": [],
   "source": [
    "# S 6:\n",
    "def sum_the_keys(d1,d2):\n",
    "    \n",
    "    if not isinstance(d1, dict) or not isinstance(d2, dict):\n",
    "        \n",
    "        raise Exception(\"The parameters have to be dict\")\n",
    "        \n",
    "    if not len(d1) == len(d2):\n",
    "        \n",
    "        raise Exception(\"Dictionaries must have the same length\")\n",
    "        \n",
    "    new_dict = {}\n",
    "    \n",
    "    for key in d1:\n",
    "        \n",
    "        if key in d2:\n",
    "            \n",
    "            new_dict[key] = d1[key] + d2[key]\n",
    "            \n",
    "        else:\n",
    "            \n",
    "            new_dict[key] = d1[key]\n",
    "            \n",
    "    for key in d2:\n",
    "        \n",
    "        if not key in d1:\n",
    "            \n",
    "            new_dict[key] = d2[key]\n",
    "            \n",
    "    return new_dict"
   ]
  },
  {
   "cell_type": "code",
   "execution_count": 24,
   "metadata": {},
   "outputs": [
    {
     "data": {
      "text/plain": [
       "{'a': 50, 'b': 90, 'c': 50, 'd': 90}"
      ]
     },
     "execution_count": 24,
     "metadata": {},
     "output_type": "execute_result"
    }
   ],
   "source": [
    "d1 = {'a': 10, 'b': 30, 'c':50}\n",
    "d2 = {'a': 40, 'b': 60, 'd':90}\n",
    "sum_the_keys(d1,d2)"
   ]
  },
  {
   "cell_type": "markdown",
   "metadata": {},
   "source": [
    "---"
   ]
  },
  {
   "cell_type": "markdown",
   "metadata": {},
   "source": [
    "**Q 7:**\n",
    "\n",
    "\n",
    "Define a function that removes the elements which have odd index in given dictionary.\n",
    "\n",
    "**tips:**\n",
    "* loop `items()`\n",
    "* index  `enumerate()`\n",
    "    \n",
    "<pre>\n",
    "Dicts as a parameter:\n",
    "a_dict = {'a': 'A', 'b': 'B', 'c': 'C', 'd': 'D', 'e': 'E', 'f': 'F'}\n",
    "\n",
    "Result:\n",
    " {'a': 'A', 'c': 'C', 'e': 'E'}\n",
    "</pre>"
   ]
  },
  {
   "cell_type": "code",
   "execution_count": 28,
   "metadata": {},
   "outputs": [],
   "source": [
    "# S 7:\n",
    "\n",
    "# The First Way:\n",
    "\n",
    "def remove_odd_index(a_dict):\n",
    "    \n",
    "    new_dict = {}\n",
    "    \n",
    "    for index,element in enumerate(a_dict.items()):\n",
    "    \n",
    "        key = element[0]\n",
    "        value = element[1]\n",
    "        \n",
    "        if index % 2 == 0:\n",
    "            \n",
    "            new_dict[key] = value\n",
    "            \n",
    "    return new_dict"
   ]
  },
  {
   "cell_type": "code",
   "execution_count": 29,
   "metadata": {},
   "outputs": [
    {
     "data": {
      "text/plain": [
       "{'a': 'A', 'c': 'C', 'e': 'E'}"
      ]
     },
     "execution_count": 29,
     "metadata": {},
     "output_type": "execute_result"
    }
   ],
   "source": [
    "a_dict = {'a': 'A', 'b': 'B', 'c': 'C', 'd': 'D', 'e': 'E', 'f': 'F'}\n",
    "remove_odd_index(a_dict)"
   ]
  },
  {
   "cell_type": "code",
   "execution_count": 4,
   "metadata": {},
   "outputs": [],
   "source": [
    "# The Second Way:\n",
    "\n",
    "def remove_odd_index(a_dict):\n",
    "    \n",
    "    new_dict = {}\n",
    "    \n",
    "    for index,element in enumerate(a_dict.items()):\n",
    "        if index % 2 == 0:\n",
    "            \n",
    "            new_dict.update({element})\n",
    "            \n",
    "    return new_dict\n",
    "        \n",
    "\n"
   ]
  },
  {
   "cell_type": "code",
   "execution_count": 5,
   "metadata": {},
   "outputs": [
    {
     "data": {
      "text/plain": [
       "{'a': 'A', 'c': 'C', 'e': 'E'}"
      ]
     },
     "execution_count": 5,
     "metadata": {},
     "output_type": "execute_result"
    }
   ],
   "source": [
    "a_dict = {'a': 'A', 'b': 'B', 'c': 'C', 'd': 'D', 'e': 'E', 'f': 'F'}\n",
    "remove_odd_index(a_dict)"
   ]
  },
  {
   "cell_type": "markdown",
   "metadata": {},
   "source": [
    "---"
   ]
  },
  {
   "cell_type": "markdown",
   "metadata": {},
   "source": [
    "**Q 8:**\n",
    "\n",
    "Define a function that has two lists as parameters and create a new dictionary as use the lists. The first list's elements will be  key and the second list's elements will be  value.\n",
    "\n",
    "\n",
    "**tip:**\n",
    "* enumerate()\n",
    "\n",
    "<pre>\n",
    "\n",
    "list_1 = ['name', 'surname', 'age', 'sex']\n",
    "list_2 = ['John', 'Doe', 100, 'male']\n",
    "\n",
    "Result:\n",
    "{'name': 'John', 'surname': 'Doe', 'age': 100, 'sex': 'male'}\n",
    "</pre>"
   ]
  },
  {
   "cell_type": "code",
   "execution_count": 6,
   "metadata": {},
   "outputs": [],
   "source": [
    "# S 8:\n",
    "\n",
    "def from_list_to_dict(list_1, list_2):\n",
    "    \n",
    "    new_dict = {}\n",
    "    \n",
    "    for index, element in enumerate(list_1):\n",
    "        \n",
    "        new_dict[element] = list_2[index]\n",
    "        \n",
    "    return new_dict\n",
    "\n",
    "    "
   ]
  },
  {
   "cell_type": "code",
   "execution_count": 7,
   "metadata": {},
   "outputs": [
    {
     "data": {
      "text/plain": [
       "{'name': 'John', 'surname': 'Doe', 'age': 100, 'sex': 'male'}"
      ]
     },
     "execution_count": 7,
     "metadata": {},
     "output_type": "execute_result"
    }
   ],
   "source": [
    "list_1 = ['name', 'surname', 'age', 'sex']\n",
    "list_2 = ['John', 'Doe', 100, 'male']\n",
    "\n",
    "from_list_to_dict(list_1, list_2)\n"
   ]
  },
  {
   "cell_type": "markdown",
   "metadata": {},
   "source": [
    "---"
   ]
  },
  {
   "cell_type": "markdown",
   "metadata": {},
   "source": [
    "**Q 9:**\n",
    "\n",
    "a_dict = {'a': 'A', 'b': 'B', 2: 200, 'd': 'D', 5: 300, 'f': 'F', 1: 50}\n",
    "\n",
    "Define a function that removes only the keys which are numerical.\n",
    "\n",
    "\n",
    "**to-do:**\n",
    "* Change the dictionary that is given as a parameter. (inplace)\n",
    "* two loops\n",
    "* for loops `keys()`\n",
    "* to delete `pop()`\n",
    "* `str.isalpha()`\n",
    "\n",
    "<pre>\n",
    "a dict as a parameter:\n",
    "a_dict = {'a': 'A', 'b': 'B', 2: 200, 'd': 'D', 5: 300, 'f': 'F', 1: 50}\n",
    "\n",
    "resukt:\n",
    "a_dict = {'a': 'A', 'b': 'B', 'd': 'D', 'f': 'F'}\n",
    "</pre>"
   ]
  },
  {
   "cell_type": "code",
   "execution_count": 11,
   "metadata": {},
   "outputs": [],
   "source": [
    "# S 9:\n",
    "\n",
    "def is_alphanumeric(a_dict):\n",
    "    \n",
    "    keys_will_be_deleted = []\n",
    "    \n",
    "    for key in a_dict.keys():\n",
    "        \n",
    "        if not str(key).isalpha():\n",
    "            \n",
    "            keys_will_be_deleted.append(key)\n",
    "                \n",
    "    for key in keys_will_be_deleted:\n",
    "        \n",
    "        if key in a_dict.keys():\n",
    "            \n",
    "            a_dict.pop(key)\n",
    "            \n",
    "                \n",
    "            \n",
    "            \n",
    "            \n",
    "\n",
    "\n",
    "    "
   ]
  },
  {
   "cell_type": "code",
   "execution_count": 12,
   "metadata": {},
   "outputs": [
    {
     "name": "stdout",
     "output_type": "stream",
     "text": [
      "before funtion: {'a': 'A', 'b': 'B', 2: 200, 'd': 'D', 5: 300, 'f': 'F', 1: 50}\n",
      "after function: {'a': 'A', 'b': 'B', 'd': 'D', 'f': 'F'}\n"
     ]
    }
   ],
   "source": [
    "a_dict = {'a': 'A', 'b': 'B', 2: 200, 'd': 'D', 5: 300, 'f': 'F', 1: 50}\n",
    "print(\"before funtion:\", a_dict)\n",
    "\n",
    "is_alphanumeric(a_dict)\n",
    "\n",
    "print(\"after function:\", a_dict)"
   ]
  },
  {
   "cell_type": "code",
   "execution_count": null,
   "metadata": {},
   "outputs": [],
   "source": []
  }
 ],
 "metadata": {
  "kernelspec": {
   "display_name": "Python 3 (ipykernel)",
   "language": "python",
   "name": "python3"
  },
  "language_info": {
   "codemirror_mode": {
    "name": "ipython",
    "version": 3
   },
   "file_extension": ".py",
   "mimetype": "text/x-python",
   "name": "python",
   "nbconvert_exporter": "python",
   "pygments_lexer": "ipython3",
   "version": "3.9.12"
  }
 },
 "nbformat": 4,
 "nbformat_minor": 4
}
