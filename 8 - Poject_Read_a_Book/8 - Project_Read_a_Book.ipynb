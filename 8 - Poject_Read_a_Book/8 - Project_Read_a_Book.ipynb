{
 "cells": [
  {
   "cell_type": "markdown",
   "id": "e801bc6c-337d-48c4-83d4-d6eadff7ac09",
   "metadata": {},
   "source": [
    "### 8 - Project_Read_a_Book \n",
    "\n",
    "* Source of the texts without copyright:  http://gutenberg.org/\n",
    "\n",
    "* Pride and Prejudice by Jane Austen: http://gutenberg.org/ebooks/1342\n",
    "\n",
    "* Alice's Adventures in Wonderland by Lewis Carroll: http://gutenberg.org/ebooks/11\n",
    "\n",
    "In this project, we will collect various information on two different books using Python \n",
    "\n",
    "In this way, we will have a chance to use the concepts which are learned such as variables, functions, data structures etc.\n",
    "\n",
    "\n",
    "Let's find all the words in the books by reading these two books to Python:\n",
    "\n",
    "When we do this:\n",
    "\n",
    "* remove punctuation -> string.punctuation\n",
    "* remove whitespace characters (space, newline, tab etc.) -> string.whitespace\n",
    "* find the beginning and end of the books\n",
    "* do each operation in its own function\n",
    "* use the string module\n",
    "\n",
    "**Let's start ! :)**"
   ]
  },
  {
   "cell_type": "code",
   "execution_count": 36,
   "id": "7bcaac51-de09-444f-bc99-f404ad20f64f",
   "metadata": {},
   "outputs": [],
   "source": [
    "# import\n",
    "\n",
    "import string\n",
    "from collections import Counter"
   ]
  },
  {
   "cell_type": "code",
   "execution_count": 37,
   "id": "835fad9c-2257-4de4-8a37-0382c2980fc7",
   "metadata": {},
   "outputs": [
    {
     "data": {
      "text/plain": [
       "'!\"#$%&\\'()*+,-./:;<=>?@[\\\\]^_`{|}~'"
      ]
     },
     "execution_count": 37,
     "metadata": {},
     "output_type": "execute_result"
    }
   ],
   "source": [
    "# global variables\n",
    "\n",
    "punctuation_marks = string.punctuation\n",
    "punctuation_marks"
   ]
  },
  {
   "cell_type": "code",
   "execution_count": 38,
   "id": "65b4ad7d-077e-46ca-b7d0-031b26238716",
   "metadata": {},
   "outputs": [
    {
     "data": {
      "text/plain": [
       "' \\t\\n\\r\\x0b\\x0c'"
      ]
     },
     "execution_count": 38,
     "metadata": {},
     "output_type": "execute_result"
    }
   ],
   "source": [
    "space_characters = string.whitespace\n",
    "space_characters"
   ]
  },
  {
   "cell_type": "code",
   "execution_count": 39,
   "id": "2d28b3d3-4484-47b4-9c4b-956046d5216a",
   "metadata": {},
   "outputs": [],
   "source": [
    "# Includes all file steps:\n",
    "\n",
    "def read_from_file(book_name):\n",
    "    \n",
    "    book_path = book_name + \".txt\"\n",
    "    \n",
    "    return open(book_path, encoding='utf-8')"
   ]
  },
  {
   "cell_type": "code",
   "execution_count": 40,
   "id": "d6a34e1c-8c6f-4c35-ade7-9207153c0feb",
   "metadata": {},
   "outputs": [],
   "source": [
    "# finds the beginning of the book:\n",
    "\n",
    "def skip_beginning_part(file):\n",
    "    \n",
    "    beginning_text = \"*** START OF THIS PROJECT\"\n",
    "    \n",
    "    for line in file:   \n",
    "        \n",
    "        if line.startswith(beginning_text):\n",
    "        \n",
    "            break"
   ]
  },
  {
   "cell_type": "code",
   "execution_count": 41,
   "id": "2b570f3e-3ec1-43d0-abeb-d705ce4bd231",
   "metadata": {},
   "outputs": [],
   "source": [
    "# finds the ending of the book:\n",
    "\n",
    "def is_it_read(line):\n",
    "    \n",
    "    ending_text= \"*** END OF THIS PROJECT\"\n",
    "    \n",
    "    # Return True if the current line starts with the ending text:\n",
    "    \n",
    "    return line.startswith(ending_text)"
   ]
  },
  {
   "cell_type": "code",
   "execution_count": 42,
   "id": "cc8d1baa-a4b6-49ec-bc00-72e751262fc0",
   "metadata": {},
   "outputs": [],
   "source": [
    "# takes us the words that is in the current line:\n",
    "\n",
    "def words_in_line(line):\n",
    "    \n",
    "    # creating a list that will keep the words:\n",
    "    \n",
    "    line_words = []\n",
    "    \n",
    "    word_array = line.split()\n",
    "    \n",
    "    for word in word_array:\n",
    "        \n",
    "        #If there is a punctuation, remove it:\n",
    "    \n",
    "        word = word.strip(punctuation_marks)\n",
    "    \n",
    "        # lower()\n",
    "    \n",
    "        word = word.lower()\n",
    "    \n",
    "    \n",
    "        # is it alphanumeric? check it.\n",
    "    \n",
    "        if word.isalpha() and len(word) > 0:\n",
    "        \n",
    "            line_words.append(word)\n",
    "        \n",
    "    return line_words"
   ]
  },
  {
   "cell_type": "code",
   "execution_count": 43,
   "id": "5d16cee7-eda7-4957-b1ca-17a5eacb5a55",
   "metadata": {},
   "outputs": [],
   "source": [
    "def take_words(file, words):\n",
    "    \n",
    "    for line in file:\n",
    "        \n",
    "        # is it read?\n",
    "        if not is_it_read(line):\n",
    "            \n",
    "            # taking the words that are in the line:\n",
    "            \n",
    "            words_line = words_in_line(line)\n",
    "\n",
    "            words.extend(words_line)"
   ]
  },
  {
   "cell_type": "code",
   "execution_count": 44,
   "id": "302b36cd-3554-4f3a-9445-da1fe6099c11",
   "metadata": {
    "tags": []
   },
   "outputs": [],
   "source": [
    "#It is our the main function, there will be a lot of functions that help us to read a book.\n",
    "\n",
    "def read_a_book(book_name):\n",
    "    \n",
    "    \"\"\"\n",
    "        Reads the relevant book according to the given book name.\n",
    "        Parameter: string book_name\n",
    "        Return: list word\n",
    "    \"\"\"\n",
    "        \n",
    "    # create a list that keeps words:\n",
    "    \n",
    "    words = list()\n",
    "    \n",
    "    # With open(), we can access the book.\n",
    "    # aThere will be a function that is called read_from_file() which includes all file steps:\n",
    "    \n",
    "    file = read_from_file(book_name)\n",
    "    \n",
    "    # If you've browsed through the texts, you've seen where the text begins: \n",
    "    \n",
    "    # *** START OF THIS PROJECT GUTENBERG EBOOK PRIDE AND PREJUDICE *** we do not want to add the section that is upper than the writing:\n",
    "    \n",
    "    skip_beginning_part(file)\n",
    "    \n",
    "    # now, time of taking the words:\n",
    "    \n",
    "    take_words(file, words)\n",
    "    \n",
    "    return words"
   ]
  },
  {
   "cell_type": "code",
   "execution_count": 45,
   "id": "2d1544a1-43e4-439d-bf2a-c512109b06f0",
   "metadata": {},
   "outputs": [
    {
     "data": {
      "text/plain": [
       "['produced',\n",
       " 'by',\n",
       " 'anonymous',\n",
       " 'volunteers',\n",
       " 'and',\n",
       " 'david',\n",
       " 'widger',\n",
       " 'there',\n",
       " 'is',\n",
       " 'an',\n",
       " 'illustrated',\n",
       " 'edition',\n",
       " 'of',\n",
       " 'this',\n",
       " 'title',\n",
       " 'which',\n",
       " 'may',\n",
       " 'viewed',\n",
       " 'at',\n",
       " 'ebook']"
      ]
     },
     "execution_count": 45,
     "metadata": {},
     "output_type": "execute_result"
    }
   ],
   "source": [
    "book_name = 'Pride_and_Prejudice'\n",
    "pride_words = read_a_book(book_name)\n",
    "\n",
    "pride_words[:20]"
   ]
  },
  {
   "cell_type": "code",
   "execution_count": 46,
   "id": "c49403de-3f50-48b4-8427-883186eb8345",
   "metadata": {},
   "outputs": [
    {
     "data": {
      "text/plain": [
       "['produced',\n",
       " 'by',\n",
       " 'arthur',\n",
       " 'dibianca',\n",
       " 'and',\n",
       " 'david',\n",
       " 'widger',\n",
       " 'illustration',\n",
       " 'adventures',\n",
       " 'in',\n",
       " 'wonderland',\n",
       " 'by',\n",
       " 'lewis',\n",
       " 'carroll',\n",
       " 'the',\n",
       " 'millennium',\n",
       " 'fulcrum',\n",
       " 'edition',\n",
       " 'contents',\n",
       " 'chapter']"
      ]
     },
     "execution_count": 46,
     "metadata": {},
     "output_type": "execute_result"
    }
   ],
   "source": [
    "book_name = 'Alice_Adventures_in_Wonderland'\n",
    "alice_words = read_a_book(book_name)\n",
    "\n",
    "alice_words[:20]"
   ]
  },
  {
   "cell_type": "code",
   "execution_count": 47,
   "id": "612dc23c-4c92-4936-b348-d0692a2a14e2",
   "metadata": {},
   "outputs": [],
   "source": [
    "# define a function that sorts lists\n",
    "\n",
    "# use len()\n",
    "\n",
    "def sort_lists(a_list, is_decsending):\n",
    "\n",
    "# from the short one to the long one -> False \n",
    "\n",
    "    return sorted(a_list, reverse = is_decsending, key = lambda x : len(x))"
   ]
  },
  {
   "cell_type": "code",
   "execution_count": 48,
   "id": "993e64aa-c4d3-4eb6-a6dc-13a50a89d409",
   "metadata": {},
   "outputs": [
    {
     "data": {
      "text/plain": [
       "['a',\n",
       " 'a',\n",
       " 'a',\n",
       " 'a',\n",
       " 'a',\n",
       " 'a',\n",
       " 'i',\n",
       " 'a',\n",
       " 'a',\n",
       " 'a',\n",
       " 'a',\n",
       " 'a',\n",
       " 'i',\n",
       " 'i',\n",
       " 'i',\n",
       " 'a',\n",
       " 'a',\n",
       " 'i',\n",
       " 'i',\n",
       " 'i']"
      ]
     },
     "execution_count": 48,
     "metadata": {},
     "output_type": "execute_result"
    }
   ],
   "source": [
    "# order list from the shortest word to the longest words\n",
    "\n",
    "pride_words = sort_lists(pride_words, False)\n",
    "pride_words[:20]\n",
    "\n",
    "# The output is excepted."
   ]
  },
  {
   "cell_type": "code",
   "execution_count": 49,
   "id": "0afee36b-bbb7-4269-8a86-a5951395581d",
   "metadata": {},
   "outputs": [
    {
     "data": {
      "text/plain": [
       "['disinterestedness',\n",
       " 'misrepresentation',\n",
       " 'communicativeness',\n",
       " 'superciliousness',\n",
       " 'incomprehensible',\n",
       " 'discontentedness',\n",
       " 'incomprehensible',\n",
       " 'unenforceability',\n",
       " 'accomplishments',\n",
       " 'acknowledgments',\n",
       " 'inconsistencies',\n",
       " 'conscientiously',\n",
       " 'accomplishments',\n",
       " 'superintendence',\n",
       " 'congratulations',\n",
       " 'accomplishments',\n",
       " 'congratulations',\n",
       " 'thoughtlessness',\n",
       " 'recommendations',\n",
       " 'inconsistencies']"
      ]
     },
     "execution_count": 49,
     "metadata": {},
     "output_type": "execute_result"
    }
   ],
   "source": [
    "# order list from the longest word to the shorthest words\n",
    "\n",
    "pride_words = sort_lists(pride_words, True)\n",
    "pride_words[:20]"
   ]
  },
  {
   "cell_type": "code",
   "execution_count": 50,
   "id": "5865541b-9580-456b-8777-db3f710b40f2",
   "metadata": {},
   "outputs": [
    {
     "data": {
      "text/plain": [
       "['i',\n",
       " 'a',\n",
       " 'a',\n",
       " 'a',\n",
       " 'v',\n",
       " 'a',\n",
       " 'a',\n",
       " 'x',\n",
       " 'i',\n",
       " 'a',\n",
       " 'a',\n",
       " 'a',\n",
       " 'i',\n",
       " 'a',\n",
       " 'a',\n",
       " 'a',\n",
       " 'a',\n",
       " 'a',\n",
       " 'a',\n",
       " 'a']"
      ]
     },
     "execution_count": 50,
     "metadata": {},
     "output_type": "execute_result"
    }
   ],
   "source": [
    "# order list from the shortest word to the longest words\n",
    "\n",
    "alice_words = sort_lists(alice_words, False)\n",
    "alice_words[:20]\n",
    "\n",
    "# The output is excepted."
   ]
  },
  {
   "cell_type": "code",
   "execution_count": 51,
   "id": "3b0b83d0-0992-4b20-9553-51402cfedfb6",
   "metadata": {},
   "outputs": [
    {
     "data": {
      "text/plain": [
       "['unenforceability',\n",
       " 'representations',\n",
       " 'merchantability',\n",
       " 'disappointment',\n",
       " 'multiplication',\n",
       " 'contemptuously',\n",
       " 'contemptuously',\n",
       " 'affectionately',\n",
       " 'redistribution',\n",
       " 'redistribution',\n",
       " 'redistributing',\n",
       " 'redistributing',\n",
       " 'nonproprietary',\n",
       " 'electronically',\n",
       " 'electronically',\n",
       " 'identification',\n",
       " 'conversations',\n",
       " 'inquisitively',\n",
       " 'uncomfortable',\n",
       " 'uncomfortable']"
      ]
     },
     "execution_count": 51,
     "metadata": {},
     "output_type": "execute_result"
    }
   ],
   "source": [
    "# order list from the longest word to the shorthest words\n",
    "\n",
    "alice_words = sort_lists(alice_words, True)\n",
    "alice_words[:20]"
   ]
  },
  {
   "cell_type": "code",
   "execution_count": 52,
   "id": "f691b812-a42c-4724-973b-02d586bbafa5",
   "metadata": {},
   "outputs": [],
   "source": [
    "# Remove repetitive words:\n",
    "\n",
    "# The best way to delete repeating elements is to create a set.\n",
    "\n",
    "def delete_repeating(a_list):\n",
    "    \n",
    "    set1 = set(a_list)\n",
    "    \n",
    "    non_repeat_list = list(set1)\n",
    "    \n",
    "    return non_repeat_list"
   ]
  },
  {
   "cell_type": "code",
   "execution_count": 53,
   "id": "4cf09d2c-04e2-4dae-9ab1-8de99d60c21e",
   "metadata": {},
   "outputs": [
    {
     "data": {
      "text/plain": [
       "['contributions',\n",
       " 'unavoidable',\n",
       " 'useless',\n",
       " 'hot',\n",
       " 'voluntary',\n",
       " 'disinclination',\n",
       " 'confirmed',\n",
       " 'refuse',\n",
       " 'union',\n",
       " 'moral',\n",
       " 'stepped',\n",
       " 'concept',\n",
       " 'nasty',\n",
       " 'tender',\n",
       " 'ardent',\n",
       " 'considerable',\n",
       " 'spoilt',\n",
       " 'by',\n",
       " 'ascertain',\n",
       " 'merchantibility']"
      ]
     },
     "execution_count": 53,
     "metadata": {},
     "output_type": "execute_result"
    }
   ],
   "source": [
    "pride_words_1 = delete_repeating(pride_words)\n",
    "pride_words_1[:20]"
   ]
  },
  {
   "cell_type": "code",
   "execution_count": 54,
   "id": "aa52d998-846a-4108-8cb0-5465608345de",
   "metadata": {},
   "outputs": [
    {
     "data": {
      "text/plain": [
       "['contributions',\n",
       " 'hot',\n",
       " 'patiently',\n",
       " 'lay',\n",
       " 'despair',\n",
       " 'piteous',\n",
       " 'yelled',\n",
       " 'kill',\n",
       " 'ourselves',\n",
       " 'flung',\n",
       " 'sorrowful',\n",
       " 'confirmed',\n",
       " 'pleasure',\n",
       " 'lose',\n",
       " 'p',\n",
       " 'daughter',\n",
       " 'quicker',\n",
       " 'panting',\n",
       " 'moral',\n",
       " 'concept']"
      ]
     },
     "execution_count": 54,
     "metadata": {},
     "output_type": "execute_result"
    }
   ],
   "source": [
    "alice_words_1 = delete_repeating(alice_words)\n",
    "alice_words_1[:20]"
   ]
  },
  {
   "cell_type": "code",
   "execution_count": 55,
   "id": "d6f2dc17-4526-45bb-aad1-13c5a76ec8d7",
   "metadata": {
    "tags": []
   },
   "outputs": [],
   "source": [
    "# Calculate total words number in the book:\n",
    "\n",
    "def words_number(a_list):\n",
    "    return len(a_list)"
   ]
  },
  {
   "cell_type": "code",
   "execution_count": 56,
   "id": "6a5a9165-ea71-40ed-9045-a76cec4ec089",
   "metadata": {},
   "outputs": [
    {
     "name": "stdout",
     "output_type": "stream",
     "text": [
      "Total words number at P & P:  119465\n",
      "Total repetitive words number at P & P:  6361\n"
     ]
    }
   ],
   "source": [
    "# total words number:\n",
    "\n",
    "pride_words_number = words_number(pride_words)\n",
    "print(\"Total words number at P & P: \",pride_words_number)\n",
    "\n",
    "# total repetitive words number:\n",
    "\n",
    "pride_words_1_number = words_number(pride_words_1)\n",
    "print(\"Total repetitive words number at P & P: \",pride_words_1_number)\n"
   ]
  },
  {
   "cell_type": "code",
   "execution_count": 57,
   "id": "04161cbd-09e4-4b45-b631-77f75d4fe6b7",
   "metadata": {},
   "outputs": [
    {
     "name": "stdout",
     "output_type": "stream",
     "text": [
      "Total words number at Alice:  26267\n",
      "Total repetitive words number at Alice:  2782\n"
     ]
    }
   ],
   "source": [
    "# total words number:\n",
    "\n",
    "alice_words_number = words_number(alice_words)\n",
    "print(\"Total words number at Alice: \",alice_words_number)\n",
    "\n",
    "# total repetitive words number:\n",
    "\n",
    "alice_words_1_number = words_number(alice_words_1)\n",
    "print(\"Total repetitive words number at Alice: \",alice_words_1_number)"
   ]
  },
  {
   "cell_type": "markdown",
   "id": "bc690344-0e95-4925-98f4-e9f53f2d0d1f",
   "metadata": {},
   "source": [
    "**Let's Find Which Word Occurs How Many Times:**"
   ]
  },
  {
   "cell_type": "code",
   "execution_count": 61,
   "id": "611baa9c-f8b3-4c8d-a47e-a0f78bacbc80",
   "metadata": {},
   "outputs": [],
   "source": [
    "def sort_a_dict(a_dict):\n",
    "    \n",
    "    sorted_list = sorted(a_dict.items(), key = lambda x: x[1], reverse=True)\n",
    "    \n",
    "    return sorted_list\n",
    "    "
   ]
  },
  {
   "cell_type": "code",
   "execution_count": 64,
   "id": "608851e1-214c-4815-85b8-d2511afbae0f",
   "metadata": {},
   "outputs": [],
   "source": [
    "def highest_number_of_words(a_list, n=20):\n",
    "    \n",
    "    # returns as a dict\n",
    "    number_of_words = {\n",
    "        word: a_list.count(word)\n",
    "        for word in a_list\n",
    "    }\n",
    "    \n",
    "    # we need to sort this dictionary\n",
    "    sorted_list = sort_a_dict(number_of_words)\n",
    "    \n",
    "    # şimdi en yüksek adetli n tanesini alalım -> slice\n",
    "    sorted_list_top_n = sorted_list[:n]\n",
    "    \n",
    "    # şimdi sozölük olarak geri dönelim\n",
    "    return dict(sorted_list_top_n)"
   ]
  },
  {
   "cell_type": "code",
   "execution_count": 65,
   "id": "6ea0a240-8b1b-4d32-b38e-aaca7cfee7b9",
   "metadata": {},
   "outputs": [
    {
     "data": {
      "text/plain": [
       "{'the': 1792,\n",
       " 'and': 859,\n",
       " 'to': 791,\n",
       " 'a': 677,\n",
       " 'of': 609,\n",
       " 'she': 532,\n",
       " 'it': 458,\n",
       " 'said': 457,\n",
       " 'in': 416,\n",
       " 'alice': 383,\n",
       " 'you': 366,\n",
       " 'was': 353,\n",
       " 'i': 266,\n",
       " 'as': 264,\n",
       " 'that': 249,\n",
       " 'her': 247,\n",
       " 'with': 221,\n",
       " 'at': 216,\n",
       " 'on': 192,\n",
       " 'all': 186}"
      ]
     },
     "execution_count": 65,
     "metadata": {},
     "output_type": "execute_result"
    }
   ],
   "source": [
    "alice_number_of_words_fn = highest_number_of_words(alice_words)\n",
    "alice_number_of_words_fn"
   ]
  },
  {
   "cell_type": "code",
   "execution_count": 66,
   "id": "f42b2900-ba08-4f51-879d-6724052ce9ee",
   "metadata": {},
   "outputs": [],
   "source": [
    "# there is another way: more eaiser! \n"
   ]
  },
  {
   "cell_type": "markdown",
   "id": "92f506cf-40e8-46a9-a3b2-4230e5756c1a",
   "metadata": {},
   "source": [
    "**Counter**"
   ]
  },
  {
   "cell_type": "code",
   "execution_count": 67,
   "id": "d11f5517-7922-46ee-9bde-6349cbf79f64",
   "metadata": {},
   "outputs": [
    {
     "data": {
      "text/plain": [
       "[('the', 4476),\n",
       " ('to', 4189),\n",
       " ('of', 3702),\n",
       " ('and', 3504),\n",
       " ('her', 2190),\n",
       " ('a', 1982),\n",
       " ('in', 1904),\n",
       " ('was', 1835),\n",
       " ('i', 1750),\n",
       " ('she', 1682),\n",
       " ('that', 1517),\n",
       " ('it', 1428),\n",
       " ('not', 1424),\n",
       " ('he', 1307),\n",
       " ('you', 1269),\n",
       " ('his', 1259),\n",
       " ('be', 1251),\n",
       " ('as', 1175),\n",
       " ('had', 1172),\n",
       " ('with', 1088)]"
      ]
     },
     "execution_count": 67,
     "metadata": {},
     "output_type": "execute_result"
    }
   ],
   "source": [
    "pride_number_of_words = Counter(pride_words).most_common(20)\n",
    "pride_number_of_words"
   ]
  },
  {
   "cell_type": "code",
   "execution_count": 68,
   "id": "8cc5b4ac-fa7d-4003-9114-484a413cf193",
   "metadata": {},
   "outputs": [
    {
     "data": {
      "text/plain": [
       "[('the', 1792),\n",
       " ('and', 859),\n",
       " ('to', 791),\n",
       " ('a', 677),\n",
       " ('of', 609),\n",
       " ('she', 532),\n",
       " ('it', 458),\n",
       " ('said', 457),\n",
       " ('in', 416),\n",
       " ('alice', 383),\n",
       " ('you', 366),\n",
       " ('was', 353),\n",
       " ('i', 266),\n",
       " ('as', 264),\n",
       " ('that', 249),\n",
       " ('her', 247),\n",
       " ('with', 221),\n",
       " ('at', 216),\n",
       " ('on', 192),\n",
       " ('all', 186)]"
      ]
     },
     "execution_count": 68,
     "metadata": {},
     "output_type": "execute_result"
    }
   ],
   "source": [
    "alice_number_of_words = Counter(alice_words).most_common(20)\n",
    "alice_number_of_words"
   ]
  },
  {
   "cell_type": "code",
   "execution_count": null,
   "id": "e5124721-69bf-41e8-a29d-be4b4da389ef",
   "metadata": {},
   "outputs": [],
   "source": []
  }
 ],
 "metadata": {
  "kernelspec": {
   "display_name": "Python 3 (ipykernel)",
   "language": "python",
   "name": "python3"
  },
  "language_info": {
   "codemirror_mode": {
    "name": "ipython",
    "version": 3
   },
   "file_extension": ".py",
   "mimetype": "text/x-python",
   "name": "python",
   "nbconvert_exporter": "python",
   "pygments_lexer": "ipython3",
   "version": "3.9.12"
  }
 },
 "nbformat": 4,
 "nbformat_minor": 5
}
