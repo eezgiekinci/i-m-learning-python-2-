{
 "cells": [
  {
   "cell_type": "markdown",
   "id": "ignored-arrest",
   "metadata": {},
   "source": [
    "## 7- Comprehension"
   ]
  },
  {
   "cell_type": "markdown",
   "id": "italian-eligibility",
   "metadata": {},
   "source": [
    "**Q 1:**\n",
    "\n",
    "First, define a function that returns the squares of numbers 1 to 10 (excluding) with a for loop.\n",
    "\n",
    "Then, define the same function with using comprehension.\n",
    "\n",
    "<pre style=\"background: gold\">\n",
    "[1, 4, 9, 16, 25, 36, 49, 64, 81]\n",
    "</pre>"
   ]
  },
  {
   "cell_type": "code",
   "execution_count": 7,
   "id": "paperback-hamburg",
   "metadata": {},
   "outputs": [],
   "source": [
    "# S 1:\n",
    "\n",
    "# for loop:\n",
    "\n",
    "def find_squares():\n",
    "    \n",
    "    s_list = []\n",
    "    \n",
    "    for i in range(1,10):\n",
    "        \n",
    "        s_list.append(i**2)\n",
    "        \n",
    "    return s_list"
   ]
  },
  {
   "cell_type": "code",
   "execution_count": 8,
   "id": "endangered-springer",
   "metadata": {},
   "outputs": [
    {
     "data": {
      "text/plain": [
       "[1, 4, 9, 16, 25, 36, 49, 64, 81]"
      ]
     },
     "execution_count": 8,
     "metadata": {},
     "output_type": "execute_result"
    }
   ],
   "source": [
    "squares = find_squares()\n",
    "squares"
   ]
  },
  {
   "cell_type": "code",
   "execution_count": 9,
   "id": "corporate-amplifier",
   "metadata": {},
   "outputs": [],
   "source": [
    "# comprehension\n",
    "\n",
    "def find_squares_comp():\n",
    "    \n",
    "    return [i**2 for i in range(1,10)]"
   ]
  },
  {
   "cell_type": "code",
   "execution_count": 10,
   "id": "jewish-white",
   "metadata": {},
   "outputs": [
    {
     "data": {
      "text/plain": [
       "[1, 4, 9, 16, 25, 36, 49, 64, 81]"
      ]
     },
     "execution_count": 10,
     "metadata": {},
     "output_type": "execute_result"
    }
   ],
   "source": [
    "squares = find_squares_comp()\n",
    "squares"
   ]
  },
  {
   "cell_type": "markdown",
   "id": "streaming-wireless",
   "metadata": {},
   "source": [
    "---"
   ]
  },
  {
   "cell_type": "markdown",
   "id": "laughing-relationship",
   "metadata": {},
   "source": [
    "**Q 2:**\n",
    "\n",
    "Define a function that takes a paragraph which has sentences as a parameter.\n",
    "\n",
    "The function returns the sentences which is in the paragraph.\n",
    "\n",
    "<pre style=\"background: gold\">\n",
    "paragraph = [\"Lorem ipsum dolor sit amet, consectetur adipiscing elit.\",\n",
    "             \"Ut enim ad minim veniam, quis nostrud exercitation ullamco.\",\n",
    "             \"Duis aute irure dolor in reprehenderit in voluptate velit esse.\",\n",
    "             \"Excepteur sint occaecat cupidatat non proident.\"]\n",
    "</pre>"
   ]
  },
  {
   "cell_type": "code",
   "execution_count": 21,
   "id": "ceramic-ready",
   "metadata": {},
   "outputs": [],
   "source": [
    "# S 2:\n",
    "\n",
    "# for loop\n",
    "\n",
    "def give_me_sentences(paragraph):\n",
    "    \n",
    "    s_list = []\n",
    "    \n",
    "    for sentence in paragraph:\n",
    "        \n",
    "        s_list.append(sentence)\n",
    "    \n",
    "    return s_list\n",
    "    "
   ]
  },
  {
   "cell_type": "code",
   "execution_count": 12,
   "id": "formal-management",
   "metadata": {},
   "outputs": [],
   "source": [
    "paragraph = [\"Lorem ipsum dolor sit amet, consectetur adipiscing elit.\",\n",
    "             \"Ut enim ad minim veniam, quis nostrud exercitation ullamco.\",\n",
    "             \"Duis aute irure dolor in reprehenderit in voluptate velit esse.\",\n",
    "             \"Excepteur sint occaecat cupidatat non proident.\"]"
   ]
  },
  {
   "cell_type": "code",
   "execution_count": 22,
   "id": "union-assault",
   "metadata": {},
   "outputs": [
    {
     "data": {
      "text/plain": [
       "['Lorem ipsum dolor sit amet, consectetur adipiscing elit.',\n",
       " 'Ut enim ad minim veniam, quis nostrud exercitation ullamco.',\n",
       " 'Duis aute irure dolor in reprehenderit in voluptate velit esse.',\n",
       " 'Excepteur sint occaecat cupidatat non proident.']"
      ]
     },
     "execution_count": 22,
     "metadata": {},
     "output_type": "execute_result"
    }
   ],
   "source": [
    "sentence = give_me_sentences(paragraph)\n",
    "sentence"
   ]
  },
  {
   "cell_type": "code",
   "execution_count": 17,
   "id": "illegal-bumper",
   "metadata": {},
   "outputs": [],
   "source": [
    "# comprehension\n",
    "def give_me_sentences_comp(paragraph):\n",
    "    \n",
    "    return [sentences for sentences in paragraph]\n"
   ]
  },
  {
   "cell_type": "code",
   "execution_count": 18,
   "id": "provincial-brunei",
   "metadata": {},
   "outputs": [
    {
     "data": {
      "text/plain": [
       "['Lorem ipsum dolor sit amet, consectetur adipiscing elit.',\n",
       " 'Ut enim ad minim veniam, quis nostrud exercitation ullamco.',\n",
       " 'Duis aute irure dolor in reprehenderit in voluptate velit esse.',\n",
       " 'Excepteur sint occaecat cupidatat non proident.']"
      ]
     },
     "execution_count": 18,
     "metadata": {},
     "output_type": "execute_result"
    }
   ],
   "source": [
    "sentences = give_me_sentences_comp(paragraph)\n",
    "sentences"
   ]
  },
  {
   "cell_type": "markdown",
   "id": "acknowledged-northern",
   "metadata": {},
   "source": [
    "---"
   ]
  },
  {
   "cell_type": "markdown",
   "id": "tribal-membrane",
   "metadata": {},
   "source": [
    "**Q 3:**\n",
    "\n",
    "Define a function that takes words from the paragraph which is in Q2.\n",
    "\n",
    "<pre style=\"background: gold\">\n",
    "paragraph = [\"Lorem ipsum dolor sit amet, consectetur adipiscing elit.\",\n",
    "             \"Ut enim ad minim veniam, quis nostrud exercitation ullamco.\",\n",
    "             \"Duis aute irure dolor in reprehenderit in voluptate velit esse.\",\n",
    "             \"Excepteur sint occaecat cupidatat non proident.\"]\n",
    "             \n",
    "Result:\n",
    "['Lorem', 'ipsum', 'dolor', 'sit', 'amet,', 'consectetur', 'adipiscing', 'elit.', 'Ut', 'enim', 'ad', 'minim', 'veniam,', 'quis', 'nostrud', 'exercitation', 'ullamco.', 'Duis', 'aute', 'irure', 'dolor', 'in', 'reprehenderit', 'in', 'voluptate', 'velit', 'esse.', 'Excepteur', 'sint', 'occaecat', 'cupidatat', 'non', 'proident.']\n",
    "</pre>"
   ]
  },
  {
   "cell_type": "code",
   "execution_count": 23,
   "id": "dedicated-residence",
   "metadata": {},
   "outputs": [],
   "source": [
    "# S 3:\n",
    "\n",
    "# for loop\n",
    "\n",
    "def give_me_words(paragraph):\n",
    "    \n",
    "    w_list = []\n",
    "    \n",
    "    for sentence in paragraph:\n",
    "        \n",
    "        for word in sentence.split():\n",
    "        \n",
    "            w_list.append(word)\n",
    "    \n",
    "    return w_list\n"
   ]
  },
  {
   "cell_type": "code",
   "execution_count": 24,
   "id": "trying-gnome",
   "metadata": {},
   "outputs": [
    {
     "name": "stdout",
     "output_type": "stream",
     "text": [
      "['Lorem', 'ipsum', 'dolor', 'sit', 'amet,', 'consectetur', 'adipiscing', 'elit.', 'Ut', 'enim', 'ad', 'minim', 'veniam,', 'quis', 'nostrud', 'exercitation', 'ullamco.', 'Duis', 'aute', 'irure', 'dolor', 'in', 'reprehenderit', 'in', 'voluptate', 'velit', 'esse.', 'Excepteur', 'sint', 'occaecat', 'cupidatat', 'non', 'proident.']\n"
     ]
    }
   ],
   "source": [
    "word = give_me_words(paragraph)\n",
    "print(word)"
   ]
  },
  {
   "cell_type": "code",
   "execution_count": 25,
   "id": "adaptive-offset",
   "metadata": {},
   "outputs": [],
   "source": [
    "# comprehension\n",
    "\n",
    "def give_me_words_comp(paragraph):\n",
    "    \n",
    "    return [word \n",
    "            for sentence in paragraph\n",
    "            for word in sentence.split()]\n",
    "\n",
    "\n"
   ]
  },
  {
   "cell_type": "code",
   "execution_count": 26,
   "id": "mighty-wrist",
   "metadata": {},
   "outputs": [
    {
     "name": "stdout",
     "output_type": "stream",
     "text": [
      "['Lorem', 'ipsum', 'dolor', 'sit', 'amet,', 'consectetur', 'adipiscing', 'elit.', 'Ut', 'enim', 'ad', 'minim', 'veniam,', 'quis', 'nostrud', 'exercitation', 'ullamco.', 'Duis', 'aute', 'irure', 'dolor', 'in', 'reprehenderit', 'in', 'voluptate', 'velit', 'esse.', 'Excepteur', 'sint', 'occaecat', 'cupidatat', 'non', 'proident.']\n"
     ]
    }
   ],
   "source": [
    "word = give_me_words_comp(paragraph)\n",
    "print(word)"
   ]
  },
  {
   "cell_type": "markdown",
   "id": "crazy-transcription",
   "metadata": {},
   "source": [
    "---"
   ]
  },
  {
   "cell_type": "markdown",
   "id": "internal-dress",
   "metadata": {},
   "source": [
    "**Q 4:**\n",
    "\n",
    "Define a function that takes only words which is starting with a vowel from the paragraph which is in Q2.\n",
    "\n",
    "<pre style=\"background: gold\">\n",
    "paragraph = [\"Lorem ipsum dolor sit amet, consectetur adipiscing elit.\",\n",
    "             \"Ut enim ad minim veniam, quis nostrud exercitation ullamco.\",\n",
    "             \"Duis aute irure dolor in reprehenderit in voluptate velit esse.\",\n",
    "             \"Excepteur sint occaecat cupidatat non proident.\"]\n",
    "             \n",
    "Result:\n",
    "['ipsum', 'amet,', 'adipiscing', 'elit.', 'Ut', 'enim', 'ad', 'exercitation', 'ullamco.', 'aute', 'irure', 'in', 'in', 'esse.', 'Excepteur', 'occaecat']\n",
    "</pre>"
   ]
  },
  {
   "cell_type": "code",
   "execution_count": 27,
   "id": "figured-convert",
   "metadata": {},
   "outputs": [],
   "source": [
    "# S 4:\n",
    "\n",
    "# for loop\n",
    "\n",
    "def give_me_words_2(paragraph):\n",
    "    \n",
    "    vowels = [\"a\", \"e\", \"i\", \"o\", \"u\"]\n",
    "    \n",
    "    w_list = []\n",
    "    \n",
    "    for sentence in paragraph:\n",
    "        \n",
    "        for word in sentence.split():\n",
    "            \n",
    "            if word[0] in vowels:\n",
    "        \n",
    "                w_list.append(word)\n",
    "    \n",
    "    return w_list"
   ]
  },
  {
   "cell_type": "code",
   "execution_count": 28,
   "id": "blocked-duplicate",
   "metadata": {},
   "outputs": [
    {
     "name": "stdout",
     "output_type": "stream",
     "text": [
      "['ipsum', 'amet,', 'adipiscing', 'elit.', 'enim', 'ad', 'exercitation', 'ullamco.', 'aute', 'irure', 'in', 'in', 'esse.', 'occaecat']\n"
     ]
    }
   ],
   "source": [
    "vowel_word = give_me_words_2(paragraph)\n",
    "print(vowel_word)"
   ]
  },
  {
   "cell_type": "code",
   "execution_count": 29,
   "id": "extra-capital",
   "metadata": {},
   "outputs": [],
   "source": [
    "# comprehension \n",
    "\n",
    "def give_me_words_2_comp(paragraph):\n",
    "    \n",
    "    vowels = [\"a\", \"e\", \"i\", \"o\", \"u\"]\n",
    "    \n",
    "    return [word \n",
    "            for sentence in paragraph\n",
    "            for word in sentence.split()\n",
    "            if word[0] in vowels]"
   ]
  },
  {
   "cell_type": "code",
   "execution_count": 30,
   "id": "acoustic-utility",
   "metadata": {},
   "outputs": [
    {
     "name": "stdout",
     "output_type": "stream",
     "text": [
      "['ipsum', 'amet,', 'adipiscing', 'elit.', 'enim', 'ad', 'exercitation', 'ullamco.', 'aute', 'irure', 'in', 'in', 'esse.', 'occaecat']\n"
     ]
    }
   ],
   "source": [
    "vowel_word = give_me_words_2_comp(paragraph)\n",
    "print(vowel_word)"
   ]
  },
  {
   "cell_type": "markdown",
   "id": "yellow-hierarchy",
   "metadata": {},
   "source": [
    "---"
   ]
  },
  {
   "cell_type": "markdown",
   "id": "checked-office",
   "metadata": {},
   "source": [
    "**Q 5:**\n",
    "\n",
    "Define a function that squares all numbers from zero to 20 (inclusive). \n",
    "\n",
    "Let the function return the squared values ​​of the number in a Dictionary. Let the key of the Dictionary be the number itself, and let the value be the square of the number.\n",
    "\n",
    "**{number: squared_number}** \n",
    "<pre style=\"background: gold\">\n",
    "{0: 0, 1: 1, 2: 4, 3: 9, 4: 16, 5: 25, 6: 36, 7: 49, 8: 64, 9: 81, 10: 100, 11: 121, 12: 144, 13: 169, 14: 196, 15: 225, 16: 256, 17: 289, 18: 324, 19: 361, 20: 400}\n",
    "</pre>"
   ]
  },
  {
   "cell_type": "code",
   "execution_count": 31,
   "id": "cognitive-banking",
   "metadata": {},
   "outputs": [],
   "source": [
    "# S 5:\n",
    "\n",
    "def squared_dict():\n",
    "    \n",
    "    return { number : number**2\n",
    "            for number in range(0,21)}"
   ]
  },
  {
   "cell_type": "code",
   "execution_count": 32,
   "id": "absent-bookmark",
   "metadata": {},
   "outputs": [
    {
     "name": "stdout",
     "output_type": "stream",
     "text": [
      "{0: 0, 1: 1, 2: 4, 3: 9, 4: 16, 5: 25, 6: 36, 7: 49, 8: 64, 9: 81, 10: 100, 11: 121, 12: 144, 13: 169, 14: 196, 15: 225, 16: 256, 17: 289, 18: 324, 19: 361, 20: 400}\n"
     ]
    }
   ],
   "source": [
    "squared_dict = squared_dict()\n",
    "print(squared_dict)"
   ]
  },
  {
   "cell_type": "markdown",
   "id": "underlying-arrival",
   "metadata": {},
   "source": [
    "---"
   ]
  },
  {
   "cell_type": "markdown",
   "id": "adjustable-drawing",
   "metadata": {},
   "source": [
    "**Q 6:**\n",
    "\n",
    "Define a function that takes a dictionary as a parameter.\n",
    "\n",
    "Parameter:\n",
    "<pre>\n",
    "{1: ['Ezgi Ekinci', 24],\n",
    " 2: ['Kaiser Soze', 100],\n",
    " 3: ['Zozo The Kid', 45],\n",
    " 4: ['Jonny Lash', 70]}\n",
    "</pre>\n",
    "\n",
    "The function will create a new dictionary just taking the numbers and names and return this dictionary.\n",
    "\n",
    "<pre style=\"background: gold\">\n",
    "Sonuc:\n",
    "{1: 'Ezgi Ekinci', 2: 'Kaiser Soze', 3: 'Zozo The Kid', 4: 'Jonny Lash'}\n",
    "</pre>"
   ]
  },
  {
   "cell_type": "code",
   "execution_count": 35,
   "id": "altered-acrobat",
   "metadata": {},
   "outputs": [],
   "source": [
    "# S 6:\n",
    "\n",
    "def numbers_and_names(students_info):\n",
    "    \n",
    "    new_dict = {}\n",
    "    \n",
    "    for key, value in students_info.items():\n",
    "        \n",
    "        new_dict[key] = value[0]\n",
    "        \n",
    "    return new_dict"
   ]
  },
  {
   "cell_type": "code",
   "execution_count": 36,
   "id": "greatest-terrace",
   "metadata": {},
   "outputs": [
    {
     "data": {
      "text/plain": [
       "{1: 'Ezgi Ekinci', 2: 'Kaiser Soze', 3: 'Zozo The Kid', 4: 'Jonny Lash'}"
      ]
     },
     "execution_count": 36,
     "metadata": {},
     "output_type": "execute_result"
    }
   ],
   "source": [
    "students_info = {1: ['Ezgi Ekinci', 24],\n",
    "                     2: ['Kaiser Soze', 100],\n",
    "                     3: ['Zozo The Kid', 45],\n",
    "                     4: ['Jonny Lash', 70]}\n",
    "\n",
    "new_dict = numbers_and_names(students_info)\n",
    "new_dict "
   ]
  },
  {
   "cell_type": "code",
   "execution_count": 37,
   "id": "regulation-basement",
   "metadata": {},
   "outputs": [],
   "source": [
    "# comprehension\n",
    "\n",
    "def numbers_and_names_comp(students_info):\n",
    "    \n",
    "    return { key : value[0] \n",
    "            for key, value in students_info.items() }"
   ]
  },
  {
   "cell_type": "code",
   "execution_count": 38,
   "id": "direct-fruit",
   "metadata": {},
   "outputs": [
    {
     "data": {
      "text/plain": [
       "{1: 'Ezgi Ekinci', 2: 'Kaiser Soze', 3: 'Zozo The Kid', 4: 'Jonny Lash'}"
      ]
     },
     "execution_count": 38,
     "metadata": {},
     "output_type": "execute_result"
    }
   ],
   "source": [
    "students_info = {1: ['Ezgi Ekinci', 24],\n",
    "                     2: ['Kaiser Soze', 100],\n",
    "                     3: ['Zozo The Kid', 45],\n",
    "                     4: ['Jonny Lash', 70]}\n",
    "\n",
    "new_dict = numbers_and_names(students_info)\n",
    "new_dict "
   ]
  },
  {
   "cell_type": "markdown",
   "id": "tropical-water",
   "metadata": {},
   "source": [
    "---"
   ]
  },
  {
   "cell_type": "markdown",
   "id": "precious-thong",
   "metadata": {},
   "source": [
    "**Q 7:**\n",
    "\n",
    "Define a function that takes a dictionary as a parameter.\n",
    "\n",
    "Parameter:\n",
    "<pre>\n",
    "{1: ['Ezgi Ekinci', 24],\n",
    " 2: ['Kaiser Soze', 100],\n",
    " 3: ['Zozo The Kid', 45],\n",
    " 4: ['Jonny Lash', 70]}\n",
    "</pre>\n",
    "\n",
    "The function will create a new dictionary just taking **odd** numbers and names and return this dictionary.\n",
    "\n",
    "<pre style=\"background: gold\">\n",
    "Sonuc:\n",
    "{1: 'Ezgi Ekinci', 3: 'Zozo The Kid'}\n",
    "</pre>"
   ]
  },
  {
   "cell_type": "code",
   "execution_count": 39,
   "id": "tutorial-worship",
   "metadata": {},
   "outputs": [],
   "source": [
    "# S 7:\n",
    "\n",
    "def numbers_and_names_comp_2(students_info):\n",
    "    \n",
    "    return { key : value[0] \n",
    "            for key, value in students_info.items() if key % 2 == 1 }    \n"
   ]
  },
  {
   "cell_type": "code",
   "execution_count": 41,
   "id": "presidential-politics",
   "metadata": {},
   "outputs": [
    {
     "data": {
      "text/plain": [
       "{1: 'Ezgi Ekinci', 3: 'Zozo The Kid'}"
      ]
     },
     "execution_count": 41,
     "metadata": {},
     "output_type": "execute_result"
    }
   ],
   "source": [
    "students_info = {1: ['Ezgi Ekinci', 24],\n",
    "                     2: ['Kaiser Soze', 100],\n",
    "                     3: ['Zozo The Kid', 45],\n",
    "                     4: ['Jonny Lash', 70]}\n",
    "\n",
    "new_dict = numbers_and_names_comp_2(students_info)\n",
    "new_dict "
   ]
  },
  {
   "cell_type": "markdown",
   "id": "sunrise-aerospace",
   "metadata": {},
   "source": [
    "---"
   ]
  },
  {
   "cell_type": "markdown",
   "id": "asian-faith",
   "metadata": {},
   "source": [
    "**Q 8:**\n",
    "\n",
    "Define a function that takes a text as a parameter.\n",
    "\n",
    "The function returns two lists. One of them includes words and other list includes length of words.\n",
    "\n",
    "\n",
    "If the word is one of ('the', 'in', 'as', 'at'), ignore it.\n",
    "\n",
    "\n",
    "<pre style=\"background: gold\">\n",
    "Parameter:\n",
    "\"It takes all the running you can do, to keep in the same place. If you want to get somewhere else, you must run at least twice as fast as that!\"\n",
    "\n",
    "Result:\n",
    "['It', 'takes', 'all', 'running', 'you', 'can', 'do,', 'to', 'keep', 'same', 'place.', 'If', 'you', 'want', 'to', 'get', 'somewhere', 'else,', 'you', 'must', 'run', 'least', 'twice', 'fast', 'that!']\n",
    "[2, 5, 3, 7, 3, 3, 3, 2, 4, 4, 6, 2, 3, 4, 2, 3, 9, 5, 3, 4, 3, 5, 5, 4, 5]\n",
    "</pre>"
   ]
  },
  {
   "cell_type": "code",
   "execution_count": 42,
   "id": "foreign-recall",
   "metadata": {},
   "outputs": [],
   "source": [
    "# S 8:\n",
    "\n",
    "def length_of_words(alice_in_wonderland):\n",
    "    \n",
    "    words = alice_in_wonderland.split()\n",
    "    \n",
    "    forbidden_words = ('the', 'in', 'as', 'at')\n",
    "    \n",
    "    word_list = [word for word in words\n",
    "                      if word not in forbidden_words]\n",
    "    \n",
    "    length_list = [len(word)\n",
    "                   for word in words\n",
    "                      if word not in forbidden_words]\n",
    "    \n",
    "    return (word_list, length_list)"
   ]
  },
  {
   "cell_type": "code",
   "execution_count": 43,
   "id": "baking-affairs",
   "metadata": {},
   "outputs": [
    {
     "name": "stdout",
     "output_type": "stream",
     "text": [
      "It takes all the running you can do, to keep in the same place. \n",
      "If you want to get somewhere else, you must run at least twice as fast as that!\n"
     ]
    }
   ],
   "source": [
    "\n",
    "alice_in_wonderland = \"\"\"It takes all the running you can do, to keep in the same place. \n",
    "If you want to get somewhere else, you must run at least twice as fast as that!\"\"\"\n",
    "\n",
    "print(alice_in_wonderland)"
   ]
  },
  {
   "cell_type": "code",
   "execution_count": 44,
   "id": "nasty-parish",
   "metadata": {},
   "outputs": [],
   "source": [
    "words, lengths = length_of_words(alice_in_wonderland)"
   ]
  },
  {
   "cell_type": "code",
   "execution_count": 45,
   "id": "skilled-workstation",
   "metadata": {},
   "outputs": [
    {
     "name": "stdout",
     "output_type": "stream",
     "text": [
      "['It', 'takes', 'all', 'running', 'you', 'can', 'do,', 'to', 'keep', 'same', 'place.', 'If', 'you', 'want', 'to', 'get', 'somewhere', 'else,', 'you', 'must', 'run', 'least', 'twice', 'fast', 'that!']\n",
      "[2, 5, 3, 7, 3, 3, 3, 2, 4, 4, 6, 2, 3, 4, 2, 3, 9, 5, 3, 4, 3, 5, 5, 4, 5]\n"
     ]
    }
   ],
   "source": [
    "print(words)\n",
    "print(lengths)"
   ]
  },
  {
   "cell_type": "markdown",
   "id": "understanding-seven",
   "metadata": {},
   "source": [
    "---"
   ]
  },
  {
   "cell_type": "markdown",
   "id": "vertical-prayer",
   "metadata": {},
   "source": [
    "**Q 9:**\n",
    "\n",
    "Define a function that takes a number list.\n",
    "\n",
    "The function will take only positive numbers from list and make them a integer and return as a new list.\n",
    "\n",
    "<pre style=\"background: gold\">\n",
    "Parameter:\n",
    "[12.8, -27.2, -34.5, 58.4, -82.0, 66.6, 14.9]\n",
    "\n",
    "Result:\n",
    "[12, 58, 66, 14]\n",
    "</pre>"
   ]
  },
  {
   "cell_type": "code",
   "execution_count": 46,
   "id": "seventh-policy",
   "metadata": {},
   "outputs": [],
   "source": [
    "# S 9:\n",
    "\n",
    "def only_positive_vibes(number_list):\n",
    "    \n",
    "    return [int(x) \n",
    "            for x in number_list\n",
    "            if x > 0]"
   ]
  },
  {
   "cell_type": "code",
   "execution_count": 47,
   "id": "pregnant-collective",
   "metadata": {},
   "outputs": [
    {
     "name": "stdout",
     "output_type": "stream",
     "text": [
      "[12, 58, 66, 14]\n"
     ]
    }
   ],
   "source": [
    "number_list = [12.8, -27.2, -34.5, 58.4, -82.0, 66.6, 14.9]\n",
    "\n",
    "positive_numbers = only_positive_vibes(number_list)\n",
    "\n",
    "print(positive_numbers)"
   ]
  },
  {
   "cell_type": "markdown",
   "id": "reverse-orange",
   "metadata": {},
   "source": [
    "---"
   ]
  },
  {
   "cell_type": "markdown",
   "id": "based-sharp",
   "metadata": {},
   "source": [
    "**Q 10:**\n",
    "\n",
    "Define a function that has a list which includes two list.\n",
    "\n",
    "The function will take these list and give us a list.\n",
    "\n",
    "<pre style=\"background: gold\">\n",
    "Parameter:\n",
    "listeler_listesi = [[8,6], [3,1,4], [2,0,9], [5]]\n",
    "          \n",
    "Result:\n",
    "[8, 6, 3, 1, 4, 2, 0, 9, 5]\n",
    "</pre>"
   ]
  },
  {
   "cell_type": "code",
   "execution_count": 48,
   "id": "military-mississippi",
   "metadata": {},
   "outputs": [],
   "source": [
    "# S 10:\n",
    "\n",
    "def make_them_one_list(list_list):\n",
    "    \n",
    "    return [j \n",
    "            for i in list_list\n",
    "            for j in i]"
   ]
  },
  {
   "cell_type": "code",
   "execution_count": 49,
   "id": "behavioral-stuff",
   "metadata": {},
   "outputs": [
    {
     "data": {
      "text/plain": [
       "[8, 6, 3, 1, 4, 2, 0, 9, 5]"
      ]
     },
     "execution_count": 49,
     "metadata": {},
     "output_type": "execute_result"
    }
   ],
   "source": [
    "list_list = [[8,6], [3,1,4], [2,0,9], [5]]\n",
    "\n",
    "a_list = make_them_one_list(list_list)\n",
    "\n",
    "a_list"
   ]
  },
  {
   "cell_type": "code",
   "execution_count": null,
   "id": "6237d4e8-a887-4fb4-9c31-4165b362f1e5",
   "metadata": {},
   "outputs": [],
   "source": []
  }
 ],
 "metadata": {
  "kernelspec": {
   "display_name": "Python 3 (ipykernel)",
   "language": "python",
   "name": "python3"
  },
  "language_info": {
   "codemirror_mode": {
    "name": "ipython",
    "version": 3
   },
   "file_extension": ".py",
   "mimetype": "text/x-python",
   "name": "python",
   "nbconvert_exporter": "python",
   "pygments_lexer": "ipython3",
   "version": "3.9.12"
  }
 },
 "nbformat": 4,
 "nbformat_minor": 5
}
