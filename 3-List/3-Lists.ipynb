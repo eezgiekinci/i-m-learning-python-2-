{
 "cells": [
  {
   "cell_type": "markdown",
   "id": "78087989-384b-42ad-ac3a-c0a82ec2bd99",
   "metadata": {},
   "source": [
    "## 3.1 List\n",
    "\n",
    "* Earlier, I talked about sequences on String. \n",
    "\n",
    "* List data type is also a sequence.\n",
    "\n",
    "* Using `index`, we can access the contents of a list.\n"
   ]
  },
  {
   "cell_type": "code",
   "execution_count": 1,
   "id": "63fce668-0e13-4b0e-ab83-b6d1330a4d6b",
   "metadata": {},
   "outputs": [
    {
     "data": {
      "text/plain": [
       "[10, 20, 30, 40]"
      ]
     },
     "execution_count": 1,
     "metadata": {},
     "output_type": "execute_result"
    }
   ],
   "source": [
    "my_first_list = [10, 20, 30, 40]\n",
    "my_first_list"
   ]
  },
  {
   "cell_type": "markdown",
   "id": "57106875-49cb-4c4d-af87-90fb7250cf26",
   "metadata": {},
   "source": [
    "* We can add variables which are different data types to the list."
   ]
  },
  {
   "cell_type": "code",
   "execution_count": 2,
   "id": "fb5e7e30-987f-49b4-a3b5-103b77804b8e",
   "metadata": {},
   "outputs": [
    {
     "data": {
      "text/plain": [
       "[10, 'ezgi', 4.5, True]"
      ]
     },
     "execution_count": 2,
     "metadata": {},
     "output_type": "execute_result"
    }
   ],
   "source": [
    "mixed_list = [10, \"ezgi\",  4.5, True]\n",
    "mixed_list"
   ]
  },
  {
   "cell_type": "code",
   "execution_count": 3,
   "id": "51ac685b-5f80-465a-a369-befb9775730c",
   "metadata": {},
   "outputs": [
    {
     "data": {
      "text/plain": [
       "['city', ['ankara', 'istanbul', 'samsun'], [6, 34, 55]]"
      ]
     },
     "execution_count": 3,
     "metadata": {},
     "output_type": "execute_result"
    }
   ],
   "source": [
    "nested_list = [\"city\", [\"ankara\", \"istanbul\", \"samsun\"], [6,34,55]]\n",
    "nested_list"
   ]
  },
  {
   "cell_type": "markdown",
   "id": "f6a0cde8-76bc-4619-9ccc-7fa70b9e42b0",
   "metadata": {},
   "source": [
    "* how can we access elements of list?"
   ]
  },
  {
   "cell_type": "code",
   "execution_count": 4,
   "id": "452d0146-9ac2-4bb3-9aeb-fffa8fa5cac1",
   "metadata": {},
   "outputs": [
    {
     "data": {
      "text/plain": [
       "'city'"
      ]
     },
     "execution_count": 4,
     "metadata": {},
     "output_type": "execute_result"
    }
   ],
   "source": [
    "nested_list[0]"
   ]
  },
  {
   "cell_type": "code",
   "execution_count": 5,
   "id": "f581ac31-c554-4a89-ba89-e715ccf21a8e",
   "metadata": {},
   "outputs": [
    {
     "data": {
      "text/plain": [
       "['ankara', 'istanbul', 'samsun']"
      ]
     },
     "execution_count": 5,
     "metadata": {},
     "output_type": "execute_result"
    }
   ],
   "source": [
    "nested_list[1]"
   ]
  },
  {
   "cell_type": "code",
   "execution_count": 7,
   "id": "a140f8e7-92e4-47cc-ab73-505e5845e067",
   "metadata": {},
   "outputs": [
    {
     "data": {
      "text/plain": [
       "'ankara'"
      ]
     },
     "execution_count": 7,
     "metadata": {},
     "output_type": "execute_result"
    }
   ],
   "source": [
    "nested_list[1][0]"
   ]
  },
  {
   "cell_type": "markdown",
   "id": "d4906026-437d-4327-9b02-e68f6e05fdaf",
   "metadata": {},
   "source": [
    "* A list is a mutable !"
   ]
  },
  {
   "cell_type": "code",
   "execution_count": 8,
   "id": "dbb7cce6-b926-46b0-8525-95e2274d847c",
   "metadata": {},
   "outputs": [
    {
     "data": {
      "text/plain": [
       "'Gouda'"
      ]
     },
     "execution_count": 8,
     "metadata": {},
     "output_type": "execute_result"
    }
   ],
   "source": [
    "cheeses = [\"Gouda\",\"Halloumi\",\"Cheddar\"]\n",
    "\n",
    "cheeses[0]"
   ]
  },
  {
   "cell_type": "code",
   "execution_count": 10,
   "id": "29894d0c-058b-46fc-a63e-ce657d18dc36",
   "metadata": {},
   "outputs": [],
   "source": [
    "# we want to change Gouda as Tofu:\n",
    "\n",
    "cheeses[0] = \"Tofu\""
   ]
  },
  {
   "cell_type": "code",
   "execution_count": 11,
   "id": "f847a212-c027-47c7-a090-c6725ef78890",
   "metadata": {},
   "outputs": [
    {
     "data": {
      "text/plain": [
       "['Tofu', 'Halloumi', 'Cheddar']"
      ]
     },
     "execution_count": 11,
     "metadata": {},
     "output_type": "execute_result"
    }
   ],
   "source": [
    "cheeses"
   ]
  },
  {
   "cell_type": "markdown",
   "id": "7c8ac088-8650-4383-b406-b0eefc9a01d7",
   "metadata": {},
   "source": [
    "## 3.2 Loops on List"
   ]
  },
  {
   "cell_type": "code",
   "execution_count": 12,
   "id": "1e75cf6d-c4a0-4831-b951-fd789da3dab8",
   "metadata": {},
   "outputs": [
    {
     "name": "stdout",
     "output_type": "stream",
     "text": [
      "Gouda\n",
      "Halloumi\n",
      "Cheddar\n"
     ]
    }
   ],
   "source": [
    "cheeses = [\"Gouda\",\"Halloumi\",\"Cheddar\"]\n",
    "\n",
    "for c in cheeses:\n",
    "    print(c)"
   ]
  },
  {
   "cell_type": "code",
   "execution_count": 15,
   "id": "28125115-8458-4bd8-8073-da6916b50a9c",
   "metadata": {},
   "outputs": [
    {
     "name": "stdout",
     "output_type": "stream",
     "text": [
      "1. Gouda\n",
      "2. Halloumi\n",
      "3. Cheddar\n"
     ]
    }
   ],
   "source": [
    "for index,c in enumerate (cheeses):\n",
    "    print(\"{0}. {1}\".format(index + 1, c))\n",
    "    "
   ]
  },
  {
   "cell_type": "code",
   "execution_count": 19,
   "id": "e3bd340d-7dd6-40f9-83a9-36a13edc2498",
   "metadata": {},
   "outputs": [
    {
     "data": {
      "text/plain": [
       "[1, 2, 3, 4, 5]"
      ]
     },
     "execution_count": 19,
     "metadata": {},
     "output_type": "execute_result"
    }
   ],
   "source": [
    "#while on loop, we can change value of elements of list:\n",
    "\n",
    "numbers = [1, 2, 3, 4, 5]\n",
    "numbers"
   ]
  },
  {
   "cell_type": "code",
   "execution_count": 20,
   "id": "080427b6-7dd8-44d9-981e-effc780da5ea",
   "metadata": {},
   "outputs": [],
   "source": [
    "for index, n in enumerate (numbers):\n",
    "   \n",
    "    n *=10\n",
    "    \n",
    "    numbers[index] = n\n",
    "    "
   ]
  },
  {
   "cell_type": "code",
   "execution_count": 21,
   "id": "3ff00d11-646e-45d3-baf4-f43eb8565a14",
   "metadata": {},
   "outputs": [
    {
     "data": {
      "text/plain": [
       "[10, 20, 30, 40, 50]"
      ]
     },
     "execution_count": 21,
     "metadata": {},
     "output_type": "execute_result"
    }
   ],
   "source": [
    "numbers"
   ]
  },
  {
   "cell_type": "markdown",
   "id": "b42bca16-5cd2-4bfe-b358-eea620d17807",
   "metadata": {},
   "source": [
    "## 3.3 List Operations"
   ]
  },
  {
   "cell_type": "markdown",
   "id": "d9f10703-af5b-49c9-9ac0-d1fd2a5c4279",
   "metadata": {},
   "source": [
    "### To combine lists: `+`"
   ]
  },
  {
   "cell_type": "code",
   "execution_count": 22,
   "id": "be19a243-3793-4e78-b049-ade946d3c775",
   "metadata": {},
   "outputs": [
    {
     "name": "stdout",
     "output_type": "stream",
     "text": [
      "[1, 2, 3, 4, 5, 6, 7, 8, 9, 10]\n"
     ]
    }
   ],
   "source": [
    "a = [1,2,3,4,5]\n",
    "\n",
    "b = [6,7,8,9,10]\n",
    "\n",
    "c = a + b\n",
    "\n",
    "print(c)"
   ]
  },
  {
   "cell_type": "markdown",
   "id": "01580395-05e9-4008-9cd9-d3b140bf6f17",
   "metadata": {},
   "source": [
    "### Repeats a list for the given number of times: `*`"
   ]
  },
  {
   "cell_type": "code",
   "execution_count": 25,
   "id": "ac70d33b-c8df-4931-860c-002e2194f480",
   "metadata": {},
   "outputs": [
    {
     "data": {
      "text/plain": [
       "[5, 5, 5]"
      ]
     },
     "execution_count": 25,
     "metadata": {},
     "output_type": "execute_result"
    }
   ],
   "source": [
    "[5] * 3"
   ]
  },
  {
   "cell_type": "markdown",
   "id": "51b5da2f-1ffb-49e8-9801-9c97f9df1042",
   "metadata": {},
   "source": [
    "## 3.4 List Slicing"
   ]
  },
  {
   "cell_type": "code",
   "execution_count": 29,
   "id": "6b27e656-d72b-4cbf-968f-8ab044bdbb21",
   "metadata": {},
   "outputs": [
    {
     "data": {
      "text/plain": [
       "['b', 'c', 'd', 'e']"
      ]
     },
     "execution_count": 29,
     "metadata": {},
     "output_type": "execute_result"
    }
   ],
   "source": [
    "a_list = [\"a\",\"b\",\"c\",\"d\",\"e\",\"f\"]\n",
    "\n",
    "# from 2 to 5 (index 1 - index 4)\n",
    "\n",
    "a_list[1:5]"
   ]
  },
  {
   "cell_type": "code",
   "execution_count": 31,
   "id": "25542582-fd8e-4b35-b240-fe41e1ebb689",
   "metadata": {},
   "outputs": [
    {
     "data": {
      "text/plain": [
       "['a', 'b', 'c', 'd']"
      ]
     },
     "execution_count": 31,
     "metadata": {},
     "output_type": "execute_result"
    }
   ],
   "source": [
    "a_list[:4]"
   ]
  },
  {
   "cell_type": "code",
   "execution_count": 33,
   "id": "854a865e-7637-4809-85b7-7afc6fd61c6a",
   "metadata": {},
   "outputs": [
    {
     "data": {
      "text/plain": [
       "['a', 'b', 'c', 'd', 'e', 'f']"
      ]
     },
     "execution_count": 33,
     "metadata": {},
     "output_type": "execute_result"
    }
   ],
   "source": [
    "# return all elements of the list:\n",
    "\n",
    "a_list[:]"
   ]
  },
  {
   "cell_type": "markdown",
   "id": "eeeb32c1-cd61-4f00-ab5b-1a14237a597c",
   "metadata": {},
   "source": [
    "### 3.5 `range()` to a List"
   ]
  },
  {
   "cell_type": "code",
   "execution_count": 1,
   "id": "b172382e-3791-40aa-af85-c18d3519a1d5",
   "metadata": {},
   "outputs": [
    {
     "name": "stdout",
     "output_type": "stream",
     "text": [
      "1\n",
      "3\n",
      "5\n",
      "7\n",
      "9\n"
     ]
    }
   ],
   "source": [
    "for i in range(1,10,2):\n",
    "    print(i)"
   ]
  },
  {
   "cell_type": "code",
   "execution_count": 2,
   "id": "840255f4-9833-4f74-bdab-bede8a287d1d",
   "metadata": {},
   "outputs": [
    {
     "data": {
      "text/plain": [
       "[2, 5, 8, 11, 14, 17, 20, 23, 26, 29]"
      ]
     },
     "execution_count": 2,
     "metadata": {},
     "output_type": "execute_result"
    }
   ],
   "source": [
    "# Let's say we need a list starting at 2, going up to 30 and increasing by threes:\n",
    "\n",
    "# my_list = [2, 5, 8, 11, 14, 17, 20, 23, 26, 29] \n",
    "\n",
    "# I could create this list easily but there is a simple way for creating the list!\n",
    "\n",
    "x = range(2,30,3)\n",
    "\n",
    "range_list = list(x)\n",
    "\n",
    "range_list\n",
    "\n"
   ]
  },
  {
   "cell_type": "code",
   "execution_count": 3,
   "id": "53fe35e4-ad5a-4a8e-bc0c-a8db98c81ea6",
   "metadata": {},
   "outputs": [
    {
     "data": {
      "text/plain": [
       "[2, 5, 8, 11, 14, 17, 20, 23, 26, 29]"
      ]
     },
     "execution_count": 3,
     "metadata": {},
     "output_type": "execute_result"
    }
   ],
   "source": [
    "list(range(2,30,3))"
   ]
  },
  {
   "cell_type": "markdown",
   "id": "413f9e37-5760-46e3-adf7-5be9a86a887b",
   "metadata": {},
   "source": [
    "### 3.6 Objects and Values"
   ]
  },
  {
   "cell_type": "code",
   "execution_count": 5,
   "id": "24766135-9ec1-42f2-8ffe-987893a82b90",
   "metadata": {},
   "outputs": [],
   "source": [
    "a = \"kiwi\"\n",
    "\n",
    "b = \"kiwi\""
   ]
  },
  {
   "cell_type": "markdown",
   "id": "f5ca33c6-1f21-4cb9-836a-acb1d6f77efd",
   "metadata": {},
   "source": [
    "* we created two objects as a str and their values equal each other. \n",
    "\n",
    "In such a case, does python create two separate objects in memory?\n",
    "\n",
    "To be honest, when i saw these question, i said \"of course\" :) Let' check their ids:"
   ]
  },
  {
   "cell_type": "code",
   "execution_count": 8,
   "id": "9b5e2cee-1a11-4f99-ab2d-e86f0571c4af",
   "metadata": {},
   "outputs": [
    {
     "name": "stdout",
     "output_type": "stream",
     "text": [
      "ID of a : 2311658894000\n",
      "ID of b : 2311658894000\n"
     ]
    }
   ],
   "source": [
    "print(\"ID of a : {0}\".format(id(a)))\n",
    "print(\"ID of b : {0}\".format(id(b)))"
   ]
  },
  {
   "cell_type": "markdown",
   "id": "6d0425bb-560c-4761-9688-4be5e74bc0fc",
   "metadata": {},
   "source": [
    "They are in the same ID. Why ? \n",
    "\n",
    "Instead of, Python creates different two objects, it creates an object because they are **immutable** and carry the same value!"
   ]
  },
  {
   "cell_type": "code",
   "execution_count": 9,
   "id": "bafba239-43dc-44e3-b580-56e02cc40149",
   "metadata": {},
   "outputs": [
    {
     "data": {
      "text/plain": [
       "True"
      ]
     },
     "execution_count": 9,
     "metadata": {},
     "output_type": "execute_result"
    }
   ],
   "source": [
    "a == b"
   ]
  },
  {
   "cell_type": "markdown",
   "id": "e0d67677-6719-42aa-bc8e-333dd39ccbaf",
   "metadata": {},
   "source": [
    "what if both objects are lists? "
   ]
  },
  {
   "cell_type": "code",
   "execution_count": 10,
   "id": "487685ab-af9a-43ee-92db-7bef248caba1",
   "metadata": {},
   "outputs": [],
   "source": [
    "x = [1, 2, 3]\n",
    "\n",
    "y = [1, 2, 3]"
   ]
  },
  {
   "cell_type": "code",
   "execution_count": 11,
   "id": "c7525777-315f-4914-8f0e-6092d5e7b021",
   "metadata": {},
   "outputs": [
    {
     "data": {
      "text/plain": [
       "True"
      ]
     },
     "execution_count": 11,
     "metadata": {},
     "output_type": "execute_result"
    }
   ],
   "source": [
    "x == y"
   ]
  },
  {
   "cell_type": "code",
   "execution_count": 12,
   "id": "ffe8ffe8-4d04-4611-a5ac-8d158e88f53f",
   "metadata": {},
   "outputs": [
    {
     "data": {
      "text/plain": [
       "False"
      ]
     },
     "execution_count": 12,
     "metadata": {},
     "output_type": "execute_result"
    }
   ],
   "source": [
    "id(x) == id (y)"
   ]
  },
  {
   "cell_type": "markdown",
   "id": "bf6dd100-179e-4ae9-aae7-ee3c5d225d7c",
   "metadata": {},
   "source": [
    "It returns False because a list is a mutable object "
   ]
  },
  {
   "cell_type": "markdown",
   "id": "6d9c8101-a6c4-4e8f-94eb-cd6bcf8864b4",
   "metadata": {},
   "source": [
    "* x == y -> \"==\" checks to **values** ( _equivalent_)\n",
    "\n",
    "\n",
    "\n",
    "* id(x) == id(y) - > checks **objects**( _identical_)"
   ]
  },
  {
   "cell_type": "markdown",
   "id": "051f6667-e474-440d-bee3-15aa5d483e0a",
   "metadata": {},
   "source": [
    "### 3.6 `is`"
   ]
  },
  {
   "cell_type": "code",
   "execution_count": 13,
   "id": "3a408414-691e-4161-81fa-338fb7e3e685",
   "metadata": {},
   "outputs": [],
   "source": [
    "a = [1, 2, 3, 4, 5, 6]\n",
    "\n",
    "b = [1, 2, 3, 4, 5, 6]"
   ]
  },
  {
   "cell_type": "code",
   "execution_count": 18,
   "id": "cce823a5-e520-41e4-af23-859ea4f36d2c",
   "metadata": {},
   "outputs": [
    {
     "data": {
      "text/plain": [
       "False"
      ]
     },
     "execution_count": 18,
     "metadata": {},
     "output_type": "execute_result"
    }
   ],
   "source": [
    "# Let's see if a and b are the same object?\n",
    "\n",
    "#identical\n",
    "\n",
    "a is b"
   ]
  },
  {
   "cell_type": "code",
   "execution_count": 15,
   "id": "2ba4887e-25ab-4138-8363-0d3d8224b5cd",
   "metadata": {},
   "outputs": [],
   "source": [
    "s1 = \"computer\"\n",
    "s2 = \"computer\""
   ]
  },
  {
   "cell_type": "code",
   "execution_count": 16,
   "id": "4be1f759-75a4-44a5-b9c3-de116e3e6503",
   "metadata": {},
   "outputs": [
    {
     "data": {
      "text/plain": [
       "True"
      ]
     },
     "execution_count": 16,
     "metadata": {},
     "output_type": "execute_result"
    }
   ],
   "source": [
    "s1 is s2"
   ]
  },
  {
   "cell_type": "code",
   "execution_count": 19,
   "id": "8d257b11-a5d6-4d4c-ab45-0511c419f9e8",
   "metadata": {},
   "outputs": [
    {
     "data": {
      "text/plain": [
       "True"
      ]
     },
     "execution_count": 19,
     "metadata": {},
     "output_type": "execute_result"
    }
   ],
   "source": [
    "#equivalent\n",
    "\n",
    "a == b"
   ]
  },
  {
   "cell_type": "markdown",
   "id": "b3915520-3b00-4e7d-b53c-fa30a6f9fddc",
   "metadata": {},
   "source": [
    "### 3.7 Passing a List as an Argument"
   ]
  },
  {
   "cell_type": "markdown",
   "id": "6e60a96f-df5b-4495-ba28-afce93966e00",
   "metadata": {},
   "source": [
    "You can send any data types of argument to a function (string, number, list, dictionary etc.), and it will be treated as the same data type inside the function."
   ]
  },
  {
   "cell_type": "code",
   "execution_count": 22,
   "id": "73489f87-2c34-4790-9fd8-f82da9941fb1",
   "metadata": {},
   "outputs": [
    {
     "name": "stdout",
     "output_type": "stream",
     "text": [
      "before the function:  ['a', 'b', 'c']\n",
      "after the function:  ['a', 'A', 'b', 'B', 'c', 'C']\n"
     ]
    }
   ],
   "source": [
    "#mutating\n",
    "\n",
    "letters = [\"a\", \"b\", \"c\"]\n",
    "\n",
    "print(\"before the function: \", letters)\n",
    "\n",
    "def adds_capital_letters(letter_list):\n",
    "\n",
    "    letter_list.insert(1,\"A\")\n",
    "    letter_list.insert(3,\"B\")\n",
    "    letter_list.insert(5,\"C\")\n",
    "    \n",
    "adds_capital_letters(letters)\n",
    "\n",
    "print(\"after the function: \", letters)\n"
   ]
  },
  {
   "cell_type": "markdown",
   "id": "578f93a5-bf22-4ecd-a07a-c2f9226e64ee",
   "metadata": {},
   "source": [
    "When passing a **Non-Primitive Types (list, tuple, set, dict)** as an argument:\n",
    "\n",
    "Pass By Reference -> passing their addresses"
   ]
  },
  {
   "cell_type": "markdown",
   "id": "ce86c71f-50f7-4eb6-b740-35f7b171b5b0",
   "metadata": {},
   "source": [
    "### 3.8 Matrix Operations"
   ]
  },
  {
   "cell_type": "markdown",
   "id": "0f9595a1-d23e-4184-9076-3791c4edddb1",
   "metadata": {},
   "source": [
    "In Python, a matris equals a **nested-list**\n",
    "\n",
    "    1 2 3\n",
    "       \n",
    "    4 5 6\n",
    "\n",
    "    7 8 9"
   ]
  },
  {
   "cell_type": "code",
   "execution_count": 24,
   "id": "75021d36-1a13-44f7-b987-dcc1ad8a9e43",
   "metadata": {},
   "outputs": [
    {
     "data": {
      "text/plain": [
       "[[1, 2, 3], [4, 5, 6], [7, 8, 9]]"
      ]
     },
     "execution_count": 24,
     "metadata": {},
     "output_type": "execute_result"
    }
   ],
   "source": [
    "A = [[1,2,3], [4,5,6], [7,8,9]]\n",
    "A"
   ]
  },
  {
   "cell_type": "code",
   "execution_count": 25,
   "id": "5ed10224-b54f-4ed7-b597-aff8e6dee17a",
   "metadata": {},
   "outputs": [
    {
     "data": {
      "text/plain": [
       "[4, 5, 6]"
      ]
     },
     "execution_count": 25,
     "metadata": {},
     "output_type": "execute_result"
    }
   ],
   "source": [
    "A[1]"
   ]
  },
  {
   "cell_type": "code",
   "execution_count": 26,
   "id": "e027ee94-a05e-42d2-87d1-d943504e4415",
   "metadata": {},
   "outputs": [],
   "source": [
    "B = [[10,20,30], [40,50,60], [70,80,90]]"
   ]
  },
  {
   "cell_type": "markdown",
   "id": "455ea69a-d57e-4061-b87f-065fcaadc242",
   "metadata": {},
   "source": [
    "### 3.8.1 Addition in Matrices"
   ]
  },
  {
   "cell_type": "code",
   "execution_count": 28,
   "id": "3b95eacd-b35b-4caf-bcfb-96084c9d61d5",
   "metadata": {},
   "outputs": [
    {
     "data": {
      "text/plain": [
       "[[1, 2, 3], [4, 5, 6], [7, 8, 9], [10, 20, 30], [40, 50, 60], [70, 80, 90]]"
      ]
     },
     "execution_count": 28,
     "metadata": {},
     "output_type": "execute_result"
    }
   ],
   "source": [
    "C = A + B\n",
    "    \n",
    "C"
   ]
  },
  {
   "cell_type": "markdown",
   "id": "44b47c08-78e6-451f-a5eb-942364616603",
   "metadata": {},
   "source": [
    "**But we want to sum the element value of the matrices:**"
   ]
  },
  {
   "cell_type": "code",
   "execution_count": 29,
   "id": "025a201a-31a3-4853-bfdd-0a87efd7cc9b",
   "metadata": {},
   "outputs": [],
   "source": [
    "C = [[0,0,0],\n",
    "     [0,0,0],\n",
    "     [0,0,0]]"
   ]
  },
  {
   "cell_type": "code",
   "execution_count": 30,
   "id": "b5ddaaaf-5eb6-45f4-9b66-d64ab4c65a41",
   "metadata": {},
   "outputs": [
    {
     "name": "stdout",
     "output_type": "stream",
     "text": [
      "[[11, 22, 33], [44, 55, 66], [77, 88, 99]]\n"
     ]
    }
   ],
   "source": [
    "for i in range(len(A)):\n",
    "    \n",
    "    for j in range(len(B)):\n",
    "        \n",
    "        C[i][j] = A[i][j] + B[i][j]\n",
    "        \n",
    "print(C)\n",
    "    "
   ]
  },
  {
   "cell_type": "code",
   "execution_count": null,
   "id": "92335b0e-fc34-49cc-bc6c-b5a19736b3df",
   "metadata": {},
   "outputs": [],
   "source": []
  }
 ],
 "metadata": {
  "kernelspec": {
   "display_name": "Python 3 (ipykernel)",
   "language": "python",
   "name": "python3"
  },
  "language_info": {
   "codemirror_mode": {
    "name": "ipython",
    "version": 3
   },
   "file_extension": ".py",
   "mimetype": "text/x-python",
   "name": "python",
   "nbconvert_exporter": "python",
   "pygments_lexer": "ipython3",
   "version": "3.9.12"
  }
 },
 "nbformat": 4,
 "nbformat_minor": 5
}
