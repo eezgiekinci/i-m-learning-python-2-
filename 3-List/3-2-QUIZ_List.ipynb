{
 "cells": [
  {
   "cell_type": "markdown",
   "id": "civilian-cross",
   "metadata": {},
   "source": [
    "## QUIZ - List"
   ]
  },
  {
   "cell_type": "markdown",
   "id": "upset-marks",
   "metadata": {},
   "source": [
    "**Q 1:**\n",
    "\n",
    "Define a function which takes a parameter as a list.\n",
    "\n",
    "This function adds all the elements of the given list and returns the grand total.\n",
    "\n",
    "<pre>\n",
    "Example:\n",
    "a_list = [1, 2, 3, 4, 5] \n",
    "sum_list(a_list) -> 15\n",
    "</pre>"
   ]
  },
  {
   "cell_type": "code",
   "execution_count": 1,
   "id": "central-cornwall",
   "metadata": {},
   "outputs": [],
   "source": [
    "# S1:\n",
    "\n",
    "def sum_list(number_list):\n",
    "    \n",
    "    total = 0\n",
    "    \n",
    "    for i in number_list:\n",
    "        \n",
    "        total += i\n",
    "        \n",
    "    return total\n",
    "\n",
    "\n",
    "    "
   ]
  },
  {
   "cell_type": "code",
   "execution_count": 2,
   "id": "finite-aberdeen",
   "metadata": {},
   "outputs": [
    {
     "name": "stdout",
     "output_type": "stream",
     "text": [
      "15\n"
     ]
    }
   ],
   "source": [
    "n_list = [1, 2, 3, 4, 5] \n",
    "\n",
    "total_result = sum_list(n_list)\n",
    "\n",
    "print(total_result)"
   ]
  },
  {
   "cell_type": "code",
   "execution_count": 3,
   "id": "assisted-lightning",
   "metadata": {},
   "outputs": [
    {
     "name": "stdout",
     "output_type": "stream",
     "text": [
      "600\n"
     ]
    }
   ],
   "source": [
    "n_list = [10, 20, 30, 40, 500] \n",
    "\n",
    "total_result = sum_list(n_list)\n",
    "\n",
    "print(total_result)"
   ]
  },
  {
   "cell_type": "markdown",
   "id": "magnetic-accessory",
   "metadata": {},
   "source": [
    "---"
   ]
  },
  {
   "cell_type": "markdown",
   "id": "daily-language",
   "metadata": {},
   "source": [
    "**Q 2:**\n",
    "\n",
    "Define a function which takes a parameter as a nested list.\n",
    "\n",
    "The function calculate and return the grand total, including all the inner elements of this nested list.\n",
    "\n",
    "<pre>\n",
    "Example: <br>\n",
    "a_list = [[5, 8], [1, 4, 7], [10], 3] <br>\n",
    "two_level_sum(a_list) -> 38\n",
    "</pre>"
   ]
  },
  {
   "cell_type": "code",
   "execution_count": 4,
   "id": "sticky-passion",
   "metadata": {},
   "outputs": [],
   "source": [
    "# S 2:\n",
    "\n",
    "def two_level_sum(t_list):\n",
    "    \n",
    "    total = 0\n",
    "    \n",
    "    for element in t_list:\n",
    "        \n",
    "        #control of type\n",
    "        \n",
    "        if type(element) == list:\n",
    "        \n",
    "            for i in element:\n",
    "            \n",
    "                total += i\n",
    "                \n",
    "        elif type(element) == int:\n",
    "            \n",
    "            total += element\n",
    "            \n",
    "    return total\n",
    "\n",
    "    "
   ]
  },
  {
   "cell_type": "code",
   "execution_count": 5,
   "id": "cleared-monaco",
   "metadata": {},
   "outputs": [
    {
     "name": "stdout",
     "output_type": "stream",
     "text": [
      "38\n"
     ]
    }
   ],
   "source": [
    "t_list = [[5, 8], [1, 4, 7], [10], 3]\n",
    "\n",
    "total_result = two_level_sum(t_list)\n",
    "\n",
    "print(total_result)"
   ]
  },
  {
   "cell_type": "code",
   "execution_count": 6,
   "id": "handy-mystery",
   "metadata": {},
   "outputs": [
    {
     "name": "stdout",
     "output_type": "stream",
     "text": [
      "38\n"
     ]
    }
   ],
   "source": [
    "t_list = [[5, 8], [1, 4, 7], [10], 3, 'a']\n",
    "\n",
    "total_result = two_level_sum(t_list)\n",
    "\n",
    "print(total_result)"
   ]
  },
  {
   "cell_type": "code",
   "execution_count": 7,
   "id": "aquatic-compromise",
   "metadata": {},
   "outputs": [
    {
     "name": "stdout",
     "output_type": "stream",
     "text": [
      "42\n"
     ]
    }
   ],
   "source": [
    "t_list = [[1, 2, 3], [1, 2], 3, [10, 20]]\n",
    "\n",
    "total_result = two_level_sum(t_list)\n",
    "\n",
    "print(total_result)"
   ]
  },
  {
   "cell_type": "markdown",
   "id": "british-tuning",
   "metadata": {},
   "source": [
    "---"
   ]
  },
  {
   "cell_type": "markdown",
   "id": "after-alexander",
   "metadata": {},
   "source": [
    "**Q 3:**\n",
    "\n",
    "The function we wrote in Question 2 could only calculate a 2-level nested list. Now let each level calculate the nested list.\n",
    "\n",
    "Let the function calculate and return the grand total, including all the inner elements of this nested list.\n",
    "\n",
    "Example: <br>\n",
    "\n",
    "<pre>\n",
    "a_list = [[5, 8], [1, 4, 7, [8, 2]], [10, [-1, 2]], 3] <br>\n",
    "nested_sum(a_list) -> 49\n",
    "\n",
    "</pre>\n"
   ]
  },
  {
   "cell_type": "code",
   "execution_count": 11,
   "id": "inner-toronto",
   "metadata": {},
   "outputs": [],
   "source": [
    "# s 3:\n",
    "def nested_sum(ns_list):\n",
    "    \n",
    "    total = 0\n",
    "    \n",
    "    for element in ns_list:\n",
    "        \n",
    "        if type(element) == int:\n",
    "            \n",
    "            total += element\n",
    "            \n",
    "        elif type(element) == list:\n",
    "            \n",
    "            #recursion\n",
    "            \n",
    "            total += nested_sum(element)\n",
    "            \n",
    "    return total\n",
    "\n"
   ]
  },
  {
   "cell_type": "code",
   "execution_count": 12,
   "id": "distinguished-turtle",
   "metadata": {},
   "outputs": [
    {
     "name": "stdout",
     "output_type": "stream",
     "text": [
      "49\n"
     ]
    }
   ],
   "source": [
    "ns_list = [[5, 8], [1, 4, 7, [8, 2]], [10, [-1, 2]], 3]\n",
    "\n",
    "result_total = nested_sum(ns_list)\n",
    "\n",
    "print(result_total)"
   ]
  },
  {
   "cell_type": "code",
   "execution_count": 13,
   "id": "handy-remark",
   "metadata": {},
   "outputs": [
    {
     "name": "stdout",
     "output_type": "stream",
     "text": [
      "57\n"
     ]
    }
   ],
   "source": [
    "ns_list = [[-5, [9, 1, [6, 2]], 8], [1, 4, 7, [8, 2]], [10, [-1, 2]], 3]\n",
    "\n",
    "result_total = nested_sum(ns_list)\n",
    "\n",
    "print(result_total)"
   ]
  },
  {
   "cell_type": "markdown",
   "id": "existing-anaheim",
   "metadata": {},
   "source": [
    "---"
   ]
  },
  {
   "cell_type": "markdown",
   "id": "dominant-penny",
   "metadata": {},
   "source": [
    "**Q 4:**\n",
    "\n",
    "Define a function which takes a parameter as a list.\n",
    "\n",
    "Our function will calculate the square of each element in the list and add it to a new list. The result will also return this new list. In other words, it will give a new list that keeps the square of the elements in the list that comes as a parameter.\n",
    "\n",
    "Example: <br>\n",
    "\n",
    "<pre>\n",
    "a = [1,2,3,4,5] <br>\n",
    "square(a) -> [1, 4, 9, 16, 25]\n",
    "</pre>"
   ]
  },
  {
   "cell_type": "code",
   "execution_count": 14,
   "id": "spanish-strategy",
   "metadata": {},
   "outputs": [],
   "source": [
    "# S 4:\n",
    "\n",
    "def square(s_list):\n",
    "    \n",
    "    new_list = []\n",
    "    \n",
    "    for i,element in enumerate(s_list):\n",
    "        \n",
    "        new_list.append(element ** 2)\n",
    "    \n",
    "    return new_list\n"
   ]
  },
  {
   "cell_type": "code",
   "execution_count": 15,
   "id": "alternate-literacy",
   "metadata": {},
   "outputs": [
    {
     "name": "stdout",
     "output_type": "stream",
     "text": [
      "[1, 4, 9, 16, 25]\n"
     ]
    }
   ],
   "source": [
    "s_list = [1,2,3,4,5]\n",
    "\n",
    "result = square(s_list)\n",
    "\n",
    "print(result)"
   ]
  },
  {
   "cell_type": "markdown",
   "id": "abstract-cause",
   "metadata": {},
   "source": [
    "---"
   ]
  },
  {
   "cell_type": "markdown",
   "id": "official-calvin",
   "metadata": {},
   "source": [
    "**Q 5:**\n",
    "\n",
    "Define a function which takes a parameter as a list.\n",
    "\n",
    "Our function will square the elements starting from the top of the list. It will collect the squares and create a new list. Each element of the new list will be the sum of the squares up to that index in the incoming list, which is the parameter.\n",
    "\n",
    "So, the 4th element in the new list is 1-2-3-4 in the incoming list. will be the sum of the squares of the elements.\n",
    "\n",
    "So it will go to the end. And it will return the new list formed in this way.\n",
    "<pre>\n",
    "Example:\n",
    "a = [1,2,3,4,5] \n",
    "sum_of_squares(a) -> [1, 5, 15, 37, 83]\n",
    "</pre>\n",
    "\n",
    "**Clue:**\n",
    "* You can use the **sum_list** function you wrote in Question 1"
   ]
  },
  {
   "cell_type": "code",
   "execution_count": 16,
   "id": "attended-india",
   "metadata": {},
   "outputs": [],
   "source": [
    "# S 5:\n",
    "def sum_of_squares(s_list):\n",
    "    \n",
    "    new_list = []\n",
    "    \n",
    "    for element in s_list:\n",
    "        \n",
    "        # Sum of new list elements. using sum_list function from Q1\n",
    "        \n",
    "        sum_of_new_list = sum_list(new_list)\n",
    "        \n",
    "        # adding the square of the current element\n",
    "        \n",
    "        new_sum = sum_of_new_list + element**2\n",
    "        \n",
    "        # adding new_sum to new_list\n",
    "        \n",
    "        new_list.append(new_sum)\n",
    "    \n",
    "    return new_list\n",
    "\n"
   ]
  },
  {
   "cell_type": "code",
   "execution_count": 17,
   "id": "accessible-bolivia",
   "metadata": {},
   "outputs": [
    {
     "name": "stdout",
     "output_type": "stream",
     "text": [
      "[1, 5, 15]\n"
     ]
    }
   ],
   "source": [
    "s_list = [1,2,3]\n",
    "\n",
    "total = sum_of_squares(s_list)\n",
    "\n",
    "print(total)"
   ]
  },
  {
   "cell_type": "code",
   "execution_count": 18,
   "id": "elementary-instrument",
   "metadata": {},
   "outputs": [
    {
     "name": "stdout",
     "output_type": "stream",
     "text": [
      "[1, 5, 15, 37, 83]\n"
     ]
    }
   ],
   "source": [
    "s_list = [1,2,3,4,5]\n",
    "\n",
    "total = sum_of_squares(s_list)\n",
    "\n",
    "print(total)"
   ]
  },
  {
   "cell_type": "markdown",
   "id": "uniform-exposure",
   "metadata": {},
   "source": [
    "---"
   ]
  },
  {
   "cell_type": "markdown",
   "id": "standing-journal",
   "metadata": {},
   "source": [
    "**Q 6:**\n",
    "\n",
    "Write a function that returns the difference between the sum of the odd indices (1,3,5...) and the sum of the even indices (0,2,4...) of the list.\n",
    "\n",
    "\n",
    "<pre>\n",
    "    a = [1,2,3,4,5,6]\n",
    "    odds_sum = 2 + 4 + 6 = 12\n",
    "    even_sum= 1 + 3 + 5 = 9\n",
    "    diff(a) -> 12 - 9 = 3\n",
    "</pre>\n",
    "\n",
    "**Clues:**\n",
    "* index starts from zero\n",
    "* use only lists and indexes.\n",
    "* Do not use loops inside this function.\n",
    "* Use the sum() function in question 1."
   ]
  },
  {
   "cell_type": "code",
   "execution_count": 19,
   "id": "public-consumption",
   "metadata": {},
   "outputs": [],
   "source": [
    "def sum_l(number_list):\n",
    "    \n",
    "    total = 0\n",
    "    \n",
    "    for i in number_list:\n",
    "        \n",
    "        total += i\n",
    "        \n",
    "    return total"
   ]
  },
  {
   "cell_type": "code",
   "execution_count": 23,
   "id": "royal-house",
   "metadata": {},
   "outputs": [],
   "source": [
    "# S 6:\n",
    "\n",
    "\n",
    "def calculate_difference(a_list):\n",
    "    \n",
    "    #list of odds\n",
    "    \n",
    "    n_odds = a_list[1::2]\n",
    "    \n",
    "    #sum of odds\n",
    "    \n",
    "    sum_of_odds = sum_l(n_odds)\n",
    "    \n",
    "    #list of evens\n",
    "    \n",
    "    n_evens = a_list[::2]\n",
    "    \n",
    "    #sum of evens\n",
    "    \n",
    "    sum_of_evens = sum_l(n_evens)\n",
    "    \n",
    "    #calculate the difference\n",
    "    \n",
    "    diff = sum_of_odds - sum_of_evens\n",
    "    \n",
    "    return diff\n",
    "\n",
    "\n",
    "\n"
   ]
  },
  {
   "cell_type": "code",
   "execution_count": 24,
   "id": "aggressive-springfield",
   "metadata": {},
   "outputs": [
    {
     "name": "stdout",
     "output_type": "stream",
     "text": [
      "3\n"
     ]
    }
   ],
   "source": [
    "a_list = [1,2,3,4,5,6]\n",
    "\n",
    "total = calculate_difference(a_list)\n",
    "\n",
    "print(total)"
   ]
  },
  {
   "cell_type": "code",
   "execution_count": 25,
   "id": "every-zoning",
   "metadata": {},
   "outputs": [
    {
     "name": "stdout",
     "output_type": "stream",
     "text": [
      "0\n"
     ]
    }
   ],
   "source": [
    "a_list = [10,10,30,30,500,500]\n",
    "\n",
    "diff = calculate_difference(a_list)\n",
    "\n",
    "print(diff)\n"
   ]
  },
  {
   "cell_type": "markdown",
   "id": "brown-extreme",
   "metadata": {},
   "source": [
    "---"
   ]
  },
  {
   "cell_type": "markdown",
   "id": "raising-baseball",
   "metadata": {},
   "source": [
    "**Q 7:**\n",
    "\n",
    "Define a function that trims the list given to it as a parameter. Trimming means deleting the first and last element of the array.\n",
    "\n",
    "<pre>    \n",
    "    a = [1,2,3,4,5,6,7]\n",
    "    print('before:', a)\n",
    "    kirpan(a)\n",
    "    print('after:', a)\n",
    "</pre>"
   ]
  },
  {
   "cell_type": "code",
   "execution_count": 26,
   "id": "inside-introduction",
   "metadata": {},
   "outputs": [],
   "source": [
    "# S 7:\n",
    "\n",
    "def removes_elements(a_list):\n",
    "    \n",
    "    #remove the first element\n",
    "    a_list.pop(0)\n",
    "    \n",
    "    \n",
    "    #remove the last element\n",
    "    a_list.pop()\n",
    "\n"
   ]
  },
  {
   "cell_type": "code",
   "execution_count": 27,
   "id": "widespread-corporation",
   "metadata": {},
   "outputs": [
    {
     "name": "stdout",
     "output_type": "stream",
     "text": [
      "before the function: [1, 2, 3, 4, 5, 6, 7]\n",
      "after the function: [2, 3, 4, 5, 6]\n"
     ]
    }
   ],
   "source": [
    "a_list = [1,2,3,4,5,6,7]\n",
    "\n",
    "print('before the function:', a_list)\n",
    "\n",
    "removes_elements(a_list)\n",
    "\n",
    "print('after the function:', a_list)\n"
   ]
  },
  {
   "cell_type": "markdown",
   "id": "instant-yellow",
   "metadata": {},
   "source": [
    "---"
   ]
  },
  {
   "cell_type": "markdown",
   "id": "simple-world",
   "metadata": {},
   "source": [
    "**Q 8:**\n",
    "\n",
    "Define a function that requests a list and sorting type as parameters.\n",
    "\n",
    "The function will take a boolean parameter along with the list. The default value of this parameter will be False.\n",
    "\n",
    "* If the boolean parameter is True, the function will sort the list from largest to smallest,\n",
    "* If the boolean parameter is False, the function will sort the list from smallest to largest\n",
    "\n",
    "\n",
    "Notes:\n",
    "* Use the standard functions of the Python List structure for sorting\n",
    "* Do not use loops\n",
    "* The function does not replace the original list"
   ]
  },
  {
   "cell_type": "code",
   "execution_count": 28,
   "id": "continent-hamburg",
   "metadata": {},
   "outputs": [],
   "source": [
    "# S 8:\n",
    "\n",
    "# the first solution\n",
    "\n",
    "def sort_a_list(s_list, a = False):\n",
    "    \n",
    "    sorted_list = []\n",
    "    \n",
    "    if a:\n",
    "        \n",
    "        sorted_list = sorted(s_list, reverse = True)\n",
    "        \n",
    "    else:\n",
    "        sorted_list = sorted(s_list)\n",
    "    \n",
    "    return sorted_list\n",
    "        \n",
    "    \n"
   ]
  },
  {
   "cell_type": "code",
   "execution_count": 29,
   "id": "owned-happiness",
   "metadata": {},
   "outputs": [
    {
     "name": "stdout",
     "output_type": "stream",
     "text": [
      "list: [12, 4, 2, 1, 6, 3, 45]\n",
      "sorted - increasing [1, 2, 3, 4, 6, 12, 45]\n",
      "sorted - decreasing [45, 12, 6, 4, 3, 2, 1]\n",
      "after function -list: [12, 4, 2, 1, 6, 3, 45]\n"
     ]
    }
   ],
   "source": [
    "a_list = [12, 4, 2, 1, 6, 3, 45]\n",
    "print('list:', a_list)\n",
    "\n",
    "sorted_list1 = sort_a_list(a_list, False)\n",
    "print('sorted - increasing', sorted_list1)\n",
    "\n",
    "sorted_list2 = sort_a_list(a_list,True)\n",
    "print('sorted - decreasing', sorted_list2)\n",
    "      \n",
    "print('after function -list:', a_list)"
   ]
  },
  {
   "cell_type": "code",
   "execution_count": 30,
   "id": "urban-pulse",
   "metadata": {},
   "outputs": [],
   "source": [
    "# S 8:\n",
    "\n",
    "# the second solution\n",
    "\n",
    "def sort_a_list1(s_list, a = False):\n",
    "    \n",
    "    return sorted(s_list, reverse =a)\n",
    "    "
   ]
  },
  {
   "cell_type": "code",
   "execution_count": 31,
   "id": "regulation-travel",
   "metadata": {},
   "outputs": [
    {
     "name": "stdout",
     "output_type": "stream",
     "text": [
      "list: [12, 4, 2, 1, 6, 3, 45]\n",
      "sorted - increasing [1, 2, 3, 4, 6, 12, 45]\n",
      "sorted - decreasing [45, 12, 6, 4, 3, 2, 1]\n",
      "after function -list: [12, 4, 2, 1, 6, 3, 45]\n"
     ]
    }
   ],
   "source": [
    "a_list = [12, 4, 2, 1, 6, 3, 45]\n",
    "print('list:', a_list)\n",
    "\n",
    "sorted_list1 = sort_a_list1(a_list, False)\n",
    "print('sorted - increasing', sorted_list1)\n",
    "\n",
    "sorted_list2 = sort_a_list1(a_list,True)\n",
    "print('sorted - decreasing', sorted_list2)\n",
    "      \n",
    "print('after function -list:', a_list)"
   ]
  },
  {
   "cell_type": "markdown",
   "id": "fiscal-yorkshire",
   "metadata": {},
   "source": [
    "---"
   ]
  },
  {
   "cell_type": "markdown",
   "id": "copyrighted-mercy",
   "metadata": {},
   "source": [
    "**Q 9:**\n",
    "\n",
    "Consecutive numbers in Mathematics are actually a list.\n",
    "\n",
    "The **Gauss Method** is a method that gives the sum of consecutive numbers. And it works like this:\n",
    "* First writes the list from smallest to largest\n",
    "* Then write from largest to smallest\n",
    "* It collects these two lists one under the other on an index basis.\n",
    "* Divides the value it finds by 2 (because he wrote the list twice)\n",
    "* The Gauss Method thus finds the sum of consecutive numbers\n",
    "\n",
    "Example: Sum of numbers from 1 to 10:\n",
    "\n",
    "<pre>\n",
    "1   2   3   4   5   6   7   8   9   10\n",
    "10  9   8   7   6   5   4   3   2   1\n",
    "+   +   +   +   +   +   +   +   +   +\n",
    "11  11  11  11  11  11  11  11  11  11  \n",
    "\n",
    "total = 11 * 10\n",
    "result = total / 2\n",
    "</pre>\n",
    "\n",
    "The function takes the start value, end value and increment amount as parameters.\n",
    "\n",
    "default values are as follows:\n",
    "* start -> 1\n",
    "* end -> 100\n",
    "* inc -> 2\n",
    "\n",
    "**To Do:**\n",
    "* Generate the list with the range() function\n"
   ]
  },
  {
   "cell_type": "code",
   "execution_count": 32,
   "id": "scenic-darkness",
   "metadata": {},
   "outputs": [],
   "source": [
    "# S 9:\n",
    "\n",
    "# the first solution\n",
    "\n",
    "def gauss(i_value =1, e_value = 100, inc =2):\n",
    "    \n",
    "    #creat a list\n",
    "    \n",
    "    a_list = list(range(i_value, e_value, inc))\n",
    "    \n",
    "    #reverse the list\n",
    "    reverse_list = a_list[::-1]\n",
    "    \n",
    "    # sum\n",
    "    \n",
    "    total = 0\n",
    "    \n",
    "    for i in range(len(a_list)):\n",
    "        \n",
    "        total1 = a_list[i] + reverse_list[i]\n",
    "        \n",
    "        total += total1\n",
    "        \n",
    "    result = total / 2\n",
    "    \n",
    "    return result\n",
    "    \n",
    "    \n",
    "    \n",
    "    \n",
    "       \n",
    "    "
   ]
  },
  {
   "cell_type": "code",
   "execution_count": 33,
   "id": "instructional-display",
   "metadata": {},
   "outputs": [
    {
     "data": {
      "text/plain": [
       "45.0"
      ]
     },
     "execution_count": 33,
     "metadata": {},
     "output_type": "execute_result"
    }
   ],
   "source": [
    "result1 = gauss(1, 10, 1)\n",
    "result1"
   ]
  },
  {
   "cell_type": "code",
   "execution_count": 34,
   "id": "selected-emergency",
   "metadata": {},
   "outputs": [
    {
     "data": {
      "text/plain": [
       "1650.0"
      ]
     },
     "execution_count": 34,
     "metadata": {},
     "output_type": "execute_result"
    }
   ],
   "source": [
    "result2 = gauss(2, 100, 3)\n",
    "result2"
   ]
  },
  {
   "cell_type": "code",
   "execution_count": 35,
   "id": "bearing-scientist",
   "metadata": {},
   "outputs": [],
   "source": [
    "# the second solution\n",
    "\n",
    "def gauss1(i_value =1, e_value = 100, inc =2):\n",
    "    \n",
    "    #creat a list\n",
    "    \n",
    "    a_list = list(range(i_value, e_value, inc))\n",
    "    \n",
    "    total = 0\n",
    "    \n",
    "    for i in range(len(a_list)):\n",
    "        \n",
    "        total1 = a_list[i] + a_list[-i-1]\n",
    "        \n",
    "        total += total1\n",
    "        \n",
    "    return total / 2\n",
    "    \n",
    "    "
   ]
  },
  {
   "cell_type": "code",
   "execution_count": 36,
   "id": "proper-allocation",
   "metadata": {},
   "outputs": [
    {
     "data": {
      "text/plain": [
       "45.0"
      ]
     },
     "execution_count": 36,
     "metadata": {},
     "output_type": "execute_result"
    }
   ],
   "source": [
    "result1 = gauss1(1, 10, 1)\n",
    "result1"
   ]
  },
  {
   "cell_type": "code",
   "execution_count": 37,
   "id": "suffering-membership",
   "metadata": {},
   "outputs": [
    {
     "data": {
      "text/plain": [
       "1650.0"
      ]
     },
     "execution_count": 37,
     "metadata": {},
     "output_type": "execute_result"
    }
   ],
   "source": [
    "result2 = gauss1(2, 100, 3)\n",
    "result2"
   ]
  },
  {
   "cell_type": "markdown",
   "id": "homeless-catch",
   "metadata": {},
   "source": [
    "---"
   ]
  },
  {
   "cell_type": "markdown",
   "id": "careful-night",
   "metadata": {},
   "source": [
    "**Q 10:**\n",
    "\n",
    "Define a function that checks if a given list is in ascending order\n",
    "\n",
    "Return True if the list is in descending order, False otherwise.\n"
   ]
  },
  {
   "cell_type": "code",
   "execution_count": 38,
   "id": "written-vermont",
   "metadata": {},
   "outputs": [],
   "source": [
    "# S 10\n",
    "\n",
    "def descending_order(a_list):\n",
    "    \n",
    "    for i, element1 in enumerate(a_list):\n",
    "        \n",
    "        for j, element2 in enumerate(a_list):\n",
    "            \n",
    "            if j > i:\n",
    "                \n",
    "                if element2 > element1:\n",
    "                    \n",
    "                    return False\n",
    "    return True\n",
    "\n",
    "\n"
   ]
  },
  {
   "cell_type": "code",
   "execution_count": 39,
   "id": "fuzzy-fiber",
   "metadata": {},
   "outputs": [
    {
     "data": {
      "text/plain": [
       "False"
      ]
     },
     "execution_count": 39,
     "metadata": {},
     "output_type": "execute_result"
    }
   ],
   "source": [
    "a_list = [2, 7, 3, 4]\n",
    "descending_order(a_list)"
   ]
  },
  {
   "cell_type": "code",
   "execution_count": 40,
   "id": "cloudy-potato",
   "metadata": {},
   "outputs": [
    {
     "data": {
      "text/plain": [
       "False"
      ]
     },
     "execution_count": 40,
     "metadata": {},
     "output_type": "execute_result"
    }
   ],
   "source": [
    "a_list = [2, 3, 4, 7]\n",
    "descending_order(a_list)"
   ]
  },
  {
   "cell_type": "code",
   "execution_count": 41,
   "id": "fallen-burke",
   "metadata": {},
   "outputs": [
    {
     "data": {
      "text/plain": [
       "True"
      ]
     },
     "execution_count": 41,
     "metadata": {},
     "output_type": "execute_result"
    }
   ],
   "source": [
    "a_list = [7, 4, 3, 2]\n",
    "descending_order(a_list)"
   ]
  },
  {
   "cell_type": "code",
   "execution_count": 42,
   "id": "flying-columbus",
   "metadata": {},
   "outputs": [
    {
     "data": {
      "text/plain": [
       "True"
      ]
     },
     "execution_count": 42,
     "metadata": {},
     "output_type": "execute_result"
    }
   ],
   "source": [
    "a_list = [7, 7, 4, 3, 2, 1, 1]\n",
    "descending_order(a_list)"
   ]
  },
  {
   "cell_type": "code",
   "execution_count": 43,
   "id": "developmental-plenty",
   "metadata": {},
   "outputs": [
    {
     "data": {
      "text/plain": [
       "False"
      ]
     },
     "execution_count": 43,
     "metadata": {},
     "output_type": "execute_result"
    }
   ],
   "source": [
    "a_list = ['a', 'd', 'b', 'c']\n",
    "descending_order(a_list)"
   ]
  },
  {
   "cell_type": "code",
   "execution_count": 44,
   "id": "convenient-person",
   "metadata": {},
   "outputs": [
    {
     "data": {
      "text/plain": [
       "False"
      ]
     },
     "execution_count": 44,
     "metadata": {},
     "output_type": "execute_result"
    }
   ],
   "source": [
    "a_list = ['a', 'b', 'c', 'd']\n",
    "descending_order(a_list)"
   ]
  },
  {
   "cell_type": "code",
   "execution_count": 45,
   "id": "statutory-substitute",
   "metadata": {},
   "outputs": [
    {
     "data": {
      "text/plain": [
       "True"
      ]
     },
     "execution_count": 45,
     "metadata": {},
     "output_type": "execute_result"
    }
   ],
   "source": [
    "a_list = ['d', 'c', 'b', 'a']\n",
    "descending_order(a_list)"
   ]
  },
  {
   "cell_type": "code",
   "execution_count": null,
   "id": "80fae4a0-b836-4a74-858a-10ec72d9e09f",
   "metadata": {},
   "outputs": [],
   "source": []
  }
 ],
 "metadata": {
  "kernelspec": {
   "display_name": "Python 3 (ipykernel)",
   "language": "python",
   "name": "python3"
  },
  "language_info": {
   "codemirror_mode": {
    "name": "ipython",
    "version": 3
   },
   "file_extension": ".py",
   "mimetype": "text/x-python",
   "name": "python",
   "nbconvert_exporter": "python",
   "pygments_lexer": "ipython3",
   "version": "3.9.12"
  }
 },
 "nbformat": 4,
 "nbformat_minor": 5
}
