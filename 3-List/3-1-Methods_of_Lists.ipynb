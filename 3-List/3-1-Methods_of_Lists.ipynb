{
 "cells": [
  {
   "cell_type": "markdown",
   "id": "40c900b6-6f55-4cee-a6ec-11665d13ebc9",
   "metadata": {},
   "source": [
    "## Methods Of Lists\n",
    "\n",
    "There are built-in methods for lists in Pyhton:"
   ]
  },
  {
   "cell_type": "markdown",
   "id": "f4a5c0d5-4f66-4b56-84c5-4dbe8a13b69b",
   "metadata": {},
   "source": [
    "### `append()`  adds a new element at end of list:"
   ]
  },
  {
   "cell_type": "code",
   "execution_count": 6,
   "id": "cc65729f-8792-4c23-bb59-dd76e57e18ff",
   "metadata": {},
   "outputs": [],
   "source": [
    "letters = [\"a\", \"b\", \"c\", \"d\", \"e\"]"
   ]
  },
  {
   "cell_type": "code",
   "execution_count": 7,
   "id": "51a63c5a-47ec-4c1b-8b26-c838ad1fc432",
   "metadata": {},
   "outputs": [
    {
     "data": {
      "text/plain": [
       "['a', 'b', 'c', 'd', 'e', 'f']"
      ]
     },
     "execution_count": 7,
     "metadata": {},
     "output_type": "execute_result"
    }
   ],
   "source": [
    "letters.append(\"f\")\n",
    "letters"
   ]
  },
  {
   "cell_type": "code",
   "execution_count": 8,
   "id": "b7eaf930-708e-444f-89d3-161cab695a97",
   "metadata": {},
   "outputs": [
    {
     "data": {
      "text/plain": [
       "['a', 'b', 'c', 'd', 'e', 'f', 'a', 'x', 't']"
      ]
     },
     "execution_count": 8,
     "metadata": {},
     "output_type": "execute_result"
    }
   ],
   "source": [
    "letters.append(\"a\")\n",
    "letters.append(\"x\")\n",
    "letters.append(\"t\")\n",
    "letters"
   ]
  },
  {
   "cell_type": "markdown",
   "id": "4db8a535-2465-4bcd-b6e7-6d6d8b65a4e0",
   "metadata": {},
   "source": [
    "### `insert()`  inserts the specified value at the specified position:"
   ]
  },
  {
   "cell_type": "code",
   "execution_count": 18,
   "id": "36e88029-1221-4c47-a5e5-4c0b06f9465a",
   "metadata": {},
   "outputs": [
    {
     "name": "stdout",
     "output_type": "stream",
     "text": [
      "--before insert-- ['a', 'b', 'R', 'c', 'd', 'e', 'f', 'a', 'x', 't']\n",
      "--after insert-- ['a', 'b', 'R', 'R', 'c', 'd', 'e', 'f', 'a', 'x', 't']\n"
     ]
    }
   ],
   "source": [
    "print(\"--before insert--\", letters)\n",
    "\n",
    "letters.insert(2,\"R\")\n",
    "\n",
    "print(\"--after insert--\", letters)"
   ]
  },
  {
   "cell_type": "markdown",
   "id": "d75fb1ba-f166-4bae-898e-48b67017e9c7",
   "metadata": {},
   "source": [
    "### `extend()` adds a new list to the list:"
   ]
  },
  {
   "cell_type": "code",
   "execution_count": 10,
   "id": "b0c51045-18f1-4b52-b99f-6c2637134f1b",
   "metadata": {},
   "outputs": [
    {
     "data": {
      "text/plain": [
       "['a', 'e', 'i', 'o', 'u', 'b', 'c', 'd']"
      ]
     },
     "execution_count": 10,
     "metadata": {},
     "output_type": "execute_result"
    }
   ],
   "source": [
    "vowels = [\"a\",\"e\",\"i\",\"o\",\"u\"]\n",
    "\n",
    "consonants = [\"b\",\"c\",\"d\"]\n",
    "\n",
    "vowels.extend(consonants)\n",
    "\n",
    "vowels"
   ]
  },
  {
   "cell_type": "markdown",
   "id": "d52d8a06-9b7a-4af9-803a-f07124ddf572",
   "metadata": {},
   "source": [
    "### `sort()` sorts the list ascending by default:"
   ]
  },
  {
   "cell_type": "code",
   "execution_count": 14,
   "id": "31b0dfde-6037-4634-acbc-1ff7f5a610fe",
   "metadata": {},
   "outputs": [
    {
     "data": {
      "text/plain": [
       "['Ford', 'BMW', 'Volvo', 'Mercedes']"
      ]
     },
     "execution_count": 14,
     "metadata": {},
     "output_type": "execute_result"
    }
   ],
   "source": [
    "cars = [\"Ford\", \"BMW\", \"Volvo\", \"Mercedes\"]\n",
    "cars"
   ]
  },
  {
   "cell_type": "code",
   "execution_count": 16,
   "id": "d21b800f-0dbc-41fe-adcd-aa9faecde59b",
   "metadata": {},
   "outputs": [
    {
     "data": {
      "text/plain": [
       "['BMW', 'Ford', 'Mercedes', 'Volvo']"
      ]
     },
     "execution_count": 16,
     "metadata": {},
     "output_type": "execute_result"
    }
   ],
   "source": [
    "cars.sort()\n",
    "cars"
   ]
  },
  {
   "cell_type": "markdown",
   "id": "07725528-ac50-466f-9cd3-699e6534b0b7",
   "metadata": {},
   "source": [
    "* The direction of the order can be changed with the reverse parameter:\n",
    "\n",
    "* reverse=True\n",
    "\n",
    "* default -> reverse = False"
   ]
  },
  {
   "cell_type": "code",
   "execution_count": 17,
   "id": "621636be-6f93-45f7-ba70-9dee5bdc5586",
   "metadata": {},
   "outputs": [
    {
     "data": {
      "text/plain": [
       "['Volvo', 'Mercedes', 'Ford', 'BMW']"
      ]
     },
     "execution_count": 17,
     "metadata": {},
     "output_type": "execute_result"
    }
   ],
   "source": [
    "cars.sort(reverse=True)\n",
    "cars"
   ]
  },
  {
   "cell_type": "markdown",
   "id": "7135e077-5441-4ff0-b72d-0d426b5aa86b",
   "metadata": {},
   "source": [
    "### `sorted()` returns a sorted list of the specified iterable object:"
   ]
  },
  {
   "cell_type": "code",
   "execution_count": 19,
   "id": "638685c6-d208-4542-b0f4-198af4a7eec6",
   "metadata": {},
   "outputs": [
    {
     "data": {
      "text/plain": [
       "[4, 10, -8, 3.2]"
      ]
     },
     "execution_count": 19,
     "metadata": {},
     "output_type": "execute_result"
    }
   ],
   "source": [
    "a = [4, 10 , -8 , 3.2]\n",
    "a"
   ]
  },
  {
   "cell_type": "code",
   "execution_count": 21,
   "id": "c9a21d1b-8e3f-4047-96be-960d75c6cfb6",
   "metadata": {},
   "outputs": [
    {
     "data": {
      "text/plain": [
       "[-8, 3.2, 4, 10]"
      ]
     },
     "execution_count": 21,
     "metadata": {},
     "output_type": "execute_result"
    }
   ],
   "source": [
    "b = sorted(a)\n",
    "b"
   ]
  },
  {
   "cell_type": "code",
   "execution_count": 22,
   "id": "e993a406-eada-4493-8e2b-e0c30c47a5ea",
   "metadata": {},
   "outputs": [
    {
     "data": {
      "text/plain": [
       "[4, 10, -8, 3.2]"
      ]
     },
     "execution_count": 22,
     "metadata": {},
     "output_type": "execute_result"
    }
   ],
   "source": [
    "a"
   ]
  },
  {
   "cell_type": "code",
   "execution_count": 25,
   "id": "1ac448a2-8264-4847-bd61-ad81f506253a",
   "metadata": {},
   "outputs": [
    {
     "data": {
      "text/plain": [
       "[10, 4, 3.2, -8]"
      ]
     },
     "execution_count": 25,
     "metadata": {},
     "output_type": "execute_result"
    }
   ],
   "source": [
    "c = sorted(a, reverse = True)\n",
    "c"
   ]
  },
  {
   "cell_type": "markdown",
   "id": "36331fa1-1884-4e0d-bbac-c4797f1f9fc5",
   "metadata": {},
   "source": [
    "## Deleting Methods"
   ]
  },
  {
   "cell_type": "markdown",
   "id": "b8ba8bbc-c19d-4f5c-8aa4-63f5b7b721dc",
   "metadata": {},
   "source": [
    "### `pop()` removes the element at the specified position:\n",
    "\n",
    "* pop(index)\n",
    "\n",
    "* pop() saves the element."
   ]
  },
  {
   "cell_type": "code",
   "execution_count": 43,
   "id": "f8b93e1d-1912-4448-b0e5-fe906c99926e",
   "metadata": {},
   "outputs": [
    {
     "data": {
      "text/plain": [
       "['x', 'y', 'z', 't', 'k']"
      ]
     },
     "execution_count": 43,
     "metadata": {},
     "output_type": "execute_result"
    }
   ],
   "source": [
    "a = [\"x\", \"y\", \"z\",\"t\",\"k\"]\n",
    "a"
   ]
  },
  {
   "cell_type": "code",
   "execution_count": 33,
   "id": "0c379d01-d141-407b-8a5a-f80d5c0430e7",
   "metadata": {},
   "outputs": [
    {
     "data": {
      "text/plain": [
       "['x', 'y', 't', 'k']"
      ]
     },
     "execution_count": 33,
     "metadata": {},
     "output_type": "execute_result"
    }
   ],
   "source": [
    "deleted = a.pop(2)\n",
    "a"
   ]
  },
  {
   "cell_type": "code",
   "execution_count": 34,
   "id": "345d9f35-f113-469d-9f65-46dbf2755cb6",
   "metadata": {},
   "outputs": [
    {
     "data": {
      "text/plain": [
       "'z'"
      ]
     },
     "execution_count": 34,
     "metadata": {},
     "output_type": "execute_result"
    }
   ],
   "source": [
    "deleted"
   ]
  },
  {
   "cell_type": "code",
   "execution_count": 44,
   "id": "79685d48-9e1b-4d13-947b-c6b2f2523918",
   "metadata": {},
   "outputs": [
    {
     "data": {
      "text/plain": [
       "'k'"
      ]
     },
     "execution_count": 44,
     "metadata": {},
     "output_type": "execute_result"
    }
   ],
   "source": [
    "a.pop(4)"
   ]
  },
  {
   "cell_type": "markdown",
   "id": "328f9ee4-db01-458e-9fc8-d01667b90248",
   "metadata": {},
   "source": [
    "* If there is no given index, pop() deletes the last element:"
   ]
  },
  {
   "cell_type": "code",
   "execution_count": 40,
   "id": "a2fd99a6-b66c-484f-b0e5-a1a2236a9960",
   "metadata": {},
   "outputs": [
    {
     "data": {
      "text/plain": [
       "['x', 'y', 'z', 't', 'k']"
      ]
     },
     "execution_count": 40,
     "metadata": {},
     "output_type": "execute_result"
    }
   ],
   "source": [
    "a = [\"x\", \"y\", \"z\",\"t\",\"k\"]\n",
    "a"
   ]
  },
  {
   "cell_type": "code",
   "execution_count": 41,
   "id": "5e298b6f-3730-41c3-b045-ad89926abe8f",
   "metadata": {},
   "outputs": [
    {
     "data": {
      "text/plain": [
       "['x', 'y', 'z', 't']"
      ]
     },
     "execution_count": 41,
     "metadata": {},
     "output_type": "execute_result"
    }
   ],
   "source": [
    "a.pop()\n",
    "a"
   ]
  },
  {
   "cell_type": "markdown",
   "id": "81719fa8-0aea-4cb2-b62c-97d5ef3fff68",
   "metadata": {},
   "source": [
    "### The `del` keyword is used to delete objects:"
   ]
  },
  {
   "cell_type": "code",
   "execution_count": 45,
   "id": "e3a4ecd6-42b9-4776-a1c6-3504f7a8343c",
   "metadata": {},
   "outputs": [
    {
     "data": {
      "text/plain": [
       "['h', 'j', 'o', 'ge', 'k']"
      ]
     },
     "execution_count": 45,
     "metadata": {},
     "output_type": "execute_result"
    }
   ],
   "source": [
    "s = [\"h\", \"j\",\"o\",\"ge\",\"k\"]\n",
    "s"
   ]
  },
  {
   "cell_type": "code",
   "execution_count": 46,
   "id": "0f25cd7d-e475-44b0-9c04-a0523f89bbc7",
   "metadata": {},
   "outputs": [],
   "source": [
    "del s[3]"
   ]
  },
  {
   "cell_type": "code",
   "execution_count": 47,
   "id": "21eec864-1e18-4657-9df1-1811a7ef5676",
   "metadata": {},
   "outputs": [
    {
     "data": {
      "text/plain": [
       "['h', 'j', 'o', 'k']"
      ]
     },
     "execution_count": 47,
     "metadata": {},
     "output_type": "execute_result"
    }
   ],
   "source": [
    "s"
   ]
  },
  {
   "cell_type": "code",
   "execution_count": 50,
   "id": "eb1c06b1-b75a-4665-9b6e-6dd1035e878a",
   "metadata": {},
   "outputs": [],
   "source": [
    "t = [\"a\",\"b\",\"c\",\"d\",\"e\",\"f\"]\n",
    "\n",
    "del t[1:5]"
   ]
  },
  {
   "cell_type": "code",
   "execution_count": 51,
   "id": "b0ccd0f4-53b6-428b-8f43-c4ed6bffa21b",
   "metadata": {},
   "outputs": [
    {
     "data": {
      "text/plain": [
       "['a', 'f']"
      ]
     },
     "execution_count": 51,
     "metadata": {},
     "output_type": "execute_result"
    }
   ],
   "source": [
    "t"
   ]
  },
  {
   "cell_type": "markdown",
   "id": "f4ddf382-ab63-44c7-98cc-80d683112e6f",
   "metadata": {},
   "source": [
    "### `remove()` takes a single element as an argument and removes it from the list:\n",
    "\n",
    "* remove(element)"
   ]
  },
  {
   "cell_type": "code",
   "execution_count": 52,
   "id": "04f65f78-ec2f-439a-ae26-55378b2d33ed",
   "metadata": {},
   "outputs": [
    {
     "data": {
      "text/plain": [
       "['a', 'b', 'c', 'd', 'e', 'f']"
      ]
     },
     "execution_count": 52,
     "metadata": {},
     "output_type": "execute_result"
    }
   ],
   "source": [
    "t = [\"a\",\"b\",\"c\",\"d\",\"e\",\"f\"]\n",
    "t"
   ]
  },
  {
   "cell_type": "code",
   "execution_count": 53,
   "id": "b766e95c-52b4-4784-939d-1820de954d22",
   "metadata": {},
   "outputs": [],
   "source": [
    "t.remove(\"d\")"
   ]
  },
  {
   "cell_type": "code",
   "execution_count": 54,
   "id": "8aa801e1-1e67-49ef-a796-35cd3ed5be6b",
   "metadata": {},
   "outputs": [
    {
     "data": {
      "text/plain": [
       "['a', 'b', 'c', 'e', 'f']"
      ]
     },
     "execution_count": 54,
     "metadata": {},
     "output_type": "execute_result"
    }
   ],
   "source": [
    "t"
   ]
  },
  {
   "cell_type": "code",
   "execution_count": null,
   "id": "a5257273-a45f-4f44-b508-ef66ce24ebcf",
   "metadata": {},
   "outputs": [],
   "source": []
  }
 ],
 "metadata": {
  "kernelspec": {
   "display_name": "Python 3 (ipykernel)",
   "language": "python",
   "name": "python3"
  },
  "language_info": {
   "codemirror_mode": {
    "name": "ipython",
    "version": 3
   },
   "file_extension": ".py",
   "mimetype": "text/x-python",
   "name": "python",
   "nbconvert_exporter": "python",
   "pygments_lexer": "ipython3",
   "version": "3.9.12"
  }
 },
 "nbformat": 4,
 "nbformat_minor": 5
}
