{
 "cells": [
  {
   "cell_type": "markdown",
   "id": "overhead-jimmy",
   "metadata": {},
   "source": [
    "## 5-1 QUIZ - Tuple"
   ]
  },
  {
   "cell_type": "markdown",
   "id": "dutch-buddy",
   "metadata": {},
   "source": [
    "**Q 1:**\n",
    "\n",
    "Firstly, the function create a tuple with values from 1 to 10. <br>\n",
    "Then add the numbers 11 to 20 to this tuple and return the final form of the tuple.\n",
    "\n",
    "<pre style=\"background: gold;\">\n",
    "Result: (1, 2, 3, 4, 5, 6, 7, 8, 9, 10, 11, 12, 13, 14, 15, 16, 17, 18, 19, 20)\n",
    "</pre>"
   ]
  },
  {
   "cell_type": "code",
   "execution_count": 1,
   "id": "turkish-humidity",
   "metadata": {},
   "outputs": [],
   "source": [
    "# S 1:\n",
    "\n",
    "def create_tup():\n",
    "    \n",
    "    # creating a tuple with values from 1 to 10:\n",
    "    \n",
    "    tup1 = tuple(range(1,11,1))\n",
    "    \n",
    "    # adding numbers from 11 to 20 with for loop and range():\n",
    "      \n",
    "    for t in range(11,21,1):\n",
    "        \n",
    "        # adding value have to be a tuple (t,)\n",
    "        \n",
    "        tup2 = tup1 + (t,)\n",
    "        \n",
    "        tup1 = tup2\n",
    "        \n",
    "    return tup1\n",
    "\n"
   ]
  },
  {
   "cell_type": "code",
   "execution_count": 2,
   "id": "listed-driver",
   "metadata": {},
   "outputs": [
    {
     "data": {
      "text/plain": [
       "(1, 2, 3, 4, 5, 6, 7, 8, 9, 10, 11, 12, 13, 14, 15, 16, 17, 18, 19, 20)"
      ]
     },
     "execution_count": 2,
     "metadata": {},
     "output_type": "execute_result"
    }
   ],
   "source": [
    "create_tup()\n"
   ]
  },
  {
   "cell_type": "markdown",
   "id": "third-chorus",
   "metadata": {},
   "source": [
    "---"
   ]
  },
  {
   "cell_type": "markdown",
   "id": "lightweight-sight",
   "metadata": {},
   "source": [
    "**Q 2:**\n",
    "\n",
    "Define a function that has a tuple as a parameters and changes the tuple to str. return str.\n",
    "\n",
    "<pre style=\"background: gold;\">\n",
    "Parameter:\n",
    "t = ('D', 'e', 'e', 'p', ' ', 'L', 'e', 'a', 'r', 'n', 'i', 'n', 'g')\n",
    "\n",
    "Result: Deep Learning\n",
    "</pre>"
   ]
  },
  {
   "cell_type": "code",
   "execution_count": 7,
   "id": "worse-passing",
   "metadata": {},
   "outputs": [],
   "source": [
    "# S 2.1:\n",
    "\n",
    "def tuple_to_str(tup):\n",
    "    \n",
    "    str1=\" \"\n",
    "\n",
    "    for item in tup:\n",
    "        \n",
    "        str1 =str1 + item\n",
    "    \n",
    "    return str1"
   ]
  },
  {
   "cell_type": "code",
   "execution_count": 8,
   "id": "0ab7a91e-5195-463d-9a7e-66e5f39a33b0",
   "metadata": {},
   "outputs": [
    {
     "data": {
      "text/plain": [
       "' Deep Learning'"
      ]
     },
     "execution_count": 8,
     "metadata": {},
     "output_type": "execute_result"
    }
   ],
   "source": [
    "tup = ('D', 'e', 'e', 'p', ' ', 'L', 'e', 'a', 'r', 'n', 'i', 'n', 'g')\n",
    "tuple_to_str(tup)\n"
   ]
  },
  {
   "cell_type": "code",
   "execution_count": 9,
   "id": "ranking-spank",
   "metadata": {},
   "outputs": [],
   "source": [
    "# S 2.2:\n",
    "\n",
    "def tuple_to_str(tup):\n",
    "    \n",
    "    text = \"\".join(tup)\n",
    "    \n",
    "    return text\n",
    "    "
   ]
  },
  {
   "cell_type": "code",
   "execution_count": 10,
   "id": "4e5996b0-5234-40be-bb25-b976310f33a0",
   "metadata": {},
   "outputs": [
    {
     "data": {
      "text/plain": [
       "'Deep Learning'"
      ]
     },
     "execution_count": 10,
     "metadata": {},
     "output_type": "execute_result"
    }
   ],
   "source": [
    "tup = ('D', 'e', 'e', 'p', ' ', 'L', 'e', 'a', 'r', 'n', 'i', 'n', 'g')\n",
    "tuple_to_str(tup)"
   ]
  },
  {
   "cell_type": "markdown",
   "id": "substantial-bolivia",
   "metadata": {},
   "source": [
    "---"
   ]
  },
  {
   "cell_type": "markdown",
   "id": "southeast-matter",
   "metadata": {},
   "source": [
    "**Q 3:**\n",
    "\n",
    "Define a function that converts a String given as a parameter to a List and then this List to a Tuple.\n",
    "\n",
    "\n",
    "**to-do:**\n",
    "\n",
    "    * list()\n",
    "    * tuple()\n",
    "    \n",
    "<pre style=\"background: gold;\">\n",
    "Parameter:\n",
    "father_of_python = 'Guido van Rossum'\n",
    "\n",
    "Result: ('G', 'u', 'i', 'd', 'o', ' ', 'v', 'a', 'n', ' ', 'R', 'o', 's', 's', 'u', 'm')\n",
    "</pre>"
   ]
  },
  {
   "cell_type": "code",
   "execution_count": 13,
   "id": "improved-insulation",
   "metadata": {},
   "outputs": [],
   "source": [
    "# S 3:\n",
    "\n",
    "def str_list_tup(text):\n",
    "    \n",
    "    # convert str to list:\n",
    "    \n",
    "    list1 = list(text)\n",
    "    \n",
    "    # convert list to tuple:\n",
    "    \n",
    "    tup1 = tuple(list1)\n",
    "    \n",
    "    return tup1"
   ]
  },
  {
   "cell_type": "code",
   "execution_count": 15,
   "id": "electronic-seafood",
   "metadata": {},
   "outputs": [
    {
     "name": "stdout",
     "output_type": "stream",
     "text": [
      "('G', 'u', 'i', 'd', 'o', ' ', 'v', 'a', 'n', ' ', 'R', 'o', 's', 's', 'u', 'm')\n"
     ]
    }
   ],
   "source": [
    "father_of_python = 'Guido van Rossum'\n",
    "a = str_list_tup(father_of_python)\n",
    "print(a)"
   ]
  },
  {
   "cell_type": "markdown",
   "id": "previous-weather",
   "metadata": {},
   "source": [
    "---"
   ]
  },
  {
   "cell_type": "markdown",
   "id": "satisfied-borough",
   "metadata": {},
   "source": [
    "**Q 4:**\n",
    "\n",
    "There is a function that have a index and tuple as parameters.<br>\n",
    "\n",
    "Let the function return how many times the element in the given index is in the whole tuple.\n",
    "\n",
    "**to-do:**\n",
    "* count()\n",
    "\n",
    "<pre style=\"background: gold;\">\n",
    "Parameters:\n",
    "t = (5, 2, 3, 3, 4, 2, 1, 3, 4, 5, 2, 1, 2)\n",
    "i = 1\n",
    "\n",
    "result: 4\n",
    "</pre>"
   ]
  },
  {
   "cell_type": "code",
   "execution_count": 16,
   "id": "impressed-british",
   "metadata": {},
   "outputs": [],
   "source": [
    "# S 4:\n",
    "\n",
    "def how_many_times(tup, index):   \n",
    "    \n",
    "    element = tup[index]\n",
    "    \n",
    "    return tup.count(element)\n"
   ]
  },
  {
   "cell_type": "code",
   "execution_count": 18,
   "id": "golden-receiver",
   "metadata": {},
   "outputs": [
    {
     "data": {
      "text/plain": [
       "4"
      ]
     },
     "execution_count": 18,
     "metadata": {},
     "output_type": "execute_result"
    }
   ],
   "source": [
    "t = (5, 2, 3, 3, 4, 2, 1, 3, 4, 5, 2, 1, 2)\n",
    "i = 1\n",
    "how_many_times(t, i)"
   ]
  },
  {
   "cell_type": "code",
   "execution_count": 19,
   "id": "emotional-ribbon",
   "metadata": {},
   "outputs": [
    {
     "data": {
      "text/plain": [
       "2"
      ]
     },
     "execution_count": 19,
     "metadata": {},
     "output_type": "execute_result"
    }
   ],
   "source": [
    "text = ('G', 'u', 'i', 'd', 'o', ' ', 'v', 'a', 'n', ' ', 'R', 'o', 's', 's', 'u', 'm')\n",
    "ind = 4\n",
    "how_many_times(text, ind)"
   ]
  },
  {
   "cell_type": "markdown",
   "id": "collective-treasurer",
   "metadata": {},
   "source": [
    "---"
   ]
  },
  {
   "cell_type": "markdown",
   "id": "stuck-thirty",
   "metadata": {},
   "source": [
    "**Q 5:**\n",
    "\n",
    "Slicing:\n",
    "\n",
    "<pre> tup = ('a', 'b', 'c', 'd', 'e', 'f', 'g', 'h', 'i', 'j') </pre>\n"
   ]
  },
  {
   "cell_type": "code",
   "execution_count": 23,
   "id": "equivalent-engine",
   "metadata": {},
   "outputs": [
    {
     "data": {
      "text/plain": [
       "('a', 'b', 'c', 'd', 'e', 'f', 'g', 'h', 'i', 'j')"
      ]
     },
     "execution_count": 23,
     "metadata": {},
     "output_type": "execute_result"
    }
   ],
   "source": [
    "# S 5:\n",
    "\n",
    "tup = ('a', 'b', 'c', 'd', 'e', 'f', 'g', 'h', 'i', 'j') \n",
    "tup"
   ]
  },
  {
   "cell_type": "code",
   "execution_count": 22,
   "id": "killing-bahrain",
   "metadata": {},
   "outputs": [
    {
     "data": {
      "text/plain": [
       "('d', 'e', 'f', 'g')"
      ]
     },
     "execution_count": 22,
     "metadata": {},
     "output_type": "execute_result"
    }
   ],
   "source": [
    "# 1. Find the 4th element (inclusive) to the 7th element (inclusive)\n",
    "# The 4th element means the 3rd index. (starts at index 0)\n",
    "\n",
    "tup[3:7]"
   ]
  },
  {
   "cell_type": "code",
   "execution_count": 24,
   "id": "mounted-mixer",
   "metadata": {},
   "outputs": [
    {
     "data": {
      "text/plain": [
       "('a', 'b', 'c', 'd', 'e')"
      ]
     },
     "execution_count": 24,
     "metadata": {},
     "output_type": "execute_result"
    }
   ],
   "source": [
    "# 2. Find the first 5 elements\n",
    "\n",
    "tup[:5]\n"
   ]
  },
  {
   "cell_type": "code",
   "execution_count": 25,
   "id": "incorrect-council",
   "metadata": {},
   "outputs": [
    {
     "data": {
      "text/plain": [
       "('f', 'g', 'h', 'i', 'j')"
      ]
     },
     "execution_count": 25,
     "metadata": {},
     "output_type": "execute_result"
    }
   ],
   "source": [
    "# 3. Find after the 6th element (inclusive)\n",
    "\n",
    "tup[5:]\n",
    "\n"
   ]
  },
  {
   "cell_type": "code",
   "execution_count": 26,
   "id": "analyzed-malawi",
   "metadata": {},
   "outputs": [
    {
     "data": {
      "text/plain": [
       "('a', 'b', 'c', 'd', 'e', 'f', 'g', 'h', 'i', 'j')"
      ]
     },
     "execution_count": 26,
     "metadata": {},
     "output_type": "execute_result"
    }
   ],
   "source": [
    "# 4. Find all elements\n",
    "\n",
    "tup[::]"
   ]
  },
  {
   "cell_type": "code",
   "execution_count": 27,
   "id": "martial-avatar",
   "metadata": {},
   "outputs": [
    {
     "data": {
      "text/plain": [
       "'i'"
      ]
     },
     "execution_count": 27,
     "metadata": {},
     "output_type": "execute_result"
    }
   ],
   "source": [
    "# 5. Find the second to last element\n",
    "\n",
    "tup[-2]\n",
    "\n"
   ]
  },
  {
   "cell_type": "code",
   "execution_count": 28,
   "id": "intellectual-engineer",
   "metadata": {},
   "outputs": [
    {
     "data": {
      "text/plain": [
       "('g', 'h', 'i', 'j')"
      ]
     },
     "execution_count": 28,
     "metadata": {},
     "output_type": "execute_result"
    }
   ],
   "source": [
    "# 6. Find the last 4 elements\n",
    "\n",
    "tup[-4:]"
   ]
  },
  {
   "cell_type": "code",
   "execution_count": 29,
   "id": "quantitative-characteristic",
   "metadata": {},
   "outputs": [
    {
     "data": {
      "text/plain": [
       "('b', 'd', 'f', 'h')"
      ]
     },
     "execution_count": 29,
     "metadata": {},
     "output_type": "execute_result"
    }
   ],
   "source": [
    "# 7. Write from the 2nd element to the 8th element, skipping 2 by 2\n",
    "\n",
    "tup[1:8:2]\n",
    "\n"
   ]
  },
  {
   "cell_type": "code",
   "execution_count": 30,
   "id": "empirical-exercise",
   "metadata": {},
   "outputs": [
    {
     "data": {
      "text/plain": [
       "('a', 'd', 'g', 'j')"
      ]
     },
     "execution_count": 30,
     "metadata": {},
     "output_type": "execute_result"
    }
   ],
   "source": [
    "# 8. Write all elements in 3 skips\n",
    "\n",
    "tup[::3]\n",
    "\n"
   ]
  },
  {
   "cell_type": "code",
   "execution_count": 33,
   "id": "tropical-surname",
   "metadata": {},
   "outputs": [
    {
     "data": {
      "text/plain": [
       "('i', 'h', 'g', 'f', 'e', 'd')"
      ]
     },
     "execution_count": 33,
     "metadata": {},
     "output_type": "execute_result"
    }
   ],
   "source": [
    "# 9. Write in reverse from the 9th element to the 3rd element (excluding)\n",
    "\n",
    "tup[8:2:-1]\n"
   ]
  },
  {
   "cell_type": "code",
   "execution_count": 34,
   "id": "higher-medicare",
   "metadata": {},
   "outputs": [
    {
     "data": {
      "text/plain": [
       "('j', 'i', 'h', 'g', 'f', 'e', 'd', 'c', 'b', 'a')"
      ]
     },
     "execution_count": 34,
     "metadata": {},
     "output_type": "execute_result"
    }
   ],
   "source": [
    "# 10. write in reverse\n",
    "\n",
    "tup[::-1]\n",
    "\n"
   ]
  },
  {
   "cell_type": "code",
   "execution_count": 35,
   "id": "sufficient-ladder",
   "metadata": {},
   "outputs": [
    {
     "data": {
      "text/plain": [
       "('j', 'h', 'f', 'd', 'b')"
      ]
     },
     "execution_count": 35,
     "metadata": {},
     "output_type": "execute_result"
    }
   ],
   "source": [
    "# 11. write in reverse with 2 skips\n",
    "\n",
    "tup[::-2]"
   ]
  },
  {
   "cell_type": "code",
   "execution_count": 36,
   "id": "cultural-printing",
   "metadata": {},
   "outputs": [
    {
     "data": {
      "text/plain": [
       "('a', 'b', 'c', 'd', 'e', 'f', 'g', 'h', 'i')"
      ]
     },
     "execution_count": 36,
     "metadata": {},
     "output_type": "execute_result"
    }
   ],
   "source": [
    "# 12. Get all elements up to (except) the last element with reverse index\n",
    "\n",
    "tup[:-1]"
   ]
  },
  {
   "cell_type": "markdown",
   "id": "immediate-operation",
   "metadata": {},
   "source": [
    "---"
   ]
  },
  {
   "cell_type": "markdown",
   "id": "adjustable-married",
   "metadata": {},
   "source": [
    "**Q 6:**\n",
    "\n",
    "Define a function that has a list as a parameter. The list's elements are tuples.<br>\n",
    "Every tuple may have different length.<br>\n",
    "The function deletes the last element of tuple that is in the list and write the square instead\n",
    "\n",
    "<pre style=\"background: gold;\">\n",
    "Parameter:\n",
    "tuple_list = [(2,5,8), (4,3), (1,7,9,6), (5,)]\n",
    "\n",
    "Result:\n",
    "tuple_list = [(2,5,64), (4,9), (1,7,9,36), (25,)]\n",
    "</pre>"
   ]
  },
  {
   "cell_type": "code",
   "execution_count": 37,
   "id": "attractive-interim",
   "metadata": {},
   "outputs": [],
   "source": [
    "# S 6:\n",
    "\n",
    "def square_last_element(tuple_list):\n",
    "    \n",
    "    for index, tup in enumerate(tuple_list):\n",
    "    \n",
    "        until_last_element = tup[:-1]\n",
    "    \n",
    "        last_element = tup[-1]**2\n",
    "        \n",
    "        tup = until_last_element + (last_element,)\n",
    "        \n",
    "        tuple_list[index] = tup\n",
    "    \n",
    "    \n",
    "    "
   ]
  },
  {
   "cell_type": "code",
   "execution_count": 38,
   "id": "formed-organization",
   "metadata": {},
   "outputs": [
    {
     "name": "stdout",
     "output_type": "stream",
     "text": [
      "before the function: [(2, 5, 8), (4, 3), (1, 7, 9, 6), (5,)]\n",
      "after the function: [(2, 5, 64), (4, 9), (1, 7, 9, 36), (25,)]\n"
     ]
    }
   ],
   "source": [
    "tuple_list = [(2,5,8), (4,3), (1,7,9,6), (5,)]\n",
    "print('before the function:', tuple_list)\n",
    "\n",
    "square_last_element(tuple_list)\n",
    "print('after the function:', tuple_list)"
   ]
  },
  {
   "cell_type": "markdown",
   "id": "instant-geology",
   "metadata": {},
   "source": [
    "---"
   ]
  },
  {
   "cell_type": "markdown",
   "id": "behavioral-darwin",
   "metadata": {},
   "source": [
    "**Q 7:**\n",
    "\n",
    "Define a function that has a list as a parameter. The list's elements are tuples.<br>\n",
    "Every tuple may have different length. <br>\n",
    "Function writes the squares of each tuple element in the List instead of all the elements.\n",
    "\n",
    "\n",
    "<pre style=\"background: gold;\">\n",
    "Parameter:\n",
    "tuple_list = [(2,5,8), (4,3), (1,7,9,6), (5,)]\n",
    "\n",
    "Sonuc:\n",
    "new_tuple_list = [(4,25,64), (16,9), (1,49,81,36), (25,)]\n",
    "</pre>"
   ]
  },
  {
   "cell_type": "code",
   "execution_count": 39,
   "id": "brave-breakdown",
   "metadata": {},
   "outputs": [],
   "source": [
    "# S 7:\n",
    "\n",
    "def square_all_element(tuple_list):\n",
    "    \n",
    "    new_list = tuple_list.copy()\n",
    "    \n",
    "    for index, tup in enumerate(new_list):\n",
    "        \n",
    "        new_tup = tuple()\n",
    "        \n",
    "        for t in tup:\n",
    "            \n",
    "            new_tup += (t**2,)\n",
    "            \n",
    "        new_list[index] = new_tup\n",
    "        \n",
    "    return new_list\n",
    "    \n"
   ]
  },
  {
   "cell_type": "code",
   "execution_count": 40,
   "id": "interim-shooting",
   "metadata": {},
   "outputs": [
    {
     "name": "stdout",
     "output_type": "stream",
     "text": [
      "tuple_list: [(2, 5, 8), (4, 3), (1, 7, 9, 6), (5,)]\n",
      "new_tuple_list: [(4, 25, 64), (16, 9), (1, 49, 81, 36), (25,)]\n"
     ]
    }
   ],
   "source": [
    "tuple_list = [(2,5,8), (4,3), (1,7,9,6), (5,)]\n",
    "\n",
    "new_tuple_list = square_all_element(tuple_list)\n",
    "\n",
    "print('tuple_list:', tuple_list)\n",
    "print('new_tuple_list:', new_tuple_list)"
   ]
  },
  {
   "cell_type": "markdown",
   "id": "understanding-prize",
   "metadata": {},
   "source": [
    "---"
   ]
  },
  {
   "cell_type": "markdown",
   "id": "shaped-pharmacology",
   "metadata": {},
   "source": [
    "**Soru 8:**\n",
    "\n",
    "Define a function that has 4 list as parameters.\n",
    "\n",
    "\n",
    "Given 4 lists:\n",
    "* List 1 -> actor/actress real name\n",
    "* List 2 -> name of the movie\n",
    "* List 3 -> year\n",
    "* List 4 -> character's name\n",
    "\n",
    "The function will take the corresponding elements from these 4 lists and turn them into 2 tuples with 2 elements each. And a Dictionary will return.\n",
    "\n",
    "* First Tuple -> (actor/actress real name, character's name)\n",
    "* İkinci Tuple -> (name of the movie, year)\n",
    "\n",
    "**to-do:**\n",
    "* `zip()`\n",
    "\n",
    "<pre style=\"background: gold\">\n",
    "Parameters:\n",
    "actors = ['Marlon Brando', 'Heath Ledger', 'Natalie Portman', 'Emma Stone']\n",
    "characters = ['Don Vito Corleone', 'Joker', 'The Swan Queen', 'Mia']\n",
    "movies = ['The Godfather', 'The Dark Knight', 'Black Swan', 'La La Land']\n",
    "years = [1972, 2008, 2010, 2016]\n",
    "\n",
    "Result:\n",
    "{('Marlon Brando', 'Don Vito Corleone'): ('The Godfather', 1972),\n",
    " ('Heath Ledger', 'Joker'): ('The Dark Knight', 2008),\n",
    " ('Natalie Portman', 'The Swan Queen'): ('Black Swan', 2010),\n",
    " ('Emma Stone', 'Mia'): ('La La Land', 2016)}\n",
    "</pre>"
   ]
  },
  {
   "cell_type": "code",
   "execution_count": 42,
   "id": "former-translator",
   "metadata": {},
   "outputs": [],
   "source": [
    "# S 8:\n",
    "\n",
    "def movie_dict(actors, characters, movies, years):\n",
    "    \n",
    "    \n",
    "    new_dict = {}\n",
    "    \n",
    "    for a, c, m, y in zip(actors, characters, movies, years):\n",
    "        \n",
    "        new_dict[a,c] = (m,y)\n",
    "        \n",
    "    return new_dict\n",
    "\n",
    "\n"
   ]
  },
  {
   "cell_type": "code",
   "execution_count": 44,
   "id": "clean-tender",
   "metadata": {},
   "outputs": [
    {
     "data": {
      "text/plain": [
       "{('Marlon Brando', 'Don Vito Corleone'): ('The Godfather', 1972),\n",
       " ('Heath Ledger', 'Joker'): ('The Dark Knight', 2008),\n",
       " ('Natalie Portman', 'The Swan Queen'): ('Black Swan', 2010),\n",
       " ('Emma Stone', 'Mia'): ('La La Land', 2016)}"
      ]
     },
     "execution_count": 44,
     "metadata": {},
     "output_type": "execute_result"
    }
   ],
   "source": [
    "\n",
    "actors = ['Marlon Brando', 'Heath Ledger', 'Natalie Portman', 'Emma Stone']\n",
    "characters = ['Don Vito Corleone', 'Joker', 'The Swan Queen', 'Mia']\n",
    "movies = ['The Godfather', 'The Dark Knight', 'Black Swan', 'La La Land']\n",
    "years = [1972, 2008, 2010, 2016]\n",
    "\n",
    "movie_dict(actors, characters, movies, years)"
   ]
  },
  {
   "cell_type": "markdown",
   "id": "legislative-timothy",
   "metadata": {},
   "source": [
    "---"
   ]
  },
  {
   "cell_type": "markdown",
   "id": "typical-beginning",
   "metadata": {},
   "source": [
    "**Q 9:**\n",
    "\n",
    "Define a function that takes a tuple as a parameter.\n",
    "\n",
    "Let the tuple that comes as a parameter be a structure that contains tuples. So let the elements be tuples. And each of these elements will be a 2-element tuple.\n",
    "\n",
    "The function will sort the tuple that comes as a parameter and return an ordered tuple.\n",
    "\n",
    "The ordering rule will be the 2nd element. So it will look at the 2nd element of the tuples inside and sort it accordingly.\n",
    "\n",
    "**to-do:**\n",
    "* `lambda` \n",
    "\n",
    "<pre style=\"background: gold\">\n",
    "Parameter:\n",
    "tuple_of_tuples = (('a', 12), ('e', 8), ('b', 16), ('c', 22))\n",
    "\n",
    "result:\n",
    "[('e', 8), ('a', 12), ('b', 16), ('c', 22)]\n",
    "</pre>"
   ]
  },
  {
   "cell_type": "code",
   "execution_count": 45,
   "id": "hundred-detective",
   "metadata": {},
   "outputs": [],
   "source": [
    "# S 9:\n",
    "\n",
    "def sort_tuple(tup):\n",
    "    \n",
    "    return sorted(tup, key = lambda x : x[1])\n",
    "    "
   ]
  },
  {
   "cell_type": "code",
   "execution_count": 46,
   "id": "alert-patent",
   "metadata": {},
   "outputs": [
    {
     "data": {
      "text/plain": [
       "[('e', 8), ('a', 12), ('b', 16), ('c', 22)]"
      ]
     },
     "execution_count": 46,
     "metadata": {},
     "output_type": "execute_result"
    }
   ],
   "source": [
    "tuple_of_tuples = (('a', 12), ('e', 8), ('b', 16), ('c', 22))\n",
    "\n",
    "sort_tuple(tuple_of_tuples)"
   ]
  },
  {
   "cell_type": "markdown",
   "id": "solved-voltage",
   "metadata": {},
   "source": [
    "---"
   ]
  },
  {
   "cell_type": "markdown",
   "id": "canadian-philosophy",
   "metadata": {},
   "source": [
    "**Q 10:**\n",
    "\n",
    "Define a function that takes a tuple of numbers and a number as parameters\n",
    "\n",
    "The function returns the number of times the given number in the tuple has passed.\n",
    "\n",
    "While doing this, we should use the **how_many_times** function in Question 4.\n",
    "\n",
    "If there is no number in this tuple, it will return 'Number not found'.\n",
    "\n",
    "\n",
    "<pre style=\"background: gold\">\n",
    "Parameters:\n",
    "tup = (5, 2, 3, 3, 4, 2, 1, 3, 4, 5, 2, 1, 2)\n",
    "number = 2\n",
    "\n",
    "result:\n",
    "4\n",
    "</pre>"
   ]
  },
  {
   "cell_type": "code",
   "execution_count": 51,
   "id": "liquid-wedding",
   "metadata": {},
   "outputs": [],
   "source": [
    "# S 10:\n",
    "\n",
    "def count_number(tup,number):\n",
    "    \n",
    "    if not number in tup:\n",
    "        raise Exception('Number not found!')\n",
    "        \n",
    "    else:\n",
    "        \n",
    "        index = tup.index(number)\n",
    "        \n",
    "        return how_many_times(tup,index)\n",
    "    "
   ]
  },
  {
   "cell_type": "code",
   "execution_count": 52,
   "id": "d9da924a-623b-4197-9ec7-37fb2196808b",
   "metadata": {},
   "outputs": [
    {
     "data": {
      "text/plain": [
       "4"
      ]
     },
     "execution_count": 52,
     "metadata": {},
     "output_type": "execute_result"
    }
   ],
   "source": [
    "tup = (5, 2, 3, 3, 4, 2, 1, 3, 4, 5, 2, 1, 2)\n",
    "number = 2\n",
    "\n",
    "count_number(tup,number)"
   ]
  },
  {
   "cell_type": "code",
   "execution_count": 53,
   "id": "taken-indonesian",
   "metadata": {},
   "outputs": [
    {
     "data": {
      "text/plain": [
       "2"
      ]
     },
     "execution_count": 53,
     "metadata": {},
     "output_type": "execute_result"
    }
   ],
   "source": [
    "tup = (5, 2, 3, 3, 4, 2, 1, 3, 4, 5, 2, 1, 2)\n",
    "number =5\n",
    "\n",
    "count_number(tup,number)"
   ]
  },
  {
   "cell_type": "code",
   "execution_count": 54,
   "id": "stone-bibliography",
   "metadata": {},
   "outputs": [
    {
     "ename": "Exception",
     "evalue": "Number not found!",
     "output_type": "error",
     "traceback": [
      "\u001b[1;31m---------------------------------------------------------------------------\u001b[0m",
      "\u001b[1;31mException\u001b[0m                                 Traceback (most recent call last)",
      "Input \u001b[1;32mIn [54]\u001b[0m, in \u001b[0;36m<cell line: 4>\u001b[1;34m()\u001b[0m\n\u001b[0;32m      1\u001b[0m tup \u001b[38;5;241m=\u001b[39m (\u001b[38;5;241m5\u001b[39m, \u001b[38;5;241m2\u001b[39m, \u001b[38;5;241m3\u001b[39m, \u001b[38;5;241m3\u001b[39m, \u001b[38;5;241m4\u001b[39m, \u001b[38;5;241m2\u001b[39m, \u001b[38;5;241m1\u001b[39m, \u001b[38;5;241m3\u001b[39m, \u001b[38;5;241m4\u001b[39m, \u001b[38;5;241m5\u001b[39m, \u001b[38;5;241m2\u001b[39m, \u001b[38;5;241m1\u001b[39m, \u001b[38;5;241m2\u001b[39m)\n\u001b[0;32m      2\u001b[0m number \u001b[38;5;241m=\u001b[39m \u001b[38;5;241m99\u001b[39m\n\u001b[1;32m----> 4\u001b[0m \u001b[43mcount_number\u001b[49m\u001b[43m(\u001b[49m\u001b[43mtup\u001b[49m\u001b[43m,\u001b[49m\u001b[43mnumber\u001b[49m\u001b[43m)\u001b[49m\n",
      "Input \u001b[1;32mIn [51]\u001b[0m, in \u001b[0;36mcount_number\u001b[1;34m(tup, number)\u001b[0m\n\u001b[0;32m      3\u001b[0m \u001b[38;5;28;01mdef\u001b[39;00m \u001b[38;5;21mcount_number\u001b[39m(tup,number):\n\u001b[0;32m      5\u001b[0m     \u001b[38;5;28;01mif\u001b[39;00m \u001b[38;5;129;01mnot\u001b[39;00m number \u001b[38;5;129;01min\u001b[39;00m tup:\n\u001b[1;32m----> 6\u001b[0m         \u001b[38;5;28;01mraise\u001b[39;00m \u001b[38;5;167;01mException\u001b[39;00m(\u001b[38;5;124m'\u001b[39m\u001b[38;5;124mNumber not found!\u001b[39m\u001b[38;5;124m'\u001b[39m)\n\u001b[0;32m      8\u001b[0m     \u001b[38;5;28;01melse\u001b[39;00m:\n\u001b[0;32m     10\u001b[0m         index \u001b[38;5;241m=\u001b[39m tup\u001b[38;5;241m.\u001b[39mindex(number)\n",
      "\u001b[1;31mException\u001b[0m: Number not found!"
     ]
    }
   ],
   "source": [
    "tup = (5, 2, 3, 3, 4, 2, 1, 3, 4, 5, 2, 1, 2)\n",
    "number = 99\n",
    "\n",
    "count_number(tup,number)"
   ]
  },
  {
   "cell_type": "code",
   "execution_count": null,
   "id": "d96d6868-6215-41d6-a587-c44852f44d5d",
   "metadata": {},
   "outputs": [],
   "source": []
  }
 ],
 "metadata": {
  "kernelspec": {
   "display_name": "Python 3 (ipykernel)",
   "language": "python",
   "name": "python3"
  },
  "language_info": {
   "codemirror_mode": {
    "name": "ipython",
    "version": 3
   },
   "file_extension": ".py",
   "mimetype": "text/x-python",
   "name": "python",
   "nbconvert_exporter": "python",
   "pygments_lexer": "ipython3",
   "version": "3.9.12"
  }
 },
 "nbformat": 4,
 "nbformat_minor": 5
}
