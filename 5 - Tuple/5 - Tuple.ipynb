{
 "cells": [
  {
   "cell_type": "markdown",
   "id": "13b7b025-f861-41bf-84f2-2ef9723d8109",
   "metadata": {},
   "source": [
    "## 5 - Tuple"
   ]
  },
  {
   "cell_type": "markdown",
   "id": "f6600e64-0ffe-4581-9230-2b09077f153d",
   "metadata": {},
   "source": [
    "### 5.1 Creating a Tuple:\n"
   ]
  },
  {
   "cell_type": "markdown",
   "id": "642d8231-c3ed-4317-bde0-f0c3d9395519",
   "metadata": {},
   "source": [
    "A `tuple` is a variable which is type a sequence like string, list.\n",
    "\n",
    "Tuple is able to take a every type of value and to index.\n",
    "\n",
    "Therefore, tuple is quite similar to list.\n",
    "\n",
    "However, there is an important different between tuple and list: \n",
    "\n",
    "* a tuple is immutable\n",
    "\n",
    "* a list is mutable\n",
    "\n",
    "A **tuple** is a comma-separated list."
   ]
  },
  {
   "cell_type": "code",
   "execution_count": 2,
   "id": "5ca8aec6-591e-4903-b38a-66c5439b8aef",
   "metadata": {},
   "outputs": [
    {
     "data": {
      "text/plain": [
       "('x', 'y', 'z', 'q', 'p')"
      ]
     },
     "execution_count": 2,
     "metadata": {},
     "output_type": "execute_result"
    }
   ],
   "source": [
    "t = 'x', 'y', 'z', 'q', 'p'\n",
    "t"
   ]
  },
  {
   "cell_type": "code",
   "execution_count": 3,
   "id": "f6164a81-061d-4f22-ab99-2b6d6e250da9",
   "metadata": {},
   "outputs": [
    {
     "data": {
      "text/plain": [
       "tuple"
      ]
     },
     "execution_count": 3,
     "metadata": {},
     "output_type": "execute_result"
    }
   ],
   "source": [
    "type(t)"
   ]
  },
  {
   "cell_type": "code",
   "execution_count": 4,
   "id": "1942bff9-6494-4f10-b1e1-59d2244b73b8",
   "metadata": {},
   "outputs": [
    {
     "data": {
      "text/plain": [
       "(1, 2, 3, 4, 5)"
      ]
     },
     "execution_count": 4,
     "metadata": {},
     "output_type": "execute_result"
    }
   ],
   "source": [
    "t2 = (1, 2, 3, 4, 5)\n",
    "t2"
   ]
  },
  {
   "cell_type": "code",
   "execution_count": 5,
   "id": "5f0836be-504c-4228-be01-b6c2178acdb9",
   "metadata": {},
   "outputs": [
    {
     "data": {
      "text/plain": [
       "True"
      ]
     },
     "execution_count": 5,
     "metadata": {},
     "output_type": "execute_result"
    }
   ],
   "source": [
    "isinstance(t2, tuple)"
   ]
  },
  {
   "cell_type": "code",
   "execution_count": 6,
   "id": "ae57e486-a7b8-4779-b441-a79771746b8d",
   "metadata": {},
   "outputs": [
    {
     "data": {
      "text/plain": [
       "False"
      ]
     },
     "execution_count": 6,
     "metadata": {},
     "output_type": "execute_result"
    }
   ],
   "source": [
    "isinstance(t2, list)"
   ]
  },
  {
   "cell_type": "markdown",
   "id": "642c3832-ce94-47ed-a9d4-d2ce11967be1",
   "metadata": {},
   "source": [
    "**Question:** how can we create a tuple which has one element?"
   ]
  },
  {
   "cell_type": "code",
   "execution_count": 9,
   "id": "b9bbc756-fbb5-47a4-b2a7-7e5c81fc038e",
   "metadata": {},
   "outputs": [
    {
     "data": {
      "text/plain": [
       "'x'"
      ]
     },
     "execution_count": 9,
     "metadata": {},
     "output_type": "execute_result"
    }
   ],
   "source": [
    "one_tuple1 = 'x'\n",
    "one_tuple1"
   ]
  },
  {
   "cell_type": "code",
   "execution_count": 10,
   "id": "0a2b798b-3a32-4ce2-a8dd-f143b53f2fe2",
   "metadata": {},
   "outputs": [
    {
     "data": {
      "text/plain": [
       "False"
      ]
     },
     "execution_count": 10,
     "metadata": {},
     "output_type": "execute_result"
    }
   ],
   "source": [
    "isinstance(one_tuple1, tuple)"
   ]
  },
  {
   "cell_type": "code",
   "execution_count": 11,
   "id": "94ff4c23-0843-4351-adf8-f9d440825808",
   "metadata": {},
   "outputs": [
    {
     "data": {
      "text/plain": [
       "str"
      ]
     },
     "execution_count": 11,
     "metadata": {},
     "output_type": "execute_result"
    }
   ],
   "source": [
    "type(one_tuple1)"
   ]
  },
  {
   "cell_type": "code",
   "execution_count": 12,
   "id": "64f580e4-0c80-4649-8470-469e2563d8f1",
   "metadata": {},
   "outputs": [
    {
     "data": {
      "text/plain": [
       "'x'"
      ]
     },
     "execution_count": 12,
     "metadata": {},
     "output_type": "execute_result"
    }
   ],
   "source": [
    "one_tuple2 = ('x')\n",
    "one_tuple2"
   ]
  },
  {
   "cell_type": "code",
   "execution_count": 13,
   "id": "f7c72065-de1a-4e1e-bdbb-740494f8699a",
   "metadata": {},
   "outputs": [
    {
     "data": {
      "text/plain": [
       "False"
      ]
     },
     "execution_count": 13,
     "metadata": {},
     "output_type": "execute_result"
    }
   ],
   "source": [
    "isinstance(one_tuple2, tuple)"
   ]
  },
  {
   "cell_type": "code",
   "execution_count": 14,
   "id": "dca368b9-d3ff-43bf-8a8d-d72080bf487d",
   "metadata": {},
   "outputs": [
    {
     "data": {
      "text/plain": [
       "str"
      ]
     },
     "execution_count": 14,
     "metadata": {},
     "output_type": "execute_result"
    }
   ],
   "source": [
    "type(one_tuple1)"
   ]
  },
  {
   "cell_type": "code",
   "execution_count": 15,
   "id": "352abaad-23db-4aa0-8123-41ff614f10b0",
   "metadata": {},
   "outputs": [
    {
     "data": {
      "text/plain": [
       "'x'"
      ]
     },
     "execution_count": 15,
     "metadata": {},
     "output_type": "execute_result"
    }
   ],
   "source": [
    "# answer:\n",
    "\n",
    "one_tuple3 = (\"x\",)\n",
    "one_tuple"
   ]
  },
  {
   "cell_type": "code",
   "execution_count": 16,
   "id": "c78a6905-a9ca-480a-892b-12f2da3db459",
   "metadata": {},
   "outputs": [
    {
     "data": {
      "text/plain": [
       "True"
      ]
     },
     "execution_count": 16,
     "metadata": {},
     "output_type": "execute_result"
    }
   ],
   "source": [
    "isinstance(one_tuple3, tuple)"
   ]
  },
  {
   "cell_type": "code",
   "execution_count": 17,
   "id": "69ef212b-2841-484e-8776-a6c230400fc7",
   "metadata": {},
   "outputs": [
    {
     "data": {
      "text/plain": [
       "tuple"
      ]
     },
     "execution_count": 17,
     "metadata": {},
     "output_type": "execute_result"
    }
   ],
   "source": [
    "type(one_tuple3)"
   ]
  },
  {
   "cell_type": "code",
   "execution_count": 18,
   "id": "d6e819e8-f231-4286-9cf0-a2f35cb4d408",
   "metadata": {},
   "outputs": [
    {
     "data": {
      "text/plain": [
       "('x',)"
      ]
     },
     "execution_count": 18,
     "metadata": {},
     "output_type": "execute_result"
    }
   ],
   "source": [
    "# another way:\n",
    "\n",
    "t = tuple(\"x\")\n",
    "t"
   ]
  },
  {
   "cell_type": "code",
   "execution_count": 19,
   "id": "6f7764c6-b4de-4f55-8243-3c89ade2ad63",
   "metadata": {},
   "outputs": [
    {
     "data": {
      "text/plain": [
       "tuple"
      ]
     },
     "execution_count": 19,
     "metadata": {},
     "output_type": "execute_result"
    }
   ],
   "source": [
    "type(t)"
   ]
  },
  {
   "cell_type": "code",
   "execution_count": 20,
   "id": "899094d2-7091-4d4c-8507-ab262ca384bc",
   "metadata": {},
   "outputs": [
    {
     "data": {
      "text/plain": [
       "('P', 'y', 't', 'h', 'o', 'n')"
      ]
     },
     "execution_count": 20,
     "metadata": {},
     "output_type": "execute_result"
    }
   ],
   "source": [
    "lang = tuple(\"Python\")\n",
    "lang"
   ]
  },
  {
   "cell_type": "code",
   "execution_count": 21,
   "id": "b88e3813-4098-4abe-9847-b78fff1a4b4c",
   "metadata": {},
   "outputs": [
    {
     "data": {
      "text/plain": [
       "'P'"
      ]
     },
     "execution_count": 21,
     "metadata": {},
     "output_type": "execute_result"
    }
   ],
   "source": [
    "#index\n",
    "\n",
    "lang[0]"
   ]
  },
  {
   "cell_type": "code",
   "execution_count": 22,
   "id": "2951dcf0-5438-4e4f-a769-75bf9c32594e",
   "metadata": {},
   "outputs": [
    {
     "data": {
      "text/plain": [
       "'t'"
      ]
     },
     "execution_count": 22,
     "metadata": {},
     "output_type": "execute_result"
    }
   ],
   "source": [
    "lang[2]"
   ]
  },
  {
   "cell_type": "markdown",
   "id": "4ac98991-684e-4579-8f8b-e973b2a0e937",
   "metadata": {},
   "source": [
    "Tuple allows to use indexes, so we can use slicing:"
   ]
  },
  {
   "cell_type": "code",
   "execution_count": 23,
   "id": "4df322d1-5800-42dc-be63-a0e7cd0babb8",
   "metadata": {},
   "outputs": [
    {
     "data": {
      "text/plain": [
       "('P', 'y', 't', 'h', 'o', 'n')"
      ]
     },
     "execution_count": 23,
     "metadata": {},
     "output_type": "execute_result"
    }
   ],
   "source": [
    "lang[::]"
   ]
  },
  {
   "cell_type": "code",
   "execution_count": 24,
   "id": "a5b3cf06-49c8-483f-9497-e28ea6343ddd",
   "metadata": {},
   "outputs": [
    {
     "data": {
      "text/plain": [
       "('n', 'o', 'h', 't', 'y', 'P')"
      ]
     },
     "execution_count": 24,
     "metadata": {},
     "output_type": "execute_result"
    }
   ],
   "source": [
    "lang[::-1]"
   ]
  },
  {
   "cell_type": "code",
   "execution_count": 25,
   "id": "9a5bbaa2-09db-4468-b206-93cedd403d14",
   "metadata": {},
   "outputs": [
    {
     "data": {
      "text/plain": [
       "('y', 't', 'h')"
      ]
     },
     "execution_count": 25,
     "metadata": {},
     "output_type": "execute_result"
    }
   ],
   "source": [
    "lang[1:4]"
   ]
  },
  {
   "cell_type": "code",
   "execution_count": 26,
   "id": "1450a23b-fa34-4857-84af-41567a78c5a9",
   "metadata": {},
   "outputs": [
    {
     "name": "stdout",
     "output_type": "stream",
     "text": [
      "a: 99\n",
      "b: 1\n",
      "a: 1\n",
      "b: 99\n"
     ]
    }
   ],
   "source": [
    "# tuple assignment\n",
    "\n",
    "a = 99\n",
    "b = 1\n",
    "\n",
    "print(\"a:\", a)\n",
    "print(\"b:\", b)\n",
    "\n",
    "a, b = b, a\n",
    "\n",
    "print(\"a:\", a)\n",
    "print(\"b:\", b)"
   ]
  },
  {
   "cell_type": "code",
   "execution_count": 27,
   "id": "9e5f7cc4-c348-46ce-a372-cd9b3ca9432f",
   "metadata": {},
   "outputs": [
    {
     "ename": "ValueError",
     "evalue": "too many values to unpack (expected 2)",
     "output_type": "error",
     "traceback": [
      "\u001b[1;31m---------------------------------------------------------------------------\u001b[0m",
      "\u001b[1;31mValueError\u001b[0m                                Traceback (most recent call last)",
      "Input \u001b[1;32mIn [27]\u001b[0m, in \u001b[0;36m<cell line: 1>\u001b[1;34m()\u001b[0m\n\u001b[1;32m----> 1\u001b[0m a,b \u001b[38;5;241m=\u001b[39m \u001b[38;5;241m500\u001b[39m,\u001b[38;5;241m800\u001b[39m,\u001b[38;5;241m7\u001b[39m\n",
      "\u001b[1;31mValueError\u001b[0m: too many values to unpack (expected 2)"
     ]
    }
   ],
   "source": [
    "a,b = 500,800,7"
   ]
  },
  {
   "cell_type": "markdown",
   "id": "92e44a9f-5719-40cf-bb0a-f385dd063863",
   "metadata": {},
   "source": [
    "**EXERCISE:** Using tuple assignment, separate a given email:"
   ]
  },
  {
   "cell_type": "code",
   "execution_count": 28,
   "id": "74dd7628-ee51-4415-a344-82489c5917e4",
   "metadata": {},
   "outputs": [
    {
     "data": {
      "text/plain": [
       "['johnsnow', 'got.com']"
      ]
     },
     "execution_count": 28,
     "metadata": {},
     "output_type": "execute_result"
    }
   ],
   "source": [
    "'johnsnow@got.com'.split('@')"
   ]
  },
  {
   "cell_type": "code",
   "execution_count": 29,
   "id": "a3d06c7f-d85b-4760-bd4a-a7c7c0138363",
   "metadata": {},
   "outputs": [
    {
     "name": "stdout",
     "output_type": "stream",
     "text": [
      "johnsnow\n",
      "got.com\n"
     ]
    }
   ],
   "source": [
    "username, domain = 'johnsnow@got.com'.split('@')\n",
    "\n",
    "print(username)\n",
    "print(domain)"
   ]
  },
  {
   "cell_type": "markdown",
   "id": "6bcc4faf-9a5e-4ba4-bfb5-e9186d953670",
   "metadata": {},
   "source": [
    "### 5.2 Tuples as Return Value of Functions\n",
    "\n",
    "Functions return only a value. \n",
    "\n",
    "What should we do if we want to return more values?\n",
    "\n",
    "The answer is `Tuple` !"
   ]
  },
  {
   "cell_type": "markdown",
   "id": "fbcb37a4-1c95-4a1e-8dd0-3bc8c694fe63",
   "metadata": {},
   "source": [
    "**EXERCISE**\n",
    "\n",
    "Define a function that calculates the sum and multiplication of the given values:\n"
   ]
  },
  {
   "cell_type": "code",
   "execution_count": 30,
   "id": "c86345ed-ac29-4498-bedd-f3bf7b27cf52",
   "metadata": {},
   "outputs": [],
   "source": [
    "def sum_and_multp(*args):\n",
    "    \n",
    "    # sum()\n",
    "    \n",
    "    total_sum = sum(args)\n",
    "    \n",
    "    # we have to loop for multiplication:\n",
    "    \n",
    "    multp = 1\n",
    "    \n",
    "    for arg in args:\n",
    "        \n",
    "        multp *= arg\n",
    "        \n",
    "    return (total_sum, multp)"
   ]
  },
  {
   "cell_type": "code",
   "execution_count": 31,
   "id": "a52a5e82-3fc1-4daf-b6be-e2cc41d2ad17",
   "metadata": {},
   "outputs": [
    {
     "name": "stdout",
     "output_type": "stream",
     "text": [
      "sum: 14\n",
      "multiplication: 120\n"
     ]
    }
   ],
   "source": [
    "total_sum, multp = sum_and_multp(2, 5, 4, 3)\n",
    "\n",
    "print(\"sum:\", total_sum)\n",
    "print(\"multiplication:\", multp)\n"
   ]
  },
  {
   "cell_type": "markdown",
   "id": "c6330d43-e698-4132-8e78-e57ebaade60e",
   "metadata": {},
   "source": [
    "**EXERCISE**\n",
    "\n",
    "Define a function that takes an integer list as a parameter and returns min, max and mean values:\n",
    "\n",
    "Parametre olarak bir tam sayı listesi alan ve bu listenin minimum, maximum ve aritmetik ortalama değerlerini dönen bir fonksiyon yazın.\n",
    "\n",
    "**tip**:\n",
    "to use mean function, import statistics\n"
   ]
  },
  {
   "cell_type": "code",
   "execution_count": 32,
   "id": "f3dc0f7d-08e0-4bff-8131-bc7183740fb4",
   "metadata": {},
   "outputs": [],
   "source": [
    "import statistics\n",
    "\n",
    "def basic_statistics(a_list):\n",
    "    \n",
    "    min_v = min(a_list)\n",
    "    \n",
    "    max_v = max(a_list)\n",
    "    \n",
    "    mean_v = statistics.mean(a_list)\n",
    "    \n",
    "    return (min_v, max_v, mean_v)"
   ]
  },
  {
   "cell_type": "code",
   "execution_count": 33,
   "id": "008866aa-cfc8-4e6e-86fa-cda759d8ce00",
   "metadata": {},
   "outputs": [
    {
     "name": "stdout",
     "output_type": "stream",
     "text": [
      "min: 1\n",
      "max: 5\n",
      "mean: 3\n"
     ]
    }
   ],
   "source": [
    "a_list = [1, 2, 3, 4, 5]\n",
    "\n",
    "minimum, maximum, ortalama = basic_statistics(a_list)\n",
    "\n",
    "print(\"min:\", minimum)\n",
    "print(\"max:\", maximum)\n",
    "print(\"mean:\", ortalama)"
   ]
  },
  {
   "cell_type": "markdown",
   "id": "758fb359-7273-444b-869d-c2e332eb9959",
   "metadata": {},
   "source": [
    "### 5.3  `zip()` function"
   ]
  },
  {
   "cell_type": "markdown",
   "id": "5d6a556f-36f8-4730-b620-405e3caadaf9",
   "metadata": {},
   "source": [
    "The zip function takes the corresponding elements from each array and creates a tuple. \n",
    "\n",
    "This returns a zip object made up of tuples."
   ]
  },
  {
   "cell_type": "code",
   "execution_count": 35,
   "id": "41a0af13-e866-4f76-9157-115df4804417",
   "metadata": {},
   "outputs": [
    {
     "name": "stdout",
     "output_type": "stream",
     "text": [
      "<zip object at 0x0000022DDE970080>\n"
     ]
    }
   ],
   "source": [
    "text = 'xyzt'\n",
    "a_list = [1, 2, 3, 4]\n",
    "\n",
    "zipper = zip(text, a_list)\n",
    "\n",
    "print(zipper)"
   ]
  },
  {
   "cell_type": "code",
   "execution_count": 36,
   "id": "90d989a8-d761-408e-9a08-4fd942f01250",
   "metadata": {},
   "outputs": [
    {
     "name": "stdout",
     "output_type": "stream",
     "text": [
      "('x', 1)\n",
      "('y', 2)\n",
      "('z', 3)\n",
      "('t', 4)\n"
     ]
    }
   ],
   "source": [
    "for z in zipper:\n",
    "    print(z)\n"
   ]
  },
  {
   "cell_type": "markdown",
   "id": "aa0d36ea-0830-4e64-90b6-a3b55266240e",
   "metadata": {},
   "source": [
    "As you can see, each element inside the zipper is a tuple.\n",
    "\n",
    "And the first element of each tuple is from the text array, the second element is from the list array.\n",
    "\n",
    "Thus, the elements were zipped to each other (in the same index) in a row."
   ]
  },
  {
   "cell_type": "code",
   "execution_count": 37,
   "id": "febf628d-84aa-4340-a524-39e5cbd34829",
   "metadata": {},
   "outputs": [
    {
     "ename": "TypeError",
     "evalue": "'zip' object is not subscriptable",
     "output_type": "error",
     "traceback": [
      "\u001b[1;31m---------------------------------------------------------------------------\u001b[0m",
      "\u001b[1;31mTypeError\u001b[0m                                 Traceback (most recent call last)",
      "Input \u001b[1;32mIn [37]\u001b[0m, in \u001b[0;36m<cell line: 3>\u001b[1;34m()\u001b[0m\n\u001b[0;32m      1\u001b[0m \u001b[38;5;66;03m# Let's call zip() with index\u001b[39;00m\n\u001b[1;32m----> 3\u001b[0m \u001b[43mzipper\u001b[49m\u001b[43m[\u001b[49m\u001b[38;5;241;43m0\u001b[39;49m\u001b[43m]\u001b[49m\n",
      "\u001b[1;31mTypeError\u001b[0m: 'zip' object is not subscriptable"
     ]
    }
   ],
   "source": [
    "# Let's call zip() with index\n",
    "\n",
    "zipper[0]"
   ]
  },
  {
   "cell_type": "markdown",
   "id": "73289a52-4ebe-4611-91ed-f899855f0a08",
   "metadata": {},
   "source": [
    "We can use index structure only in list . \n",
    "\n",
    "That's why we need to convert our zip type variable to a list."
   ]
  },
  {
   "cell_type": "code",
   "execution_count": 38,
   "id": "b70df859-72d1-4319-a657-862034bc02db",
   "metadata": {},
   "outputs": [
    {
     "data": {
      "text/plain": [
       "[]"
      ]
     },
     "execution_count": 38,
     "metadata": {},
     "output_type": "execute_result"
    }
   ],
   "source": [
    "zipper_list = list(zipper)\n",
    "zipper_list"
   ]
  },
  {
   "cell_type": "markdown",
   "id": "2a50bd61-ef04-4eaf-adf4-97692b055521",
   "metadata": {},
   "source": [
    "**why is it returned an empty list?**"
   ]
  },
  {
   "cell_type": "markdown",
   "id": "6b5977ae-8685-41e0-9e8e-88a2e61c5b10",
   "metadata": {},
   "source": [
    "This is because iterators in Python do iterate on their elements once.\n",
    "\n",
    "Once the returning is done and completed, the iterator now returns to the empty list.\n",
    "\n",
    "The purpose of this is to prevent the endless loop.\n",
    "\n",
    "Doing list() also means actually returning it, so it can only be done once."
   ]
  },
  {
   "cell_type": "markdown",
   "id": "c008ac2c-bf82-4f6f-845a-e8bb941b4a53",
   "metadata": {},
   "source": [
    "---"
   ]
  },
  {
   "cell_type": "markdown",
   "id": "694d25c9-12b2-4327-8782-65a58fc11c6e",
   "metadata": {},
   "source": [
    "**Question:** What if the two strings that are parameters to the zip() function are not the same length?\n",
    "\n",
    "**Answer:** They zip as much as the shorter string."
   ]
  },
  {
   "cell_type": "code",
   "execution_count": 39,
   "id": "9d7c9b9d-ad37-4d40-94ce-9d43de543d38",
   "metadata": {},
   "outputs": [
    {
     "name": "stdout",
     "output_type": "stream",
     "text": [
      "<zip object at 0x0000022DDEA05500>\n"
     ]
    }
   ],
   "source": [
    "d1 = ['A', 'B', 'C', 'D', 'E']\n",
    "d2 = [10, 20, 30]\n",
    "\n",
    "new_zipper = zip(d1, d2)\n",
    "\n",
    "print(new_zipper)"
   ]
  },
  {
   "cell_type": "code",
   "execution_count": 40,
   "id": "d35a78a3-7954-4a44-9a2a-d87d703352e0",
   "metadata": {},
   "outputs": [
    {
     "data": {
      "text/plain": [
       "[('A', 10), ('B', 20), ('C', 30)]"
      ]
     },
     "execution_count": 40,
     "metadata": {},
     "output_type": "execute_result"
    }
   ],
   "source": [
    "new_zipper_list = list(new_zipper)\n",
    "new_zipper_list"
   ]
  },
  {
   "cell_type": "markdown",
   "id": "63c15f93-8aa2-43d4-acd7-b5e86098f005",
   "metadata": {},
   "source": [
    "**EXERCISE:**\n",
    "\n",
    "Let's check the corresponding elements in the two given lists.\n",
    "\n",
    "If both are equal, let's print:"
   ]
  },
  {
   "cell_type": "code",
   "execution_count": 41,
   "id": "d639de6a-fb1d-4089-a47b-052d57b15e89",
   "metadata": {},
   "outputs": [
    {
     "name": "stdout",
     "output_type": "stream",
     "text": [
      "B\n",
      "d\n",
      "F\n"
     ]
    }
   ],
   "source": [
    "l1 = ['a', 'B', 'C', 'd', 'e', 'F']\n",
    "l2 = ['A', 'B', 'c', 'd', 'E', 'F']\n",
    "\n",
    "for e1, e2 in zip(l1, l2):\n",
    "    \n",
    "    if e1 == e2:\n",
    "        print(e1)"
   ]
  },
  {
   "cell_type": "code",
   "execution_count": null,
   "id": "cfe3c34f-a808-47f3-b846-46a9f7c7f71e",
   "metadata": {},
   "outputs": [],
   "source": []
  }
 ],
 "metadata": {
  "kernelspec": {
   "display_name": "Python 3 (ipykernel)",
   "language": "python",
   "name": "python3"
  },
  "language_info": {
   "codemirror_mode": {
    "name": "ipython",
    "version": 3
   },
   "file_extension": ".py",
   "mimetype": "text/x-python",
   "name": "python",
   "nbconvert_exporter": "python",
   "pygments_lexer": "ipython3",
   "version": "3.9.12"
  }
 },
 "nbformat": 4,
 "nbformat_minor": 5
}
